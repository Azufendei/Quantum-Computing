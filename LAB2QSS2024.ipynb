{
  "nbformat": 4,
  "nbformat_minor": 0,
  "metadata": {
    "colab": {
      "provenance": [],
      "authorship_tag": "ABX9TyPWymmgyUm3llff2z7HHAQw",
      "include_colab_link": true
    },
    "kernelspec": {
      "name": "python3",
      "display_name": "Python 3"
    },
    "language_info": {
      "name": "python"
    }
  },
  "cells": [
    {
      "cell_type": "markdown",
      "metadata": {
        "id": "view-in-github",
        "colab_type": "text"
      },
      "source": [
        "<a href=\"https://colab.research.google.com/github/Azufendei/Quantum-Computing/blob/main/LAB2QSS2024.ipynb\" target=\"_parent\"><img src=\"https://colab.research.google.com/assets/colab-badge.svg\" alt=\"Open In Colab\"/></a>"
      ]
    },
    {
      "cell_type": "markdown",
      "source": [
        "# Lab 2: Utility-Scale Layer Fidelity Experiment"
      ],
      "metadata": {
        "id": "AiWziDjadfu1"
      }
    },
    {
      "cell_type": "code",
      "source": [
        "!pip install qiskit[visualization]==1.1.0\n",
        "# Use the following if you are on MacOS/zsh\n",
        "#!pip install 'qiskit[visualization]'==1.1.0\n",
        "!pip install qiskit_aer\n",
        "!pip install qiskit_ibm_runtime\n",
        "!pip install matplotlib\n",
        "!pip install pylatexenc\n",
        "!pip install prototype-zne\n",
        "!pip install git+https://github.com/qiskit-community/Quantum-Challenge-Grader.git"
      ],
      "metadata": {
        "colab": {
          "base_uri": "https://localhost:8080/"
        },
        "id": "V22dMukkeedD",
        "outputId": "155f83e1-abc3-4d58-b931-5de08bbaa5ed"
      },
      "execution_count": null,
      "outputs": [
        {
          "output_type": "stream",
          "name": "stdout",
          "text": [
            "Collecting qiskit==1.1.0 (from qiskit[visualization]==1.1.0)\n",
            "  Downloading qiskit-1.1.0-cp38-abi3-manylinux_2_17_x86_64.manylinux2014_x86_64.whl.metadata (12 kB)\n",
            "Collecting rustworkx>=0.14.0 (from qiskit==1.1.0->qiskit[visualization]==1.1.0)\n",
            "  Downloading rustworkx-0.15.1-cp38-abi3-manylinux_2_17_x86_64.manylinux2014_x86_64.whl.metadata (9.9 kB)\n",
            "Requirement already satisfied: numpy<3,>=1.17 in /usr/local/lib/python3.10/dist-packages (from qiskit==1.1.0->qiskit[visualization]==1.1.0) (1.26.4)\n",
            "Requirement already satisfied: scipy>=1.5 in /usr/local/lib/python3.10/dist-packages (from qiskit==1.1.0->qiskit[visualization]==1.1.0) (1.13.1)\n",
            "Requirement already satisfied: sympy>=1.3 in /usr/local/lib/python3.10/dist-packages (from qiskit==1.1.0->qiskit[visualization]==1.1.0) (1.13.1)\n",
            "Collecting dill>=0.3 (from qiskit==1.1.0->qiskit[visualization]==1.1.0)\n",
            "  Downloading dill-0.3.8-py3-none-any.whl.metadata (10 kB)\n",
            "Requirement already satisfied: python-dateutil>=2.8.0 in /usr/local/lib/python3.10/dist-packages (from qiskit==1.1.0->qiskit[visualization]==1.1.0) (2.8.2)\n",
            "Collecting stevedore>=3.0.0 (from qiskit==1.1.0->qiskit[visualization]==1.1.0)\n",
            "  Downloading stevedore-5.2.0-py3-none-any.whl.metadata (2.3 kB)\n",
            "Requirement already satisfied: typing-extensions in /usr/local/lib/python3.10/dist-packages (from qiskit==1.1.0->qiskit[visualization]==1.1.0) (4.12.2)\n",
            "Collecting symengine>=0.11 (from qiskit==1.1.0->qiskit[visualization]==1.1.0)\n",
            "  Downloading symengine-0.11.0-cp310-cp310-manylinux_2_12_x86_64.manylinux2010_x86_64.whl.metadata (1.2 kB)\n",
            "Requirement already satisfied: matplotlib>=3.3 in /usr/local/lib/python3.10/dist-packages (from qiskit[visualization]==1.1.0) (3.7.1)\n",
            "Requirement already satisfied: pydot in /usr/local/lib/python3.10/dist-packages (from qiskit[visualization]==1.1.0) (1.4.2)\n",
            "Requirement already satisfied: Pillow>=4.2.1 in /usr/local/lib/python3.10/dist-packages (from qiskit[visualization]==1.1.0) (9.4.0)\n",
            "Collecting pylatexenc>=1.4 (from qiskit[visualization]==1.1.0)\n",
            "  Downloading pylatexenc-2.10.tar.gz (162 kB)\n",
            "\u001b[2K     \u001b[90m━━━━━━━━━━━━━━━━━━━━━━━━━━━━━━━━━━━━━━━━\u001b[0m \u001b[32m162.6/162.6 kB\u001b[0m \u001b[31m3.4 MB/s\u001b[0m eta \u001b[36m0:00:00\u001b[0m\n",
            "\u001b[?25h  Preparing metadata (setup.py) ... \u001b[?25l\u001b[?25hdone\n",
            "Requirement already satisfied: seaborn>=0.9.0 in /usr/local/lib/python3.10/dist-packages (from qiskit[visualization]==1.1.0) (0.13.1)\n",
            "Requirement already satisfied: contourpy>=1.0.1 in /usr/local/lib/python3.10/dist-packages (from matplotlib>=3.3->qiskit[visualization]==1.1.0) (1.2.1)\n",
            "Requirement already satisfied: cycler>=0.10 in /usr/local/lib/python3.10/dist-packages (from matplotlib>=3.3->qiskit[visualization]==1.1.0) (0.12.1)\n",
            "Requirement already satisfied: fonttools>=4.22.0 in /usr/local/lib/python3.10/dist-packages (from matplotlib>=3.3->qiskit[visualization]==1.1.0) (4.53.1)\n",
            "Requirement already satisfied: kiwisolver>=1.0.1 in /usr/local/lib/python3.10/dist-packages (from matplotlib>=3.3->qiskit[visualization]==1.1.0) (1.4.5)\n",
            "Requirement already satisfied: packaging>=20.0 in /usr/local/lib/python3.10/dist-packages (from matplotlib>=3.3->qiskit[visualization]==1.1.0) (24.1)\n",
            "Requirement already satisfied: pyparsing>=2.3.1 in /usr/local/lib/python3.10/dist-packages (from matplotlib>=3.3->qiskit[visualization]==1.1.0) (3.1.2)\n",
            "Requirement already satisfied: six>=1.5 in /usr/local/lib/python3.10/dist-packages (from python-dateutil>=2.8.0->qiskit==1.1.0->qiskit[visualization]==1.1.0) (1.16.0)\n",
            "Requirement already satisfied: pandas>=1.2 in /usr/local/lib/python3.10/dist-packages (from seaborn>=0.9.0->qiskit[visualization]==1.1.0) (2.1.4)\n",
            "Collecting pbr!=2.1.0,>=2.0.0 (from stevedore>=3.0.0->qiskit==1.1.0->qiskit[visualization]==1.1.0)\n",
            "  Downloading pbr-6.0.0-py2.py3-none-any.whl.metadata (1.3 kB)\n",
            "Requirement already satisfied: mpmath<1.4,>=1.1.0 in /usr/local/lib/python3.10/dist-packages (from sympy>=1.3->qiskit==1.1.0->qiskit[visualization]==1.1.0) (1.3.0)\n",
            "Requirement already satisfied: pytz>=2020.1 in /usr/local/lib/python3.10/dist-packages (from pandas>=1.2->seaborn>=0.9.0->qiskit[visualization]==1.1.0) (2024.1)\n",
            "Requirement already satisfied: tzdata>=2022.1 in /usr/local/lib/python3.10/dist-packages (from pandas>=1.2->seaborn>=0.9.0->qiskit[visualization]==1.1.0) (2024.1)\n",
            "Downloading qiskit-1.1.0-cp38-abi3-manylinux_2_17_x86_64.manylinux2014_x86_64.whl (4.3 MB)\n",
            "\u001b[2K   \u001b[90m━━━━━━━━━━━━━━━━━━━━━━━━━━━━━━━━━━━━━━━━\u001b[0m \u001b[32m4.3/4.3 MB\u001b[0m \u001b[31m29.5 MB/s\u001b[0m eta \u001b[36m0:00:00\u001b[0m\n",
            "\u001b[?25hDownloading dill-0.3.8-py3-none-any.whl (116 kB)\n",
            "\u001b[2K   \u001b[90m━━━━━━━━━━━━━━━━━━━━━━━━━━━━━━━━━━━━━━━━\u001b[0m \u001b[32m116.3/116.3 kB\u001b[0m \u001b[31m3.2 MB/s\u001b[0m eta \u001b[36m0:00:00\u001b[0m\n",
            "\u001b[?25hDownloading rustworkx-0.15.1-cp38-abi3-manylinux_2_17_x86_64.manylinux2014_x86_64.whl (2.0 MB)\n",
            "\u001b[2K   \u001b[90m━━━━━━━━━━━━━━━━━━━━━━━━━━━━━━━━━━━━━━━━\u001b[0m \u001b[32m2.0/2.0 MB\u001b[0m \u001b[31m29.6 MB/s\u001b[0m eta \u001b[36m0:00:00\u001b[0m\n",
            "\u001b[?25hDownloading stevedore-5.2.0-py3-none-any.whl (49 kB)\n",
            "\u001b[2K   \u001b[90m━━━━━━━━━━━━━━━━━━━━━━━━━━━━━━━━━━━━━━━━\u001b[0m \u001b[32m49.7/49.7 kB\u001b[0m \u001b[31m3.0 MB/s\u001b[0m eta \u001b[36m0:00:00\u001b[0m\n",
            "\u001b[?25hDownloading symengine-0.11.0-cp310-cp310-manylinux_2_12_x86_64.manylinux2010_x86_64.whl (39.4 MB)\n",
            "\u001b[2K   \u001b[90m━━━━━━━━━━━━━━━━━━━━━━━━━━━━━━━━━━━━━━━━\u001b[0m \u001b[32m39.4/39.4 MB\u001b[0m \u001b[31m11.2 MB/s\u001b[0m eta \u001b[36m0:00:00\u001b[0m\n",
            "\u001b[?25hDownloading pbr-6.0.0-py2.py3-none-any.whl (107 kB)\n",
            "\u001b[2K   \u001b[90m━━━━━━━━━━━━━━━━━━━━━━━━━━━━━━━━━━━━━━━━\u001b[0m \u001b[32m107.5/107.5 kB\u001b[0m \u001b[31m4.2 MB/s\u001b[0m eta \u001b[36m0:00:00\u001b[0m\n",
            "\u001b[?25hBuilding wheels for collected packages: pylatexenc\n",
            "  Building wheel for pylatexenc (setup.py) ... \u001b[?25l\u001b[?25hdone\n",
            "  Created wheel for pylatexenc: filename=pylatexenc-2.10-py3-none-any.whl size=136817 sha256=9073cd0ae36dd0d2aca693abb2f7de4b3a52faf4b93da1855da25277e52c03a5\n",
            "  Stored in directory: /root/.cache/pip/wheels/d3/31/8b/e09b0386afd80cfc556c00408c9aeea5c35c4d484a9c762fd5\n",
            "Successfully built pylatexenc\n",
            "Installing collected packages: pylatexenc, symengine, rustworkx, pbr, dill, stevedore, qiskit\n",
            "Successfully installed dill-0.3.8 pbr-6.0.0 pylatexenc-2.10 qiskit-1.1.0 rustworkx-0.15.1 stevedore-5.2.0 symengine-0.11.0\n",
            "Collecting qiskit_aer\n",
            "  Downloading qiskit_aer-0.14.2-cp310-cp310-manylinux_2_17_x86_64.manylinux2014_x86_64.whl.metadata (8.1 kB)\n",
            "Requirement already satisfied: qiskit>=0.45.2 in /usr/local/lib/python3.10/dist-packages (from qiskit_aer) (1.1.0)\n",
            "Requirement already satisfied: numpy>=1.16.3 in /usr/local/lib/python3.10/dist-packages (from qiskit_aer) (1.26.4)\n",
            "Requirement already satisfied: scipy>=1.0 in /usr/local/lib/python3.10/dist-packages (from qiskit_aer) (1.13.1)\n",
            "Requirement already satisfied: psutil>=5 in /usr/local/lib/python3.10/dist-packages (from qiskit_aer) (5.9.5)\n",
            "Requirement already satisfied: rustworkx>=0.14.0 in /usr/local/lib/python3.10/dist-packages (from qiskit>=0.45.2->qiskit_aer) (0.15.1)\n",
            "Requirement already satisfied: sympy>=1.3 in /usr/local/lib/python3.10/dist-packages (from qiskit>=0.45.2->qiskit_aer) (1.13.1)\n",
            "Requirement already satisfied: dill>=0.3 in /usr/local/lib/python3.10/dist-packages (from qiskit>=0.45.2->qiskit_aer) (0.3.8)\n",
            "Requirement already satisfied: python-dateutil>=2.8.0 in /usr/local/lib/python3.10/dist-packages (from qiskit>=0.45.2->qiskit_aer) (2.8.2)\n",
            "Requirement already satisfied: stevedore>=3.0.0 in /usr/local/lib/python3.10/dist-packages (from qiskit>=0.45.2->qiskit_aer) (5.2.0)\n",
            "Requirement already satisfied: typing-extensions in /usr/local/lib/python3.10/dist-packages (from qiskit>=0.45.2->qiskit_aer) (4.12.2)\n",
            "Requirement already satisfied: symengine>=0.11 in /usr/local/lib/python3.10/dist-packages (from qiskit>=0.45.2->qiskit_aer) (0.11.0)\n",
            "Requirement already satisfied: six>=1.5 in /usr/local/lib/python3.10/dist-packages (from python-dateutil>=2.8.0->qiskit>=0.45.2->qiskit_aer) (1.16.0)\n",
            "Requirement already satisfied: pbr!=2.1.0,>=2.0.0 in /usr/local/lib/python3.10/dist-packages (from stevedore>=3.0.0->qiskit>=0.45.2->qiskit_aer) (6.0.0)\n",
            "Requirement already satisfied: mpmath<1.4,>=1.1.0 in /usr/local/lib/python3.10/dist-packages (from sympy>=1.3->qiskit>=0.45.2->qiskit_aer) (1.3.0)\n",
            "Downloading qiskit_aer-0.14.2-cp310-cp310-manylinux_2_17_x86_64.manylinux2014_x86_64.whl (12.4 MB)\n",
            "\u001b[2K   \u001b[90m━━━━━━━━━━━━━━━━━━━━━━━━━━━━━━━━━━━━━━━━\u001b[0m \u001b[32m12.4/12.4 MB\u001b[0m \u001b[31m40.7 MB/s\u001b[0m eta \u001b[36m0:00:00\u001b[0m\n",
            "\u001b[?25hInstalling collected packages: qiskit_aer\n",
            "Successfully installed qiskit_aer-0.14.2\n",
            "Collecting qiskit_ibm_runtime\n",
            "  Downloading qiskit_ibm_runtime-0.25.0-py3-none-any.whl.metadata (19 kB)\n",
            "Requirement already satisfied: requests>=2.19 in /usr/local/lib/python3.10/dist-packages (from qiskit_ibm_runtime) (2.31.0)\n",
            "Collecting requests-ntlm>=1.1.0 (from qiskit_ibm_runtime)\n",
            "  Downloading requests_ntlm-1.3.0-py3-none-any.whl.metadata (2.4 kB)\n",
            "Requirement already satisfied: numpy>=1.13 in /usr/local/lib/python3.10/dist-packages (from qiskit_ibm_runtime) (1.26.4)\n",
            "Requirement already satisfied: urllib3>=1.21.1 in /usr/local/lib/python3.10/dist-packages (from qiskit_ibm_runtime) (2.0.7)\n",
            "Requirement already satisfied: python-dateutil>=2.8.0 in /usr/local/lib/python3.10/dist-packages (from qiskit_ibm_runtime) (2.8.2)\n",
            "Requirement already satisfied: websocket-client>=1.5.1 in /usr/local/lib/python3.10/dist-packages (from qiskit_ibm_runtime) (1.8.0)\n",
            "Collecting ibm-platform-services>=0.22.6 (from qiskit_ibm_runtime)\n",
            "  Downloading ibm-platform-services-0.55.2.tar.gz (323 kB)\n",
            "\u001b[2K     \u001b[90m━━━━━━━━━━━━━━━━━━━━━━━━━━━━━━━━━━━━━━━━\u001b[0m \u001b[32m323.1/323.1 kB\u001b[0m \u001b[31m7.3 MB/s\u001b[0m eta \u001b[36m0:00:00\u001b[0m\n",
            "\u001b[?25h  Installing build dependencies ... \u001b[?25l\u001b[?25hdone\n",
            "  Getting requirements to build wheel ... \u001b[?25l\u001b[?25hdone\n",
            "  Preparing metadata (pyproject.toml) ... \u001b[?25l\u001b[?25hdone\n",
            "Requirement already satisfied: pydantic>=2.5.0 in /usr/local/lib/python3.10/dist-packages (from qiskit_ibm_runtime) (2.8.2)\n",
            "Requirement already satisfied: qiskit>=1.1.0 in /usr/local/lib/python3.10/dist-packages (from qiskit_ibm_runtime) (1.1.0)\n",
            "Collecting ibm-cloud-sdk-core<4.0.0,>=3.20.4 (from ibm-platform-services>=0.22.6->qiskit_ibm_runtime)\n",
            "  Downloading ibm-cloud-sdk-core-3.20.4.tar.gz (62 kB)\n",
            "\u001b[2K     \u001b[90m━━━━━━━━━━━━━━━━━━━━━━━━━━━━━━━━━━━━━━━━\u001b[0m \u001b[32m62.5/62.5 kB\u001b[0m \u001b[31m4.4 MB/s\u001b[0m eta \u001b[36m0:00:00\u001b[0m\n",
            "\u001b[?25h  Installing build dependencies ... \u001b[?25l\u001b[?25hdone\n",
            "  Getting requirements to build wheel ... \u001b[?25l\u001b[?25hdone\n",
            "  Preparing metadata (pyproject.toml) ... \u001b[?25l\u001b[?25hdone\n",
            "Requirement already satisfied: annotated-types>=0.4.0 in /usr/local/lib/python3.10/dist-packages (from pydantic>=2.5.0->qiskit_ibm_runtime) (0.7.0)\n",
            "Requirement already satisfied: pydantic-core==2.20.1 in /usr/local/lib/python3.10/dist-packages (from pydantic>=2.5.0->qiskit_ibm_runtime) (2.20.1)\n",
            "Requirement already satisfied: typing-extensions>=4.6.1 in /usr/local/lib/python3.10/dist-packages (from pydantic>=2.5.0->qiskit_ibm_runtime) (4.12.2)\n",
            "Requirement already satisfied: six>=1.5 in /usr/local/lib/python3.10/dist-packages (from python-dateutil>=2.8.0->qiskit_ibm_runtime) (1.16.0)\n",
            "Requirement already satisfied: rustworkx>=0.14.0 in /usr/local/lib/python3.10/dist-packages (from qiskit>=1.1.0->qiskit_ibm_runtime) (0.15.1)\n",
            "Requirement already satisfied: scipy>=1.5 in /usr/local/lib/python3.10/dist-packages (from qiskit>=1.1.0->qiskit_ibm_runtime) (1.13.1)\n",
            "Requirement already satisfied: sympy>=1.3 in /usr/local/lib/python3.10/dist-packages (from qiskit>=1.1.0->qiskit_ibm_runtime) (1.13.1)\n",
            "Requirement already satisfied: dill>=0.3 in /usr/local/lib/python3.10/dist-packages (from qiskit>=1.1.0->qiskit_ibm_runtime) (0.3.8)\n",
            "Requirement already satisfied: stevedore>=3.0.0 in /usr/local/lib/python3.10/dist-packages (from qiskit>=1.1.0->qiskit_ibm_runtime) (5.2.0)\n",
            "Requirement already satisfied: symengine>=0.11 in /usr/local/lib/python3.10/dist-packages (from qiskit>=1.1.0->qiskit_ibm_runtime) (0.11.0)\n",
            "Requirement already satisfied: charset-normalizer<4,>=2 in /usr/local/lib/python3.10/dist-packages (from requests>=2.19->qiskit_ibm_runtime) (3.3.2)\n",
            "Requirement already satisfied: idna<4,>=2.5 in /usr/local/lib/python3.10/dist-packages (from requests>=2.19->qiskit_ibm_runtime) (3.7)\n",
            "Requirement already satisfied: certifi>=2017.4.17 in /usr/local/lib/python3.10/dist-packages (from requests>=2.19->qiskit_ibm_runtime) (2024.7.4)\n",
            "Requirement already satisfied: cryptography>=1.3 in /usr/local/lib/python3.10/dist-packages (from requests-ntlm>=1.1.0->qiskit_ibm_runtime) (42.0.8)\n",
            "Collecting pyspnego>=0.4.0 (from requests-ntlm>=1.1.0->qiskit_ibm_runtime)\n",
            "  Downloading pyspnego-0.11.1-py3-none-any.whl.metadata (5.4 kB)\n",
            "Requirement already satisfied: cffi>=1.12 in /usr/local/lib/python3.10/dist-packages (from cryptography>=1.3->requests-ntlm>=1.1.0->qiskit_ibm_runtime) (1.16.0)\n",
            "Collecting urllib3>=1.21.1 (from qiskit_ibm_runtime)\n",
            "  Downloading urllib3-2.2.2-py3-none-any.whl.metadata (6.4 kB)\n",
            "Requirement already satisfied: PyJWT<3.0.0,>=2.8.0 in /usr/local/lib/python3.10/dist-packages (from ibm-cloud-sdk-core<4.0.0,>=3.20.4->ibm-platform-services>=0.22.6->qiskit_ibm_runtime) (2.8.0)\n",
            "Requirement already satisfied: pbr!=2.1.0,>=2.0.0 in /usr/local/lib/python3.10/dist-packages (from stevedore>=3.0.0->qiskit>=1.1.0->qiskit_ibm_runtime) (6.0.0)\n",
            "Requirement already satisfied: mpmath<1.4,>=1.1.0 in /usr/local/lib/python3.10/dist-packages (from sympy>=1.3->qiskit>=1.1.0->qiskit_ibm_runtime) (1.3.0)\n",
            "Requirement already satisfied: pycparser in /usr/local/lib/python3.10/dist-packages (from cffi>=1.12->cryptography>=1.3->requests-ntlm>=1.1.0->qiskit_ibm_runtime) (2.22)\n",
            "Downloading qiskit_ibm_runtime-0.25.0-py3-none-any.whl (2.9 MB)\n",
            "\u001b[2K   \u001b[90m━━━━━━━━━━━━━━━━━━━━━━━━━━━━━━━━━━━━━━━━\u001b[0m \u001b[32m2.9/2.9 MB\u001b[0m \u001b[31m68.5 MB/s\u001b[0m eta \u001b[36m0:00:00\u001b[0m\n",
            "\u001b[?25hDownloading requests_ntlm-1.3.0-py3-none-any.whl (6.6 kB)\n",
            "Downloading urllib3-2.2.2-py3-none-any.whl (121 kB)\n",
            "\u001b[2K   \u001b[90m━━━━━━━━━━━━━━━━━━━━━━━━━━━━━━━━━━━━━━━━\u001b[0m \u001b[32m121.4/121.4 kB\u001b[0m \u001b[31m8.0 MB/s\u001b[0m eta \u001b[36m0:00:00\u001b[0m\n",
            "\u001b[?25hDownloading pyspnego-0.11.1-py3-none-any.whl (130 kB)\n",
            "\u001b[2K   \u001b[90m━━━━━━━━━━━━━━━━━━━━━━━━━━━━━━━━━━━━━━━━\u001b[0m \u001b[32m130.5/130.5 kB\u001b[0m \u001b[31m10.1 MB/s\u001b[0m eta \u001b[36m0:00:00\u001b[0m\n",
            "\u001b[?25hBuilding wheels for collected packages: ibm-platform-services, ibm-cloud-sdk-core\n",
            "  Building wheel for ibm-platform-services (pyproject.toml) ... \u001b[?25l\u001b[?25hdone\n",
            "  Created wheel for ibm-platform-services: filename=ibm_platform_services-0.55.2-py3-none-any.whl size=339687 sha256=63d5a0822e9d5ded56f724c19b79482a73fe28644ecc44573d4ae49fd984019a\n",
            "  Stored in directory: /root/.cache/pip/wheels/af/ef/67/6c17a948d54c37e26b0c927dc206d95a258e9a3f7ba7014c67\n",
            "  Building wheel for ibm-cloud-sdk-core (pyproject.toml) ... \u001b[?25l\u001b[?25hdone\n",
            "  Created wheel for ibm-cloud-sdk-core: filename=ibm_cloud_sdk_core-3.20.4-py3-none-any.whl size=102561 sha256=05a7a0b3db81c5a92f2d4cd19882019432265f9350e725afd93c23781f534e37\n",
            "  Stored in directory: /root/.cache/pip/wheels/b9/ce/35/49177324cf29a507d20ea78e9b859a56a449fdc92d3b617ead\n",
            "Successfully built ibm-platform-services ibm-cloud-sdk-core\n",
            "Installing collected packages: urllib3, pyspnego, ibm-cloud-sdk-core, requests-ntlm, ibm-platform-services, qiskit_ibm_runtime\n",
            "  Attempting uninstall: urllib3\n",
            "    Found existing installation: urllib3 2.0.7\n",
            "    Uninstalling urllib3-2.0.7:\n",
            "      Successfully uninstalled urllib3-2.0.7\n",
            "Successfully installed ibm-cloud-sdk-core-3.20.4 ibm-platform-services-0.55.2 pyspnego-0.11.1 qiskit_ibm_runtime-0.25.0 requests-ntlm-1.3.0 urllib3-2.2.2\n",
            "Requirement already satisfied: matplotlib in /usr/local/lib/python3.10/dist-packages (3.7.1)\n",
            "Requirement already satisfied: contourpy>=1.0.1 in /usr/local/lib/python3.10/dist-packages (from matplotlib) (1.2.1)\n",
            "Requirement already satisfied: cycler>=0.10 in /usr/local/lib/python3.10/dist-packages (from matplotlib) (0.12.1)\n",
            "Requirement already satisfied: fonttools>=4.22.0 in /usr/local/lib/python3.10/dist-packages (from matplotlib) (4.53.1)\n",
            "Requirement already satisfied: kiwisolver>=1.0.1 in /usr/local/lib/python3.10/dist-packages (from matplotlib) (1.4.5)\n",
            "Requirement already satisfied: numpy>=1.20 in /usr/local/lib/python3.10/dist-packages (from matplotlib) (1.26.4)\n",
            "Requirement already satisfied: packaging>=20.0 in /usr/local/lib/python3.10/dist-packages (from matplotlib) (24.1)\n",
            "Requirement already satisfied: pillow>=6.2.0 in /usr/local/lib/python3.10/dist-packages (from matplotlib) (9.4.0)\n",
            "Requirement already satisfied: pyparsing>=2.3.1 in /usr/local/lib/python3.10/dist-packages (from matplotlib) (3.1.2)\n",
            "Requirement already satisfied: python-dateutil>=2.7 in /usr/local/lib/python3.10/dist-packages (from matplotlib) (2.8.2)\n",
            "Requirement already satisfied: six>=1.5 in /usr/local/lib/python3.10/dist-packages (from python-dateutil>=2.7->matplotlib) (1.16.0)\n",
            "Requirement already satisfied: pylatexenc in /usr/local/lib/python3.10/dist-packages (2.10)\n",
            "Collecting prototype-zne\n",
            "  Downloading prototype_zne-1.3.1-py3-none-any.whl.metadata (11 kB)\n",
            "Requirement already satisfied: qiskit>=0.45.1 in /usr/local/lib/python3.10/dist-packages (from prototype-zne) (1.1.0)\n",
            "Requirement already satisfied: rustworkx>=0.14.0 in /usr/local/lib/python3.10/dist-packages (from qiskit>=0.45.1->prototype-zne) (0.15.1)\n",
            "Requirement already satisfied: numpy<3,>=1.17 in /usr/local/lib/python3.10/dist-packages (from qiskit>=0.45.1->prototype-zne) (1.26.4)\n",
            "Requirement already satisfied: scipy>=1.5 in /usr/local/lib/python3.10/dist-packages (from qiskit>=0.45.1->prototype-zne) (1.13.1)\n",
            "Requirement already satisfied: sympy>=1.3 in /usr/local/lib/python3.10/dist-packages (from qiskit>=0.45.1->prototype-zne) (1.13.1)\n",
            "Requirement already satisfied: dill>=0.3 in /usr/local/lib/python3.10/dist-packages (from qiskit>=0.45.1->prototype-zne) (0.3.8)\n",
            "Requirement already satisfied: python-dateutil>=2.8.0 in /usr/local/lib/python3.10/dist-packages (from qiskit>=0.45.1->prototype-zne) (2.8.2)\n",
            "Requirement already satisfied: stevedore>=3.0.0 in /usr/local/lib/python3.10/dist-packages (from qiskit>=0.45.1->prototype-zne) (5.2.0)\n",
            "Requirement already satisfied: typing-extensions in /usr/local/lib/python3.10/dist-packages (from qiskit>=0.45.1->prototype-zne) (4.12.2)\n",
            "Requirement already satisfied: symengine>=0.11 in /usr/local/lib/python3.10/dist-packages (from qiskit>=0.45.1->prototype-zne) (0.11.0)\n",
            "Requirement already satisfied: six>=1.5 in /usr/local/lib/python3.10/dist-packages (from python-dateutil>=2.8.0->qiskit>=0.45.1->prototype-zne) (1.16.0)\n",
            "Requirement already satisfied: pbr!=2.1.0,>=2.0.0 in /usr/local/lib/python3.10/dist-packages (from stevedore>=3.0.0->qiskit>=0.45.1->prototype-zne) (6.0.0)\n",
            "Requirement already satisfied: mpmath<1.4,>=1.1.0 in /usr/local/lib/python3.10/dist-packages (from sympy>=1.3->qiskit>=0.45.1->prototype-zne) (1.3.0)\n",
            "Downloading prototype_zne-1.3.1-py3-none-any.whl (56 kB)\n",
            "\u001b[2K   \u001b[90m━━━━━━━━━━━━━━━━━━━━━━━━━━━━━━━━━━━━━━━━\u001b[0m \u001b[32m56.5/56.5 kB\u001b[0m \u001b[31m3.9 MB/s\u001b[0m eta \u001b[36m0:00:00\u001b[0m\n",
            "\u001b[?25hInstalling collected packages: prototype-zne\n",
            "Successfully installed prototype-zne-1.3.1\n",
            "Collecting git+https://github.com/qiskit-community/Quantum-Challenge-Grader.git\n",
            "  Cloning https://github.com/qiskit-community/Quantum-Challenge-Grader.git to /tmp/pip-req-build-7ibdmw2q\n",
            "  Running command git clone --filter=blob:none --quiet https://github.com/qiskit-community/Quantum-Challenge-Grader.git /tmp/pip-req-build-7ibdmw2q\n",
            "  Resolved https://github.com/qiskit-community/Quantum-Challenge-Grader.git to commit bcaff898473fd54f3e2668f162817947787f7268\n",
            "  Preparing metadata (setup.py) ... \u001b[?25l\u001b[?25hdone\n",
            "Requirement already satisfied: typeguard in /usr/local/lib/python3.10/dist-packages (from qc_grader==0.19.7) (4.3.0)\n",
            "Collecting jsonpickle==3.0.3 (from qc_grader==0.19.7)\n",
            "  Downloading jsonpickle-3.0.3-py3-none-any.whl.metadata (7.3 kB)\n",
            "Collecting ipycytoscape (from qc_grader==0.19.7)\n",
            "  Downloading ipycytoscape-1.3.3-py2.py3-none-any.whl.metadata (7.5 kB)\n",
            "Requirement already satisfied: plotly in /usr/local/lib/python3.10/dist-packages (from qc_grader==0.19.7) (5.15.0)\n",
            "Collecting networkx==3.2.1 (from qc_grader==0.19.7)\n",
            "  Downloading networkx-3.2.1-py3-none-any.whl.metadata (5.2 kB)\n",
            "Requirement already satisfied: graphviz in /usr/local/lib/python3.10/dist-packages (from qc_grader==0.19.7) (0.20.3)\n",
            "Requirement already satisfied: ipywidgets>=7.6.0 in /usr/local/lib/python3.10/dist-packages (from ipycytoscape->qc_grader==0.19.7) (7.7.1)\n",
            "Collecting spectate>=1.0.0 (from ipycytoscape->qc_grader==0.19.7)\n",
            "  Downloading spectate-1.0.1-py2.py3-none-any.whl.metadata (2.2 kB)\n",
            "Requirement already satisfied: tenacity>=6.2.0 in /usr/local/lib/python3.10/dist-packages (from plotly->qc_grader==0.19.7) (8.5.0)\n",
            "Requirement already satisfied: packaging in /usr/local/lib/python3.10/dist-packages (from plotly->qc_grader==0.19.7) (24.1)\n",
            "Requirement already satisfied: typing-extensions>=4.10.0 in /usr/local/lib/python3.10/dist-packages (from typeguard->qc_grader==0.19.7) (4.12.2)\n",
            "Requirement already satisfied: ipykernel>=4.5.1 in /usr/local/lib/python3.10/dist-packages (from ipywidgets>=7.6.0->ipycytoscape->qc_grader==0.19.7) (5.5.6)\n",
            "Requirement already satisfied: ipython-genutils~=0.2.0 in /usr/local/lib/python3.10/dist-packages (from ipywidgets>=7.6.0->ipycytoscape->qc_grader==0.19.7) (0.2.0)\n",
            "Requirement already satisfied: traitlets>=4.3.1 in /usr/local/lib/python3.10/dist-packages (from ipywidgets>=7.6.0->ipycytoscape->qc_grader==0.19.7) (5.7.1)\n",
            "Requirement already satisfied: widgetsnbextension~=3.6.0 in /usr/local/lib/python3.10/dist-packages (from ipywidgets>=7.6.0->ipycytoscape->qc_grader==0.19.7) (3.6.7)\n",
            "Requirement already satisfied: ipython>=4.0.0 in /usr/local/lib/python3.10/dist-packages (from ipywidgets>=7.6.0->ipycytoscape->qc_grader==0.19.7) (7.34.0)\n",
            "Requirement already satisfied: jupyterlab-widgets>=1.0.0 in /usr/local/lib/python3.10/dist-packages (from ipywidgets>=7.6.0->ipycytoscape->qc_grader==0.19.7) (3.0.11)\n",
            "Requirement already satisfied: jupyter-client in /usr/local/lib/python3.10/dist-packages (from ipykernel>=4.5.1->ipywidgets>=7.6.0->ipycytoscape->qc_grader==0.19.7) (6.1.12)\n",
            "Requirement already satisfied: tornado>=4.2 in /usr/local/lib/python3.10/dist-packages (from ipykernel>=4.5.1->ipywidgets>=7.6.0->ipycytoscape->qc_grader==0.19.7) (6.3.3)\n",
            "Requirement already satisfied: setuptools>=18.5 in /usr/local/lib/python3.10/dist-packages (from ipython>=4.0.0->ipywidgets>=7.6.0->ipycytoscape->qc_grader==0.19.7) (71.0.4)\n",
            "Collecting jedi>=0.16 (from ipython>=4.0.0->ipywidgets>=7.6.0->ipycytoscape->qc_grader==0.19.7)\n",
            "  Downloading jedi-0.19.1-py2.py3-none-any.whl.metadata (22 kB)\n",
            "Requirement already satisfied: decorator in /usr/local/lib/python3.10/dist-packages (from ipython>=4.0.0->ipywidgets>=7.6.0->ipycytoscape->qc_grader==0.19.7) (4.4.2)\n",
            "Requirement already satisfied: pickleshare in /usr/local/lib/python3.10/dist-packages (from ipython>=4.0.0->ipywidgets>=7.6.0->ipycytoscape->qc_grader==0.19.7) (0.7.5)\n",
            "Requirement already satisfied: prompt-toolkit!=3.0.0,!=3.0.1,<3.1.0,>=2.0.0 in /usr/local/lib/python3.10/dist-packages (from ipython>=4.0.0->ipywidgets>=7.6.0->ipycytoscape->qc_grader==0.19.7) (3.0.47)\n",
            "Requirement already satisfied: pygments in /usr/local/lib/python3.10/dist-packages (from ipython>=4.0.0->ipywidgets>=7.6.0->ipycytoscape->qc_grader==0.19.7) (2.16.1)\n",
            "Requirement already satisfied: backcall in /usr/local/lib/python3.10/dist-packages (from ipython>=4.0.0->ipywidgets>=7.6.0->ipycytoscape->qc_grader==0.19.7) (0.2.0)\n",
            "Requirement already satisfied: matplotlib-inline in /usr/local/lib/python3.10/dist-packages (from ipython>=4.0.0->ipywidgets>=7.6.0->ipycytoscape->qc_grader==0.19.7) (0.1.7)\n",
            "Requirement already satisfied: pexpect>4.3 in /usr/local/lib/python3.10/dist-packages (from ipython>=4.0.0->ipywidgets>=7.6.0->ipycytoscape->qc_grader==0.19.7) (4.9.0)\n",
            "Requirement already satisfied: notebook>=4.4.1 in /usr/local/lib/python3.10/dist-packages (from widgetsnbextension~=3.6.0->ipywidgets>=7.6.0->ipycytoscape->qc_grader==0.19.7) (6.5.5)\n",
            "Requirement already satisfied: parso<0.9.0,>=0.8.3 in /usr/local/lib/python3.10/dist-packages (from jedi>=0.16->ipython>=4.0.0->ipywidgets>=7.6.0->ipycytoscape->qc_grader==0.19.7) (0.8.4)\n",
            "Requirement already satisfied: jinja2 in /usr/local/lib/python3.10/dist-packages (from notebook>=4.4.1->widgetsnbextension~=3.6.0->ipywidgets>=7.6.0->ipycytoscape->qc_grader==0.19.7) (3.1.4)\n",
            "Requirement already satisfied: pyzmq<25,>=17 in /usr/local/lib/python3.10/dist-packages (from notebook>=4.4.1->widgetsnbextension~=3.6.0->ipywidgets>=7.6.0->ipycytoscape->qc_grader==0.19.7) (24.0.1)\n",
            "Requirement already satisfied: argon2-cffi in /usr/local/lib/python3.10/dist-packages (from notebook>=4.4.1->widgetsnbextension~=3.6.0->ipywidgets>=7.6.0->ipycytoscape->qc_grader==0.19.7) (23.1.0)\n",
            "Requirement already satisfied: jupyter-core>=4.6.1 in /usr/local/lib/python3.10/dist-packages (from notebook>=4.4.1->widgetsnbextension~=3.6.0->ipywidgets>=7.6.0->ipycytoscape->qc_grader==0.19.7) (5.7.2)\n",
            "Requirement already satisfied: nbformat in /usr/local/lib/python3.10/dist-packages (from notebook>=4.4.1->widgetsnbextension~=3.6.0->ipywidgets>=7.6.0->ipycytoscape->qc_grader==0.19.7) (5.10.4)\n",
            "Requirement already satisfied: nbconvert>=5 in /usr/local/lib/python3.10/dist-packages (from notebook>=4.4.1->widgetsnbextension~=3.6.0->ipywidgets>=7.6.0->ipycytoscape->qc_grader==0.19.7) (6.5.4)\n",
            "Requirement already satisfied: nest-asyncio>=1.5 in /usr/local/lib/python3.10/dist-packages (from notebook>=4.4.1->widgetsnbextension~=3.6.0->ipywidgets>=7.6.0->ipycytoscape->qc_grader==0.19.7) (1.6.0)\n",
            "Requirement already satisfied: Send2Trash>=1.8.0 in /usr/local/lib/python3.10/dist-packages (from notebook>=4.4.1->widgetsnbextension~=3.6.0->ipywidgets>=7.6.0->ipycytoscape->qc_grader==0.19.7) (1.8.3)\n",
            "Requirement already satisfied: terminado>=0.8.3 in /usr/local/lib/python3.10/dist-packages (from notebook>=4.4.1->widgetsnbextension~=3.6.0->ipywidgets>=7.6.0->ipycytoscape->qc_grader==0.19.7) (0.18.1)\n",
            "Requirement already satisfied: prometheus-client in /usr/local/lib/python3.10/dist-packages (from notebook>=4.4.1->widgetsnbextension~=3.6.0->ipywidgets>=7.6.0->ipycytoscape->qc_grader==0.19.7) (0.20.0)\n",
            "Requirement already satisfied: nbclassic>=0.4.7 in /usr/local/lib/python3.10/dist-packages (from notebook>=4.4.1->widgetsnbextension~=3.6.0->ipywidgets>=7.6.0->ipycytoscape->qc_grader==0.19.7) (1.1.0)\n",
            "Requirement already satisfied: python-dateutil>=2.1 in /usr/local/lib/python3.10/dist-packages (from jupyter-client->ipykernel>=4.5.1->ipywidgets>=7.6.0->ipycytoscape->qc_grader==0.19.7) (2.8.2)\n",
            "Requirement already satisfied: ptyprocess>=0.5 in /usr/local/lib/python3.10/dist-packages (from pexpect>4.3->ipython>=4.0.0->ipywidgets>=7.6.0->ipycytoscape->qc_grader==0.19.7) (0.7.0)\n",
            "Requirement already satisfied: wcwidth in /usr/local/lib/python3.10/dist-packages (from prompt-toolkit!=3.0.0,!=3.0.1,<3.1.0,>=2.0.0->ipython>=4.0.0->ipywidgets>=7.6.0->ipycytoscape->qc_grader==0.19.7) (0.2.13)\n",
            "Requirement already satisfied: platformdirs>=2.5 in /usr/local/lib/python3.10/dist-packages (from jupyter-core>=4.6.1->notebook>=4.4.1->widgetsnbextension~=3.6.0->ipywidgets>=7.6.0->ipycytoscape->qc_grader==0.19.7) (4.2.2)\n",
            "Requirement already satisfied: notebook-shim>=0.2.3 in /usr/local/lib/python3.10/dist-packages (from nbclassic>=0.4.7->notebook>=4.4.1->widgetsnbextension~=3.6.0->ipywidgets>=7.6.0->ipycytoscape->qc_grader==0.19.7) (0.2.4)\n",
            "Requirement already satisfied: lxml in /usr/local/lib/python3.10/dist-packages (from nbconvert>=5->notebook>=4.4.1->widgetsnbextension~=3.6.0->ipywidgets>=7.6.0->ipycytoscape->qc_grader==0.19.7) (4.9.4)\n",
            "Requirement already satisfied: beautifulsoup4 in /usr/local/lib/python3.10/dist-packages (from nbconvert>=5->notebook>=4.4.1->widgetsnbextension~=3.6.0->ipywidgets>=7.6.0->ipycytoscape->qc_grader==0.19.7) (4.12.3)\n",
            "Requirement already satisfied: bleach in /usr/local/lib/python3.10/dist-packages (from nbconvert>=5->notebook>=4.4.1->widgetsnbextension~=3.6.0->ipywidgets>=7.6.0->ipycytoscape->qc_grader==0.19.7) (6.1.0)\n",
            "Requirement already satisfied: defusedxml in /usr/local/lib/python3.10/dist-packages (from nbconvert>=5->notebook>=4.4.1->widgetsnbextension~=3.6.0->ipywidgets>=7.6.0->ipycytoscape->qc_grader==0.19.7) (0.7.1)\n",
            "Requirement already satisfied: entrypoints>=0.2.2 in /usr/local/lib/python3.10/dist-packages (from nbconvert>=5->notebook>=4.4.1->widgetsnbextension~=3.6.0->ipywidgets>=7.6.0->ipycytoscape->qc_grader==0.19.7) (0.4)\n",
            "Requirement already satisfied: jupyterlab-pygments in /usr/local/lib/python3.10/dist-packages (from nbconvert>=5->notebook>=4.4.1->widgetsnbextension~=3.6.0->ipywidgets>=7.6.0->ipycytoscape->qc_grader==0.19.7) (0.3.0)\n",
            "Requirement already satisfied: MarkupSafe>=2.0 in /usr/local/lib/python3.10/dist-packages (from nbconvert>=5->notebook>=4.4.1->widgetsnbextension~=3.6.0->ipywidgets>=7.6.0->ipycytoscape->qc_grader==0.19.7) (2.1.5)\n",
            "Requirement already satisfied: mistune<2,>=0.8.1 in /usr/local/lib/python3.10/dist-packages (from nbconvert>=5->notebook>=4.4.1->widgetsnbextension~=3.6.0->ipywidgets>=7.6.0->ipycytoscape->qc_grader==0.19.7) (0.8.4)\n",
            "Requirement already satisfied: nbclient>=0.5.0 in /usr/local/lib/python3.10/dist-packages (from nbconvert>=5->notebook>=4.4.1->widgetsnbextension~=3.6.0->ipywidgets>=7.6.0->ipycytoscape->qc_grader==0.19.7) (0.10.0)\n",
            "Requirement already satisfied: pandocfilters>=1.4.1 in /usr/local/lib/python3.10/dist-packages (from nbconvert>=5->notebook>=4.4.1->widgetsnbextension~=3.6.0->ipywidgets>=7.6.0->ipycytoscape->qc_grader==0.19.7) (1.5.1)\n",
            "Requirement already satisfied: tinycss2 in /usr/local/lib/python3.10/dist-packages (from nbconvert>=5->notebook>=4.4.1->widgetsnbextension~=3.6.0->ipywidgets>=7.6.0->ipycytoscape->qc_grader==0.19.7) (1.3.0)\n",
            "Requirement already satisfied: fastjsonschema>=2.15 in /usr/local/lib/python3.10/dist-packages (from nbformat->notebook>=4.4.1->widgetsnbextension~=3.6.0->ipywidgets>=7.6.0->ipycytoscape->qc_grader==0.19.7) (2.20.0)\n",
            "Requirement already satisfied: jsonschema>=2.6 in /usr/local/lib/python3.10/dist-packages (from nbformat->notebook>=4.4.1->widgetsnbextension~=3.6.0->ipywidgets>=7.6.0->ipycytoscape->qc_grader==0.19.7) (4.23.0)\n",
            "Requirement already satisfied: six>=1.5 in /usr/local/lib/python3.10/dist-packages (from python-dateutil>=2.1->jupyter-client->ipykernel>=4.5.1->ipywidgets>=7.6.0->ipycytoscape->qc_grader==0.19.7) (1.16.0)\n",
            "Requirement already satisfied: argon2-cffi-bindings in /usr/local/lib/python3.10/dist-packages (from argon2-cffi->notebook>=4.4.1->widgetsnbextension~=3.6.0->ipywidgets>=7.6.0->ipycytoscape->qc_grader==0.19.7) (21.2.0)\n",
            "Requirement already satisfied: attrs>=22.2.0 in /usr/local/lib/python3.10/dist-packages (from jsonschema>=2.6->nbformat->notebook>=4.4.1->widgetsnbextension~=3.6.0->ipywidgets>=7.6.0->ipycytoscape->qc_grader==0.19.7) (23.2.0)\n",
            "Requirement already satisfied: jsonschema-specifications>=2023.03.6 in /usr/local/lib/python3.10/dist-packages (from jsonschema>=2.6->nbformat->notebook>=4.4.1->widgetsnbextension~=3.6.0->ipywidgets>=7.6.0->ipycytoscape->qc_grader==0.19.7) (2023.12.1)\n",
            "Requirement already satisfied: referencing>=0.28.4 in /usr/local/lib/python3.10/dist-packages (from jsonschema>=2.6->nbformat->notebook>=4.4.1->widgetsnbextension~=3.6.0->ipywidgets>=7.6.0->ipycytoscape->qc_grader==0.19.7) (0.35.1)\n",
            "Requirement already satisfied: rpds-py>=0.7.1 in /usr/local/lib/python3.10/dist-packages (from jsonschema>=2.6->nbformat->notebook>=4.4.1->widgetsnbextension~=3.6.0->ipywidgets>=7.6.0->ipycytoscape->qc_grader==0.19.7) (0.19.1)\n",
            "Requirement already satisfied: jupyter-server<3,>=1.8 in /usr/local/lib/python3.10/dist-packages (from notebook-shim>=0.2.3->nbclassic>=0.4.7->notebook>=4.4.1->widgetsnbextension~=3.6.0->ipywidgets>=7.6.0->ipycytoscape->qc_grader==0.19.7) (1.24.0)\n",
            "Requirement already satisfied: cffi>=1.0.1 in /usr/local/lib/python3.10/dist-packages (from argon2-cffi-bindings->argon2-cffi->notebook>=4.4.1->widgetsnbextension~=3.6.0->ipywidgets>=7.6.0->ipycytoscape->qc_grader==0.19.7) (1.16.0)\n",
            "Requirement already satisfied: soupsieve>1.2 in /usr/local/lib/python3.10/dist-packages (from beautifulsoup4->nbconvert>=5->notebook>=4.4.1->widgetsnbextension~=3.6.0->ipywidgets>=7.6.0->ipycytoscape->qc_grader==0.19.7) (2.5)\n",
            "Requirement already satisfied: webencodings in /usr/local/lib/python3.10/dist-packages (from bleach->nbconvert>=5->notebook>=4.4.1->widgetsnbextension~=3.6.0->ipywidgets>=7.6.0->ipycytoscape->qc_grader==0.19.7) (0.5.1)\n",
            "Requirement already satisfied: pycparser in /usr/local/lib/python3.10/dist-packages (from cffi>=1.0.1->argon2-cffi-bindings->argon2-cffi->notebook>=4.4.1->widgetsnbextension~=3.6.0->ipywidgets>=7.6.0->ipycytoscape->qc_grader==0.19.7) (2.22)\n",
            "Requirement already satisfied: anyio<4,>=3.1.0 in /usr/local/lib/python3.10/dist-packages (from jupyter-server<3,>=1.8->notebook-shim>=0.2.3->nbclassic>=0.4.7->notebook>=4.4.1->widgetsnbextension~=3.6.0->ipywidgets>=7.6.0->ipycytoscape->qc_grader==0.19.7) (3.7.1)\n",
            "Requirement already satisfied: websocket-client in /usr/local/lib/python3.10/dist-packages (from jupyter-server<3,>=1.8->notebook-shim>=0.2.3->nbclassic>=0.4.7->notebook>=4.4.1->widgetsnbextension~=3.6.0->ipywidgets>=7.6.0->ipycytoscape->qc_grader==0.19.7) (1.8.0)\n",
            "Requirement already satisfied: idna>=2.8 in /usr/local/lib/python3.10/dist-packages (from anyio<4,>=3.1.0->jupyter-server<3,>=1.8->notebook-shim>=0.2.3->nbclassic>=0.4.7->notebook>=4.4.1->widgetsnbextension~=3.6.0->ipywidgets>=7.6.0->ipycytoscape->qc_grader==0.19.7) (3.7)\n",
            "Requirement already satisfied: sniffio>=1.1 in /usr/local/lib/python3.10/dist-packages (from anyio<4,>=3.1.0->jupyter-server<3,>=1.8->notebook-shim>=0.2.3->nbclassic>=0.4.7->notebook>=4.4.1->widgetsnbextension~=3.6.0->ipywidgets>=7.6.0->ipycytoscape->qc_grader==0.19.7) (1.3.1)\n",
            "Requirement already satisfied: exceptiongroup in /usr/local/lib/python3.10/dist-packages (from anyio<4,>=3.1.0->jupyter-server<3,>=1.8->notebook-shim>=0.2.3->nbclassic>=0.4.7->notebook>=4.4.1->widgetsnbextension~=3.6.0->ipywidgets>=7.6.0->ipycytoscape->qc_grader==0.19.7) (1.2.2)\n",
            "Downloading jsonpickle-3.0.3-py3-none-any.whl (40 kB)\n",
            "\u001b[2K   \u001b[90m━━━━━━━━━━━━━━━━━━━━━━━━━━━━━━━━━━━━━━━━\u001b[0m \u001b[32m40.8/40.8 kB\u001b[0m \u001b[31m2.2 MB/s\u001b[0m eta \u001b[36m0:00:00\u001b[0m\n",
            "\u001b[?25hDownloading networkx-3.2.1-py3-none-any.whl (1.6 MB)\n",
            "\u001b[2K   \u001b[90m━━━━━━━━━━━━━━━━━━━━━━━━━━━━━━━━━━━━━━━━\u001b[0m \u001b[32m1.6/1.6 MB\u001b[0m \u001b[31m43.8 MB/s\u001b[0m eta \u001b[36m0:00:00\u001b[0m\n",
            "\u001b[?25hDownloading ipycytoscape-1.3.3-py2.py3-none-any.whl (3.6 MB)\n",
            "\u001b[2K   \u001b[90m━━━━━━━━━━━━━━━━━━━━━━━━━━━━━━━━━━━━━━━━\u001b[0m \u001b[32m3.6/3.6 MB\u001b[0m \u001b[31m74.4 MB/s\u001b[0m eta \u001b[36m0:00:00\u001b[0m\n",
            "\u001b[?25hDownloading spectate-1.0.1-py2.py3-none-any.whl (11 kB)\n",
            "Downloading jedi-0.19.1-py2.py3-none-any.whl (1.6 MB)\n",
            "\u001b[2K   \u001b[90m━━━━━━━━━━━━━━━━━━━━━━━━━━━━━━━━━━━━━━━━\u001b[0m \u001b[32m1.6/1.6 MB\u001b[0m \u001b[31m57.8 MB/s\u001b[0m eta \u001b[36m0:00:00\u001b[0m\n",
            "\u001b[?25hBuilding wheels for collected packages: qc_grader\n",
            "  Building wheel for qc_grader (setup.py) ... \u001b[?25l\u001b[?25hdone\n",
            "  Created wheel for qc_grader: filename=qc_grader-0.19.7-py3-none-any.whl size=41436 sha256=b60302068aed1e100503feca8327f19373f4453a12690f702ee9db39eff8e89d\n",
            "  Stored in directory: /tmp/pip-ephem-wheel-cache-tm4v0n40/wheels/7e/67/91/88d6a5b4dd4beb318ed4e79c807e2be98b7d3c2ea66565a116\n",
            "Successfully built qc_grader\n",
            "Installing collected packages: spectate, networkx, jsonpickle, jedi, ipycytoscape, qc_grader\n",
            "  Attempting uninstall: networkx\n",
            "    Found existing installation: networkx 3.3\n",
            "    Uninstalling networkx-3.3:\n",
            "      Successfully uninstalled networkx-3.3\n",
            "  Attempting uninstall: jsonpickle\n",
            "    Found existing installation: jsonpickle 3.2.2\n",
            "    Uninstalling jsonpickle-3.2.2:\n",
            "      Successfully uninstalled jsonpickle-3.2.2\n",
            "\u001b[31mERROR: pip's dependency resolver does not currently take into account all the packages that are installed. This behaviour is the source of the following dependency conflicts.\n",
            "torch 2.3.1+cu121 requires nvidia-cublas-cu12==12.1.3.1; platform_system == \"Linux\" and platform_machine == \"x86_64\", which is not installed.\n",
            "torch 2.3.1+cu121 requires nvidia-cuda-cupti-cu12==12.1.105; platform_system == \"Linux\" and platform_machine == \"x86_64\", which is not installed.\n",
            "torch 2.3.1+cu121 requires nvidia-cuda-nvrtc-cu12==12.1.105; platform_system == \"Linux\" and platform_machine == \"x86_64\", which is not installed.\n",
            "torch 2.3.1+cu121 requires nvidia-cuda-runtime-cu12==12.1.105; platform_system == \"Linux\" and platform_machine == \"x86_64\", which is not installed.\n",
            "torch 2.3.1+cu121 requires nvidia-cudnn-cu12==8.9.2.26; platform_system == \"Linux\" and platform_machine == \"x86_64\", which is not installed.\n",
            "torch 2.3.1+cu121 requires nvidia-cufft-cu12==11.0.2.54; platform_system == \"Linux\" and platform_machine == \"x86_64\", which is not installed.\n",
            "torch 2.3.1+cu121 requires nvidia-curand-cu12==10.3.2.106; platform_system == \"Linux\" and platform_machine == \"x86_64\", which is not installed.\n",
            "torch 2.3.1+cu121 requires nvidia-cusolver-cu12==11.4.5.107; platform_system == \"Linux\" and platform_machine == \"x86_64\", which is not installed.\n",
            "torch 2.3.1+cu121 requires nvidia-cusparse-cu12==12.1.0.106; platform_system == \"Linux\" and platform_machine == \"x86_64\", which is not installed.\n",
            "torch 2.3.1+cu121 requires nvidia-nccl-cu12==2.20.5; platform_system == \"Linux\" and platform_machine == \"x86_64\", which is not installed.\n",
            "torch 2.3.1+cu121 requires nvidia-nvtx-cu12==12.1.105; platform_system == \"Linux\" and platform_machine == \"x86_64\", which is not installed.\u001b[0m\u001b[31m\n",
            "\u001b[0mSuccessfully installed ipycytoscape-1.3.3 jedi-0.19.1 jsonpickle-3.0.3 networkx-3.2.1 qc_grader-0.19.7 spectate-1.0.1\n"
          ]
        }
      ]
    },
    {
      "cell_type": "code",
      "source": [
        "from qc_grader.challenges.qgss_2024 import *\n",
        "from math import pi\n",
        "from qiskit.circuit.library import QFT\n",
        "from qiskit.providers.fake_provider import GenericBackendV2, generic_backend_v2\n",
        "generic_backend_v2._NOISE_DEFAULTS[\"cx\"] = (5.99988e-06, 6.99988e-06, 1e-5, 5e-3)\n",
        "\n",
        "from qiskit import transpile, QuantumCircuit\n",
        "from qiskit.circuit import Gate\n",
        "from qiskit.converters import circuit_to_dag\n",
        "from qiskit.transpiler import CouplingMap, StagedPassManager, PassManager, AnalysisPass, TransformationPass\n",
        "from qiskit.transpiler.preset_passmanagers import generate_preset_pass_manager\n",
        "from qiskit.transpiler.preset_passmanagers.common import generate_unroll_3q, generate_embed_passmanager\n",
        "from qiskit.quantum_info import hellinger_fidelity\n",
        "from qiskit.providers.basic_provider import BasicSimulator\n",
        "from qiskit.dagcircuit import DAGCircuit\n",
        "from qiskit_ibm_runtime.fake_provider import FakeTorino\n",
        "\n",
        "# Transpiler Passes\n",
        "## Layout passes\n",
        "from qiskit.transpiler.passes.layout.csp_layout import CSPLayout\n",
        "from qiskit.transpiler.passes.layout.dense_layout import DenseLayout\n",
        "from qiskit.transpiler.passes.layout.sabre_layout import SabreLayout\n",
        "from qiskit.transpiler.passes.layout.vf2_layout import VF2Layout\n",
        "from qiskit.transpiler.passes.layout.trivial_layout import TrivialLayout\n",
        "\n",
        "## Routing passes\n",
        "from qiskit.transpiler.passes.routing.basic_swap import BasicSwap\n",
        "from qiskit.transpiler.passes.routing.lookahead_swap import LookaheadSwap\n",
        "from qiskit.transpiler.passes.routing.sabre_swap import SabreSwap\n",
        "from qiskit.transpiler.passes.routing.stochastic_swap import StochasticSwap\n",
        "from qiskit.transpiler.passes.routing.star_prerouting import StarPreRouting\n",
        "\n",
        "## Synthesis passes (passes for the translation stage)\n",
        "from qiskit.circuit import SessionEquivalenceLibrary\n",
        "from qiskit.circuit.equivalence_library import SessionEquivalenceLibrary\n",
        "from qiskit.transpiler.passes.basis.basis_translator import BasisTranslator\n",
        "from qiskit.transpiler.passes.synthesis.high_level_synthesis import HighLevelSynthesis\n",
        "### The next pass could also be considered an optimization pass.\n",
        "from qiskit.transpiler.passes.synthesis.unitary_synthesis import UnitarySynthesis\n",
        "\n",
        "## Optimization passes\n",
        "from qiskit.transpiler.passes.optimization.collect_1q_runs import Collect1qRuns\n",
        "from qiskit.transpiler.passes.optimization.collect_2q_blocks import Collect2qBlocks\n",
        "from qiskit.transpiler.passes.optimization.consolidate_blocks import ConsolidateBlocks\n",
        "from qiskit.transpiler.passes.optimization.commutative_cancellation import CommutativeCancellation"
      ],
      "metadata": {
        "id": "vnSukARRefLz"
      },
      "execution_count": null,
      "outputs": []
    },
    {
      "cell_type": "code",
      "execution_count": null,
      "metadata": {
        "colab": {
          "base_uri": "https://localhost:8080/"
        },
        "id": "D9ztxQubdPAn",
        "outputId": "f765f568-53ed-4160-ac14-98412ce2f2bc"
      },
      "outputs": [
        {
          "output_type": "stream",
          "name": "stdout",
          "text": [
            "env: QXToken=5cf69d36ae777d8d62f5c06ab7f728fd79a227bcaedd996fb8177ce50c71927716a688b502b9ebe02ec8de78ac9d2ede31e1418d0fa5a98dab9ec3f9e0331aec\n"
          ]
        }
      ],
      "source": [
        "%set_env QXToken=5cf69d36ae777d8d62f5c06ab7f728fd79a227bcaedd996fb8177ce50c71927716a688b502b9ebe02ec8de78ac9d2ede31e1418d0fa5a98dab9ec3f9e0331aec"
      ]
    },
    {
      "cell_type": "code",
      "source": [
        "from qiskit_ibm_runtime import QiskitRuntimeService\n",
        "\n",
        "service = QiskitRuntimeService(channel=\"ibm_quantum\", token=\"5cf69d36ae777d8d62f5c06ab7f728fd79a227bcaedd996fb8177ce50c71927716a688b502b9ebe02ec8de78ac9d2ede31e1418d0fa5a98dab9ec3f9e0331aec\")"
      ],
      "metadata": {
        "id": "Yxr6bo2KeXhs"
      },
      "execution_count": null,
      "outputs": []
    },
    {
      "cell_type": "markdown",
      "source": [
        "## Choosing a backend"
      ],
      "metadata": {
        "id": "DZWcwMaIios9"
      }
    },
    {
      "cell_type": "code",
      "source": [
        "BACKEND = service.backend(\"ibm_kyoto\")\n",
        "PATH_ANSWER = list(range(10))\n"
      ],
      "metadata": {
        "id": "RLtYsojLislj"
      },
      "execution_count": null,
      "outputs": []
    },
    {
      "cell_type": "code",
      "source": [
        "from qc_grader.challenges.qgss_2024 import grade_lab2_ex1\n",
        "grade_lab2_ex1(PATH_ANSWER, BACKEND)"
      ],
      "metadata": {
        "colab": {
          "base_uri": "https://localhost:8080/"
        },
        "id": "YqCkGMOfkjZA",
        "outputId": "032ea029-e255-46c6-f5d7-4c0adbdc7402"
      },
      "execution_count": null,
      "outputs": [
        {
          "output_type": "stream",
          "name": "stdout",
          "text": [
            "Submitting your answer. Please wait...\n",
            "Nice work, all your answers look correct!\n"
          ]
        }
      ]
    },
    {
      "cell_type": "markdown",
      "source": [
        "## Part 2: Define Disjoint Layers"
      ],
      "metadata": {
        "id": "1TMcbJZ2ldVx"
      }
    },
    {
      "cell_type": "code",
      "source": [
        "def makePairs(path: list):\n",
        "  for i in range(len(path)-1):\n",
        "    yield [path[i], path[i+1]]\n",
        "\n",
        "def makeLayers(pairs: list[tuple[int,int]]):\n",
        "  layer_1 = []\n",
        "  layer_2 = []\n",
        "  for i,pair in enumerate(pairs):\n",
        "    if tuple(pair) not in list(BACKEND.coupling_map):\n",
        "      pair = tuple(reversed(pair))\n",
        "    if i%2 == 0:\n",
        "      layer_1.append(pair)\n",
        "    else:\n",
        "      layer_2.append(pair)\n",
        "  return layer_1, layer_2\n",
        "\n",
        "LAYER_1_ANSWER, LAYER_2_ANSWER = makeLayers(makePairs(PATH_ANSWER))"
      ],
      "metadata": {
        "id": "wJXfZFXhkkPR"
      },
      "execution_count": null,
      "outputs": []
    },
    {
      "cell_type": "code",
      "source": [
        "from qc_grader.challenges.qgss_2024 import grade_lab2_ex2\n",
        "grade_lab2_ex2(LAYER_1_ANSWER, LAYER_2_ANSWER, PATH_ANSWER, BACKEND)"
      ],
      "metadata": {
        "colab": {
          "base_uri": "https://localhost:8080/"
        },
        "id": "IUAtwRj8r19Q",
        "outputId": "4da88201-5e67-4ed3-ea64-09e029e1a633"
      },
      "execution_count": null,
      "outputs": [
        {
          "output_type": "stream",
          "name": "stdout",
          "text": [
            "Submitting your answer. Please wait...\n",
            "Nice work, all your answers look correct!\n"
          ]
        }
      ]
    },
    {
      "cell_type": "code",
      "source": [
        "BACKEND.basis_gates\n"
      ],
      "metadata": {
        "colab": {
          "base_uri": "https://localhost:8080/"
        },
        "id": "FBcIRmUWzbSr",
        "outputId": "ebdae0e3-89bf-45f5-a87e-edcc88d0a149"
      },
      "execution_count": null,
      "outputs": [
        {
          "output_type": "execute_result",
          "data": {
            "text/plain": [
              "['ecr', 'id', 'rz', 'sx', 'x']"
            ]
          },
          "metadata": {},
          "execution_count": 16
        }
      ]
    },
    {
      "cell_type": "markdown",
      "source": [
        "## Part 3: Construct Clifford Entangling Layers"
      ],
      "metadata": {
        "id": "DGb84VLv0ESU"
      }
    },
    {
      "cell_type": "code",
      "source": [
        "from qiskit.quantum_info import Clifford\n",
        "help(Clifford)"
      ],
      "metadata": {
        "colab": {
          "base_uri": "https://localhost:8080/"
        },
        "id": "iKwkJrQ282Qc",
        "outputId": "cd31cec5-9992-4be6-9974-a7ce7c573f88"
      },
      "execution_count": null,
      "outputs": [
        {
          "output_type": "stream",
          "name": "stdout",
          "text": [
            "Help on class Clifford in module qiskit.quantum_info.operators.symplectic.clifford:\n",
            "\n",
            "class Clifford(qiskit.quantum_info.operators.base_operator.BaseOperator, qiskit.quantum_info.operators.mixins.adjoint.AdjointMixin, qiskit.circuit.operation.Operation)\n",
            " |  Clifford(data, validate=True, copy=True)\n",
            " |  \n",
            " |  An N-qubit unitary operator from the Clifford group.\n",
            " |  \n",
            " |  An N-qubit Clifford operator takes Paulis to Paulis via conjugation\n",
            " |  (up to a global phase). More precisely, the Clifford group :math:`\\mathcal{C}_N`\n",
            " |  is defined as\n",
            " |  \n",
            " |   .. math::\n",
            " |  \n",
            " |      \\mathcal{C}_N = \\{ U \\in U(2^N) | U \\mathcal{P}_N U^{\\dagger} = \\mathcal{P}_N \\} / U(1)\n",
            " |  \n",
            " |   where :math:`\\mathcal{P}_N` is the Pauli group on :math:`N` qubits\n",
            " |   that is generated by single-qubit Pauli operators,\n",
            " |   and :math:`U` is a unitary operator in the unitary group\n",
            " |   :math:`U(2^N)` representing operations on :math:`N` qubits.\n",
            " |   :math:`\\mathcal{C}_N` is the quotient group by the subgroup of\n",
            " |   scalar unitary matrices :math:`U(1)`.\n",
            " |  \n",
            " |  **Representation**\n",
            " |  \n",
            " |  An *N*-qubit Clifford operator is stored as a length *2N × (2N+1)*\n",
            " |  boolean tableau using the convention from reference [1].\n",
            " |  \n",
            " |  * Rows 0 to *N-1* are the *destabilizer* group generators\n",
            " |  * Rows *N* to *2N-1* are the *stabilizer* group generators.\n",
            " |  \n",
            " |  The internal boolean tableau for the Clifford\n",
            " |  can be accessed using the :attr:`tableau` attribute. The destabilizer or\n",
            " |  stabilizer rows can each be accessed as a length-N Stabilizer table using\n",
            " |  :attr:`destab` and :attr:`stab` attributes.\n",
            " |  \n",
            " |  A more easily human readable representation of the Clifford operator can\n",
            " |  be obtained by calling the :meth:`to_dict` method. This representation is\n",
            " |  also used if a Clifford object is printed as in the following example\n",
            " |  \n",
            " |  .. code-block::\n",
            " |  \n",
            " |      from qiskit import QuantumCircuit\n",
            " |      from qiskit.quantum_info import Clifford\n",
            " |  \n",
            " |      # Bell state generation circuit\n",
            " |      qc = QuantumCircuit(2)\n",
            " |      qc.h(0)\n",
            " |      qc.cx(0, 1)\n",
            " |      cliff = Clifford(qc)\n",
            " |  \n",
            " |      # Print the Clifford\n",
            " |      print(cliff)\n",
            " |  \n",
            " |      # Print the Clifford destabilizer rows\n",
            " |      print(cliff.to_labels(mode=\"D\"))\n",
            " |  \n",
            " |      # Print the Clifford stabilizer rows\n",
            " |      print(cliff.to_labels(mode=\"S\"))\n",
            " |  \n",
            " |  .. parsed-literal::\n",
            " |  \n",
            " |      Clifford: Stabilizer = ['+XX', '+ZZ'], Destabilizer = ['+IZ', '+XI']\n",
            " |      ['+IZ', '+XI']\n",
            " |      ['+XX', '+ZZ']\n",
            " |  \n",
            " |  **Circuit Conversion**\n",
            " |  \n",
            " |  Clifford operators can be initialized from circuits containing *only* the\n",
            " |  following Clifford gates: :class:`~qiskit.circuit.library.IGate`,\n",
            " |  :class:`~qiskit.circuit.library.XGate`, :class:`~qiskit.circuit.library.YGate`,\n",
            " |  :class:`~qiskit.circuit.library.ZGate`, :class:`~qiskit.circuit.library.HGate`,\n",
            " |  :class:`~qiskit.circuit.library.SGate`, :class:`~qiskit.circuit.library.SdgGate`,\n",
            " |  :class:`~qiskit.circuit.library.SXGate`, :class:`~qiskit.circuit.library.SXdgGate`,\n",
            " |  :class:`~qiskit.circuit.library.CXGate`, :class:`~qiskit.circuit.library.CZGate`,\n",
            " |  :class:`~qiskit.circuit.library.CYGate`, :class:`~qiskit.circuit.library.DCXGate`,\n",
            " |  :class:`~qiskit.circuit.library.SwapGate`, :class:`~qiskit.circuit.library.iSwapGate`,\n",
            " |  :class:`~qiskit.circuit.library.ECRGate`, :class:`~qiskit.circuit.library.LinearFunction`,\n",
            " |  :class:`~qiskit.circuit.library.PermutationGate`.\n",
            " |  They can be converted back into a :class:`~qiskit.circuit.QuantumCircuit`,\n",
            " |  or :class:`~qiskit.circuit.Gate` object using the :meth:`~Clifford.to_circuit`\n",
            " |  or :meth:`~Clifford.to_instruction` methods respectively. Note that this\n",
            " |  decomposition is not necessarily optimal in terms of number of gates.\n",
            " |  \n",
            " |  .. note::\n",
            " |  \n",
            " |      A minimally generating set of gates for Clifford circuits is\n",
            " |      the :class:`~qiskit.circuit.library.HGate` and\n",
            " |      :class:`~qiskit.circuit.library.SGate` gate and *either* the\n",
            " |      :class:`~qiskit.circuit.library.CXGate` or\n",
            " |      :class:`~qiskit.circuit.library.CZGate` two-qubit gate.\n",
            " |  \n",
            " |  Clifford operators can also be converted to\n",
            " |  :class:`~qiskit.quantum_info.Operator` objects using the\n",
            " |  :meth:`to_operator` method. This is done via decomposing to a circuit, and then\n",
            " |  simulating the circuit as a unitary operator.\n",
            " |  \n",
            " |  References:\n",
            " |      1. S. Aaronson, D. Gottesman, *Improved Simulation of Stabilizer Circuits*,\n",
            " |         Phys. Rev. A 70, 052328 (2004).\n",
            " |         `arXiv:quant-ph/0406196 <https://arxiv.org/abs/quant-ph/0406196>`_\n",
            " |  \n",
            " |  Method resolution order:\n",
            " |      Clifford\n",
            " |      qiskit.quantum_info.operators.base_operator.BaseOperator\n",
            " |      qiskit.quantum_info.operators.mixins.group.GroupMixin\n",
            " |      qiskit.quantum_info.operators.mixins.adjoint.AdjointMixin\n",
            " |      qiskit.circuit.operation.Operation\n",
            " |      abc.ABC\n",
            " |      builtins.object\n",
            " |  \n",
            " |  Methods defined here:\n",
            " |  \n",
            " |  __array__(self, dtype=None, copy=None)\n",
            " |  \n",
            " |  __eq__(self, other)\n",
            " |      Check if two Clifford tables are equal\n",
            " |  \n",
            " |  __init__(self, data, validate=True, copy=True)\n",
            " |      Initialize an operator object.\n",
            " |  \n",
            " |  __repr__(self)\n",
            " |      Return repr(self).\n",
            " |  \n",
            " |  __str__(self)\n",
            " |      Return str(self).\n",
            " |  \n",
            " |  adjoint(self)\n",
            " |      Return the adjoint of the Operator.\n",
            " |  \n",
            " |  compose(self, other: 'Clifford | QuantumCircuit | Instruction', qargs: 'list | None' = None, front: 'bool' = False) -> 'Clifford'\n",
            " |      Return the operator composition with another Clifford.\n",
            " |      \n",
            " |      Args:\n",
            " |          other (Clifford): a Clifford object.\n",
            " |          qargs (list or None): Optional, a list of subsystem positions to\n",
            " |                                apply other on. If None apply on all\n",
            " |                                subsystems (default: None).\n",
            " |          front (bool): If True compose using right operator multiplication,\n",
            " |                        instead of left multiplication [default: False].\n",
            " |      \n",
            " |      Returns:\n",
            " |          Clifford: The composed Clifford.\n",
            " |      \n",
            " |      Raises:\n",
            " |          QiskitError: if other cannot be converted to an operator, or has\n",
            " |                       incompatible dimensions for specified subsystems.\n",
            " |      \n",
            " |      .. note::\n",
            " |          Composition (``&``) by default is defined as `left` matrix multiplication for\n",
            " |          matrix operators, while ``@`` (equivalent to :meth:`dot`) is defined as `right` matrix\n",
            " |          multiplication. That is that ``A & B == A.compose(B)`` is equivalent to\n",
            " |          ``B @ A == B.dot(A)`` when ``A`` and ``B`` are of the same type.\n",
            " |      \n",
            " |          Setting the ``front=True`` kwarg changes this to `right` matrix\n",
            " |          multiplication and is equivalent to the :meth:`dot` method\n",
            " |          ``A.dot(B) == A.compose(B, front=True)``.\n",
            " |  \n",
            " |  conjugate(self)\n",
            " |      Return the conjugate of the Clifford.\n",
            " |  \n",
            " |  copy(self)\n",
            " |      Make a deep copy of current operator.\n",
            " |  \n",
            " |  expand(self, other: 'Clifford') -> 'Clifford'\n",
            " |      Return the reverse-order tensor product with another Clifford.\n",
            " |      \n",
            " |      Args:\n",
            " |          other (Clifford): a Clifford object.\n",
            " |      \n",
            " |      Returns:\n",
            " |          Clifford: the tensor product :math:`b \\otimes a`, where :math:`a`\n",
            " |              is the current Clifford, and :math:`b` is the other Clifford.\n",
            " |      \n",
            " |      .. note:\n",
            " |          Expand is the opposite operator ordering to :meth:`tensor`.\n",
            " |          For two operators of the same type ``a.expand(b) = b.tensor(a)``.\n",
            " |  \n",
            " |  is_unitary(self)\n",
            " |      Return True if the Clifford table is valid.\n",
            " |  \n",
            " |  tensor(self, other: 'Clifford') -> 'Clifford'\n",
            " |      Return the tensor product with another Clifford.\n",
            " |      \n",
            " |      Args:\n",
            " |          other (Clifford): a Clifford object.\n",
            " |      \n",
            " |      Returns:\n",
            " |          Clifford: the tensor product :math:`a \\otimes b`, where :math:`a`\n",
            " |              is the current Clifford, and :math:`b` is the other Clifford.\n",
            " |      \n",
            " |      .. note::\n",
            " |          The tensor product can be obtained using the ``^`` binary operator.\n",
            " |          Hence ``a.tensor(b)`` is equivalent to ``a ^ b``.\n",
            " |      \n",
            " |      .. note:\n",
            " |          Tensor uses reversed operator ordering to :meth:`expand`.\n",
            " |          For two operators of the same type ``a.tensor(b) = b.expand(a)``.\n",
            " |  \n",
            " |  to_circuit(self)\n",
            " |      Return a QuantumCircuit implementing the Clifford.\n",
            " |      \n",
            " |      For N <= 3 qubits this is based on optimal CX cost decomposition\n",
            " |      from reference [1]. For N > 3 qubits this is done using the general\n",
            " |      non-optimal compilation routine from reference [2].\n",
            " |      \n",
            " |      Return:\n",
            " |          QuantumCircuit: a circuit implementation of the Clifford.\n",
            " |      \n",
            " |      References:\n",
            " |          1. S. Bravyi, D. Maslov, *Hadamard-free circuits expose the\n",
            " |             structure of the Clifford group*,\n",
            " |             `arXiv:2003.09412 [quant-ph] <https://arxiv.org/abs/2003.09412>`_\n",
            " |      \n",
            " |          2. S. Aaronson, D. Gottesman, *Improved Simulation of Stabilizer Circuits*,\n",
            " |             Phys. Rev. A 70, 052328 (2004).\n",
            " |             `arXiv:quant-ph/0406196 <https://arxiv.org/abs/quant-ph/0406196>`_\n",
            " |  \n",
            " |  to_dict(self)\n",
            " |      Return dictionary representation of Clifford object.\n",
            " |  \n",
            " |  to_instruction(self)\n",
            " |      Return a Gate instruction implementing the Clifford.\n",
            " |  \n",
            " |  to_labels(self, array: 'bool' = False, mode: \"Literal['S', 'D', 'B']\" = 'B')\n",
            " |      Convert a Clifford to a list Pauli (de)stabilizer string labels.\n",
            " |      \n",
            " |      For large Clifford converting using the ``array=True``\n",
            " |      kwarg will be more efficient since it allocates memory for\n",
            " |      the full Numpy array of labels in advance.\n",
            " |      \n",
            " |      .. list-table:: Stabilizer Representations\n",
            " |          :header-rows: 1\n",
            " |      \n",
            " |          * - Label\n",
            " |            - Phase\n",
            " |            - Symplectic\n",
            " |            - Matrix\n",
            " |            - Pauli\n",
            " |          * - ``\"+I\"``\n",
            " |            - 0\n",
            " |            - :math:`[0, 0]`\n",
            " |            - :math:`\\begin{bmatrix} 1 & 0 \\\\ 0 & 1 \\end{bmatrix}`\n",
            " |            - :math:`I`\n",
            " |          * - ``\"-I\"``\n",
            " |            - 1\n",
            " |            - :math:`[0, 0]`\n",
            " |            - :math:`\\begin{bmatrix} -1 & 0 \\\\ 0 & -1 \\end{bmatrix}`\n",
            " |            - :math:`-I`\n",
            " |          * - ``\"X\"``\n",
            " |            - 0\n",
            " |            - :math:`[1, 0]`\n",
            " |            - :math:`\\begin{bmatrix} 0 & 1 \\\\ 1 & 0  \\end{bmatrix}`\n",
            " |            - :math:`X`\n",
            " |          * - ``\"-X\"``\n",
            " |            - 1\n",
            " |            - :math:`[1, 0]`\n",
            " |            - :math:`\\begin{bmatrix} 0 & -1 \\\\ -1 & 0  \\end{bmatrix}`\n",
            " |            - :math:`-X`\n",
            " |          * - ``\"Y\"``\n",
            " |            - 0\n",
            " |            - :math:`[1, 1]`\n",
            " |            - :math:`\\begin{bmatrix} 0 & 1 \\\\ -1 & 0  \\end{bmatrix}`\n",
            " |            - :math:`iY`\n",
            " |          * - ``\"-Y\"``\n",
            " |            - 1\n",
            " |            - :math:`[1, 1]`\n",
            " |            - :math:`\\begin{bmatrix} 0 & -1 \\\\ 1 & 0  \\end{bmatrix}`\n",
            " |            - :math:`-iY`\n",
            " |          * - ``\"Z\"``\n",
            " |            - 0\n",
            " |            - :math:`[0, 1]`\n",
            " |            - :math:`\\begin{bmatrix} 1 & 0 \\\\ 0 & -1  \\end{bmatrix}`\n",
            " |            - :math:`Z`\n",
            " |          * - ``\"-Z\"``\n",
            " |            - 1\n",
            " |            - :math:`[0, 1]`\n",
            " |            - :math:`\\begin{bmatrix} -1 & 0 \\\\ 0 & 1  \\end{bmatrix}`\n",
            " |            - :math:`-Z`\n",
            " |      \n",
            " |      Args:\n",
            " |          array (bool): return a Numpy array if True, otherwise\n",
            " |                        return a list (Default: False).\n",
            " |          mode (Literal[\"S\", \"D\", \"B\"]): return both stabilizer and destabilizer if \"B\",\n",
            " |              return only stabilizer if \"S\" and return only destabilizer if \"D\".\n",
            " |      \n",
            " |      Returns:\n",
            " |          list or array: The rows of the StabilizerTable in label form.\n",
            " |      Raises:\n",
            " |          QiskitError: if stabilizer and destabilizer are both False.\n",
            " |  \n",
            " |  to_matrix(self)\n",
            " |      Convert operator to Numpy matrix.\n",
            " |  \n",
            " |  to_operator(self) -> 'Operator'\n",
            " |      Convert to an Operator object.\n",
            " |  \n",
            " |  transpose(self)\n",
            " |      Return the transpose of the Clifford.\n",
            " |  \n",
            " |  ----------------------------------------------------------------------\n",
            " |  Class methods defined here:\n",
            " |  \n",
            " |  from_dict(obj) from abc.ABCMeta\n",
            " |      Load a Clifford from a dictionary\n",
            " |  \n",
            " |  from_linear_function(linear_function) from abc.ABCMeta\n",
            " |      Create a Clifford from a Linear Function.\n",
            " |      \n",
            " |      If the linear function is represented by a nxn binary invertible matrix A,\n",
            " |      then the corresponding Clifford has symplectic matrix [[A^t, 0], [0, A^{-1}]].\n",
            " |      \n",
            " |      Args:\n",
            " |          linear_function (LinearFunction): A linear function to be converted.\n",
            " |      \n",
            " |      Returns:\n",
            " |          Clifford: the Clifford object for this linear function.\n",
            " |  \n",
            " |  from_matrix(matrix: 'np.ndarray') -> 'Clifford' from abc.ABCMeta\n",
            " |      Create a Clifford from a unitary matrix.\n",
            " |      \n",
            " |      Note that this function takes exponentially long time w.r.t. the number of qubits.\n",
            " |      \n",
            " |      Args:\n",
            " |          matrix (np.array): A unitary matrix representing a Clifford to be converted.\n",
            " |      \n",
            " |      Returns:\n",
            " |          Clifford: the Clifford object for the unitary matrix.\n",
            " |      \n",
            " |      Raises:\n",
            " |          QiskitError: if the input is not a Clifford matrix.\n",
            " |  \n",
            " |  from_operator(operator: 'Operator') -> 'Clifford' from abc.ABCMeta\n",
            " |      Create a Clifford from a operator.\n",
            " |      \n",
            " |      Note that this function takes exponentially long time w.r.t. the number of qubits.\n",
            " |      \n",
            " |      Args:\n",
            " |          operator (Operator): An operator representing a Clifford to be converted.\n",
            " |      \n",
            " |      Returns:\n",
            " |          Clifford: the Clifford object for the operator.\n",
            " |      \n",
            " |      Raises:\n",
            " |          QiskitError: if the input is not a Clifford operator.\n",
            " |  \n",
            " |  from_permutation(permutation_gate) from abc.ABCMeta\n",
            " |      Create a Clifford from a PermutationGate.\n",
            " |      \n",
            " |      Args:\n",
            " |          permutation_gate (PermutationGate): A permutation to be converted.\n",
            " |      \n",
            " |      Returns:\n",
            " |          Clifford: the Clifford object for this permutation.\n",
            " |  \n",
            " |  ----------------------------------------------------------------------\n",
            " |  Static methods defined here:\n",
            " |  \n",
            " |  from_circuit(circuit: 'QuantumCircuit | Instruction') -> 'Clifford'\n",
            " |      Initialize from a QuantumCircuit or Instruction.\n",
            " |      \n",
            " |      Args:\n",
            " |          circuit (QuantumCircuit or ~qiskit.circuit.Instruction):\n",
            " |              instruction to initialize.\n",
            " |      \n",
            " |      Returns:\n",
            " |          Clifford: the Clifford object for the instruction.\n",
            " |      \n",
            " |      Raises:\n",
            " |          QiskitError: if the input instruction is non-Clifford or contains\n",
            " |                       classical register instruction.\n",
            " |  \n",
            " |  from_label(label: 'str') -> 'Clifford'\n",
            " |      Return a tensor product of single-qubit Clifford gates.\n",
            " |      \n",
            " |      Args:\n",
            " |          label (string): single-qubit operator string.\n",
            " |      \n",
            " |      Returns:\n",
            " |          Clifford: The N-qubit Clifford operator.\n",
            " |      \n",
            " |      Raises:\n",
            " |          QiskitError: if the label contains invalid characters.\n",
            " |      \n",
            " |      Additional Information:\n",
            " |          The labels correspond to the single-qubit Cliffords are\n",
            " |      \n",
            " |          * - Label\n",
            " |            - Stabilizer\n",
            " |            - Destabilizer\n",
            " |          * - ``\"I\"``\n",
            " |            - +Z\n",
            " |            - +X\n",
            " |          * - ``\"X\"``\n",
            " |            - -Z\n",
            " |            - +X\n",
            " |          * - ``\"Y\"``\n",
            " |            - -Z\n",
            " |            - -X\n",
            " |          * - ``\"Z\"``\n",
            " |            - +Z\n",
            " |            - -X\n",
            " |          * - ``\"H\"``\n",
            " |            - +X\n",
            " |            - +Z\n",
            " |          * - ``\"S\"``\n",
            " |            - +Z\n",
            " |            - +Y\n",
            " |  \n",
            " |  ----------------------------------------------------------------------\n",
            " |  Readonly properties defined here:\n",
            " |  \n",
            " |  name\n",
            " |      Unique string identifier for operation type.\n",
            " |  \n",
            " |  num_clbits\n",
            " |      Number of classical bits.\n",
            " |  \n",
            " |  ----------------------------------------------------------------------\n",
            " |  Data descriptors defined here:\n",
            " |  \n",
            " |  destab\n",
            " |      The destabilizer array for the symplectic representation.\n",
            " |  \n",
            " |  destab_phase\n",
            " |      Return phase of destabilizer with boolean representation.\n",
            " |  \n",
            " |  destab_x\n",
            " |      The destabilizer x array for the symplectic representation.\n",
            " |  \n",
            " |  destab_z\n",
            " |      The destabilizer z array for the symplectic representation.\n",
            " |  \n",
            " |  phase\n",
            " |      Return phase with boolean representation.\n",
            " |  \n",
            " |  stab\n",
            " |      The stabilizer array for the symplectic representation.\n",
            " |  \n",
            " |  stab_phase\n",
            " |      Return phase of stabilizer with boolean representation.\n",
            " |  \n",
            " |  stab_x\n",
            " |      The stabilizer x array for the symplectic representation.\n",
            " |  \n",
            " |  stab_z\n",
            " |      The stabilizer array for the symplectic representation.\n",
            " |  \n",
            " |  symplectic_matrix\n",
            " |      Return boolean symplectic matrix.\n",
            " |  \n",
            " |  x\n",
            " |      The x array for the symplectic representation.\n",
            " |  \n",
            " |  z\n",
            " |      The z array for the symplectic representation.\n",
            " |  \n",
            " |  ----------------------------------------------------------------------\n",
            " |  Data and other attributes defined here:\n",
            " |  \n",
            " |  __abstractmethods__ = frozenset()\n",
            " |  \n",
            " |  __hash__ = None\n",
            " |  \n",
            " |  ----------------------------------------------------------------------\n",
            " |  Methods inherited from qiskit.quantum_info.operators.base_operator.BaseOperator:\n",
            " |  \n",
            " |  __call__(self, *qargs)\n",
            " |      Return a shallow copy with qargs attribute set\n",
            " |  \n",
            " |  input_dims(self, qargs=None)\n",
            " |      Return tuple of input dimension for specified subsystems.\n",
            " |  \n",
            " |  output_dims(self, qargs=None)\n",
            " |      Return tuple of output dimension for specified subsystems.\n",
            " |  \n",
            " |  reshape(self, input_dims: 'None | tuple | int' = None, output_dims: 'None | tuple | int' = None, num_qubits: 'None | int' = None) -> 'BaseOperator'\n",
            " |      Return a shallow copy with reshaped input and output subsystem dimensions.\n",
            " |      \n",
            " |      Args:\n",
            " |          input_dims (None or tuple): new subsystem input dimensions.\n",
            " |              If None the original input dims will be preserved [Default: None].\n",
            " |          output_dims (None or tuple): new subsystem output dimensions.\n",
            " |              If None the original output dims will be preserved [Default: None].\n",
            " |          num_qubits (None or int): reshape to an N-qubit operator [Default: None].\n",
            " |      \n",
            " |      Returns:\n",
            " |          BaseOperator: returns self with reshaped input and output dimensions.\n",
            " |      \n",
            " |      Raises:\n",
            " |          QiskitError: if combined size of all subsystem input dimension or\n",
            " |                       subsystem output dimensions is not constant.\n",
            " |  \n",
            " |  ----------------------------------------------------------------------\n",
            " |  Readonly properties inherited from qiskit.quantum_info.operators.base_operator.BaseOperator:\n",
            " |  \n",
            " |  dim\n",
            " |      Return tuple (input_shape, output_shape).\n",
            " |  \n",
            " |  num_qubits\n",
            " |      Return the number of qubits if a N-qubit operator or None otherwise.\n",
            " |  \n",
            " |  qargs\n",
            " |      Return the qargs for the operator.\n",
            " |  \n",
            " |  ----------------------------------------------------------------------\n",
            " |  Data and other attributes inherited from qiskit.quantum_info.operators.base_operator.BaseOperator:\n",
            " |  \n",
            " |  __array_priority__ = 20\n",
            " |  \n",
            " |  ----------------------------------------------------------------------\n",
            " |  Methods inherited from qiskit.quantum_info.operators.mixins.group.GroupMixin:\n",
            " |  \n",
            " |  __and__(self, other) -> typing_extensions.Self\n",
            " |  \n",
            " |  __matmul__(self, other) -> typing_extensions.Self\n",
            " |  \n",
            " |  __pow__(self, n) -> typing_extensions.Self\n",
            " |  \n",
            " |  __xor__(self, other) -> typing_extensions.Self\n",
            " |  \n",
            " |  dot(self, other, qargs=None) -> typing_extensions.Self\n",
            " |      Return the right multiplied operator self * other.\n",
            " |      \n",
            " |      Args:\n",
            " |          other (Operator): an operator object.\n",
            " |          qargs (list or None): Optional, a list of subsystem positions to\n",
            " |                                apply other on. If None apply on all\n",
            " |                                subsystems (default: None).\n",
            " |      \n",
            " |      Returns:\n",
            " |          Operator: The right matrix multiplied Operator.\n",
            " |      \n",
            " |      .. note::\n",
            " |          The dot product can be obtained using the ``@`` binary operator.\n",
            " |          Hence ``a.dot(b)`` is equivalent to ``a @ b``.\n",
            " |  \n",
            " |  power(self, n) -> typing_extensions.Self\n",
            " |      Return the compose of a operator with itself n times.\n",
            " |      \n",
            " |      Args:\n",
            " |          n (int): the number of times to compose with self (n>0).\n",
            " |      \n",
            " |      Returns:\n",
            " |          Clifford: the n-times composed operator.\n",
            " |      \n",
            " |      Raises:\n",
            " |          QiskitError: if the input and output dimensions of the operator\n",
            " |                       are not equal, or the power is not a positive integer.\n",
            " |  \n",
            " |  ----------------------------------------------------------------------\n",
            " |  Data descriptors inherited from qiskit.quantum_info.operators.mixins.group.GroupMixin:\n",
            " |  \n",
            " |  __dict__\n",
            " |      dictionary for instance variables (if defined)\n",
            " |  \n",
            " |  __weakref__\n",
            " |      list of weak references to the object (if defined)\n",
            "\n"
          ]
        }
      ]
    },
    {
      "cell_type": "markdown",
      "source": [
        "Ordering done to avoid transpilation errors"
      ],
      "metadata": {
        "id": "CfSnG-t84Rhd"
      }
    },
    {
      "cell_type": "code",
      "source": [
        "from qiskit import QuantumCircuit\n",
        "CIRC_1_ANSWER = QuantumCircuit(BACKEND.num_qubits)\n",
        "CIRC_2_ANSWER = QuantumCircuit(BACKEND.num_qubits)\n",
        "for _circ,layer in [(CIRC_1_ANSWER, LAYER_1_ANSWER),(CIRC_2_ANSWER, LAYER_2_ANSWER)]:\n",
        "  for qi,qj in layer:\n",
        "    _circ.ecr(qi,qj)\n",
        "\n",
        "GATE_NAME = \"ecr\""
      ],
      "metadata": {
        "id": "8USx72q3z3mC"
      },
      "execution_count": null,
      "outputs": []
    },
    {
      "cell_type": "markdown",
      "source": [
        "Clifford Circuit 1"
      ],
      "metadata": {
        "id": "44PvlZtL7vK0"
      }
    },
    {
      "cell_type": "code",
      "source": [
        "CIRC_1_ANSWER.draw(fold=-1, idle_wires=False)"
      ],
      "metadata": {
        "colab": {
          "base_uri": "https://localhost:8080/",
          "height": 340
        },
        "id": "YAApkUtw7MGs",
        "outputId": "78dfd634-acfc-46c1-e42f-d0bbc4f6610d"
      },
      "execution_count": null,
      "outputs": [
        {
          "output_type": "execute_result",
          "data": {
            "text/plain": [
              "     ┌──────┐\n",
              "q_0: ┤1     ├\n",
              "     │  Ecr │\n",
              "q_1: ┤0     ├\n",
              "     ├──────┤\n",
              "q_2: ┤1     ├\n",
              "     │  Ecr │\n",
              "q_3: ┤0     ├\n",
              "     ├──────┤\n",
              "q_4: ┤0     ├\n",
              "     │  Ecr │\n",
              "q_5: ┤1     ├\n",
              "     ├──────┤\n",
              "q_6: ┤1     ├\n",
              "     │  Ecr │\n",
              "q_7: ┤0     ├\n",
              "     ├──────┤\n",
              "q_8: ┤0     ├\n",
              "     │  Ecr │\n",
              "q_9: ┤1     ├\n",
              "     └──────┘"
            ],
            "text/html": [
              "<pre style=\"word-wrap: normal;white-space: pre;background: #fff0;line-height: 1.1;font-family: &quot;Courier New&quot;,Courier,monospace\">     ┌──────┐\n",
              "q_0: ┤1     ├\n",
              "     │  Ecr │\n",
              "q_1: ┤0     ├\n",
              "     ├──────┤\n",
              "q_2: ┤1     ├\n",
              "     │  Ecr │\n",
              "q_3: ┤0     ├\n",
              "     ├──────┤\n",
              "q_4: ┤0     ├\n",
              "     │  Ecr │\n",
              "q_5: ┤1     ├\n",
              "     ├──────┤\n",
              "q_6: ┤1     ├\n",
              "     │  Ecr │\n",
              "q_7: ┤0     ├\n",
              "     ├──────┤\n",
              "q_8: ┤0     ├\n",
              "     │  Ecr │\n",
              "q_9: ┤1     ├\n",
              "     └──────┘</pre>"
            ]
          },
          "metadata": {},
          "execution_count": 21
        }
      ]
    },
    {
      "cell_type": "markdown",
      "source": [
        "Clifford Circuit 2"
      ],
      "metadata": {
        "id": "ogSS4-I07yeU"
      }
    },
    {
      "cell_type": "code",
      "source": [
        "CIRC_2_ANSWER.draw(fold=-1, idle_wires=False)"
      ],
      "metadata": {
        "colab": {
          "base_uri": "https://localhost:8080/",
          "height": 279
        },
        "id": "r6zgH92j727k",
        "outputId": "9cd5171a-dc22-40ae-8388-9734d2ff3e90"
      },
      "execution_count": null,
      "outputs": [
        {
          "output_type": "execute_result",
          "data": {
            "text/plain": [
              "     ┌──────┐\n",
              "q_1: ┤0     ├\n",
              "     │  Ecr │\n",
              "q_2: ┤1     ├\n",
              "     ├──────┤\n",
              "q_3: ┤1     ├\n",
              "     │  Ecr │\n",
              "q_4: ┤0     ├\n",
              "     ├──────┤\n",
              "q_5: ┤1     ├\n",
              "     │  Ecr │\n",
              "q_6: ┤0     ├\n",
              "     ├──────┤\n",
              "q_7: ┤1     ├\n",
              "     │  Ecr │\n",
              "q_8: ┤0     ├\n",
              "     └──────┘"
            ],
            "text/html": [
              "<pre style=\"word-wrap: normal;white-space: pre;background: #fff0;line-height: 1.1;font-family: &quot;Courier New&quot;,Courier,monospace\">     ┌──────┐\n",
              "q_1: ┤0     ├\n",
              "     │  Ecr │\n",
              "q_2: ┤1     ├\n",
              "     ├──────┤\n",
              "q_3: ┤1     ├\n",
              "     │  Ecr │\n",
              "q_4: ┤0     ├\n",
              "     ├──────┤\n",
              "q_5: ┤1     ├\n",
              "     │  Ecr │\n",
              "q_6: ┤0     ├\n",
              "     ├──────┤\n",
              "q_7: ┤1     ├\n",
              "     │  Ecr │\n",
              "q_8: ┤0     ├\n",
              "     └──────┘</pre>"
            ]
          },
          "metadata": {},
          "execution_count": 22
        }
      ]
    },
    {
      "cell_type": "code",
      "source": [
        "# grade part 3\n",
        "from qc_grader.challenges.qgss_2024 import grade_lab2_ex3\n",
        "grade_lab2_ex3(CIRC_1_ANSWER, LAYER_1_ANSWER, GATE_NAME, BACKEND)\n",
        "grade_lab2_ex3(CIRC_2_ANSWER, LAYER_2_ANSWER, GATE_NAME, BACKEND)"
      ],
      "metadata": {
        "colab": {
          "base_uri": "https://localhost:8080/"
        },
        "id": "zd0Nl7Ov3q9Q",
        "outputId": "ac5d4c01-fd01-455c-937a-f124f097bb58"
      },
      "execution_count": null,
      "outputs": [
        {
          "output_type": "stream",
          "name": "stdout",
          "text": [
            "Submitting your answer. Please wait...\n",
            "Nice work, all your answers look correct!\n",
            "Submitting your answer. Please wait...\n",
            "Nice work, all your answers look correct!\n"
          ]
        }
      ]
    },
    {
      "cell_type": "markdown",
      "source": [
        "## Part 4: Construct EPLG Experiment Circuits"
      ],
      "metadata": {
        "id": "a1oYWBvR8YhM"
      }
    },
    {
      "cell_type": "markdown",
      "source": [],
      "metadata": {
        "id": "s3zoZIS_DeCC"
      }
    },
    {
      "cell_type": "code",
      "source": [
        "from qiskit.circuit import Parameter\n",
        "from qiskit.transpiler.preset_passmanagers import generate_preset_pass_manager\n",
        "\n",
        "def eplg_circuit(num_qubits: int, depth: int, layer: QuantumCircuit, qubits: tuple[int, ...]) -> QuantumCircuit:\n",
        "    if depth % 2 != 0:\n",
        "        raise ValueError(f\"The depth must be even, got {depth}\")\n",
        "\n",
        "    def parameters():\n",
        "        _depth = 0\n",
        "        while True:\n",
        "            for zi in range(3):\n",
        "                for q in range(num_qubits):\n",
        "                    yield Parameter(f\"d{_depth}_q{q}_z{zi}\")\n",
        "            _depth += 1\n",
        "    _parameters = parameters()\n",
        "\n",
        "    circ = QuantumCircuit(num_qubits)\n",
        "    def _1q_layer():\n",
        "        for j in range(3):\n",
        "            for k in qubits:\n",
        "                circ.rz(next(_parameters), k)\n",
        "            if j == 2:\n",
        "                continue\n",
        "            circ.sx(qubits)\n",
        "\n",
        "    for _depth in range(depth // 2):\n",
        "        circ.barrier(qubits)\n",
        "        _1q_layer()\n",
        "        circ.barrier(qubits)\n",
        "        circ.compose(layer, inplace=True)\n",
        "    circ.barrier(qubits)\n",
        "    _1q_layer()\n",
        "    circ.barrier(qubits)\n",
        "\n",
        "    # Assuming mirroring is fine\n",
        "    circ = circ.compose(circ.inverse())\n",
        "\n",
        "    circ.measure_active()\n",
        "\n",
        "    pm = generate_preset_pass_manager(basis_gates=[\"ecr\", \"sx\", \"rz\"], optimization_level=0)\n",
        "    circ = pm.run(circ)\n",
        "\n",
        "    circ.metadata[\"layer_depth\"] = depth\n",
        "    circ.metadata[\"qubits\"] = qubits\n",
        "    circ.metadata[\"num_qubits\"] = num_qubits\n",
        "\n",
        "    return circ\n"
      ],
      "metadata": {
        "id": "0P8J9qYF7Dfl"
      },
      "execution_count": null,
      "outputs": []
    },
    {
      "cell_type": "code",
      "source": [
        "example_circuit_1 = eplg_circuit(\n",
        "    num_qubits=BACKEND.num_qubits,\n",
        "    depth=4,\n",
        "    layer=CIRC_1_ANSWER,\n",
        "    qubits=PATH_ANSWER,\n",
        ")"
      ],
      "metadata": {
        "id": "lJEdGVO7E_EA"
      },
      "execution_count": null,
      "outputs": []
    },
    {
      "cell_type": "code",
      "source": [
        "example_circuit_1.draw(fold=-1, idle_wires=False)"
      ],
      "metadata": {
        "colab": {
          "base_uri": "https://localhost:8080/",
          "height": 391
        },
        "id": "M9apdAvKIHwN",
        "outputId": "9c0fb5c4-83f9-45e4-bc79-5b80dd61414b"
      },
      "execution_count": null,
      "outputs": [
        {
          "output_type": "execute_result",
          "data": {
            "text/plain": [
              "             ░ ┌──────────────┐┌────┐┌───────────────┐┌────┐┌───────────────┐ ░ ┌──────┐ ░ ┌───────────────┐┌────┐┌───────────────┐┌────┐┌───────────────┐ ░ ┌──────┐ ░ ┌───────────────┐┌────┐┌───────────────┐┌────┐┌───────────────┐ ░  ░ ┌────────────────────┐┌─────────┐┌─────────┐┌────┐┌─────────┐┌─────────┐┌────────────────────┐┌─────────┐┌─────────┐┌────┐┌─────────┐┌─────────┐┌────────────────────┐ ░ ┌──────┐ ░ ┌────────────────────┐┌─────────┐┌─────────┐┌────┐┌─────────┐┌─────────┐┌────────────────────┐┌─────────┐┌─────────┐┌────┐┌─────────┐┌─────────┐┌────────────────────┐ ░ ┌──────┐ ░ ┌────────────────────┐┌─────────┐┌─────────┐┌────┐┌─────────┐┌─────────┐┌────────────────────┐┌─────────┐┌─────────┐┌────┐┌─────────┐┌─────────┐┌───────────────────┐ ░  ░ ┌─┐                           \n",
              "       q_0: ─░─┤ Rz(d0_q0_z0) ├┤ √X ├┤ Rz(d0_q10_z0) ├┤ √X ├┤ Rz(d0_q20_z0) ├─░─┤1     ├─░─┤ Rz(d0_q30_z0) ├┤ √X ├┤ Rz(d0_q40_z0) ├┤ √X ├┤ Rz(d0_q50_z0) ├─░─┤1     ├─░─┤ Rz(d0_q60_z0) ├┤ √X ├┤ Rz(d0_q70_z0) ├┤ √X ├┤ Rz(d0_q80_z0) ├─░──░─┤ Rz(-1.0*d0_q80_z0) ├┤ Rz(π/2) ├┤ Rz(π/2) ├┤ √X ├┤ Rz(π/2) ├┤ Rz(π/2) ├┤ Rz(-1.0*d0_q70_z0) ├┤ Rz(π/2) ├┤ Rz(π/2) ├┤ √X ├┤ Rz(π/2) ├┤ Rz(π/2) ├┤ Rz(-1.0*d0_q60_z0) ├─░─┤1     ├─░─┤ Rz(-1.0*d0_q50_z0) ├┤ Rz(π/2) ├┤ Rz(π/2) ├┤ √X ├┤ Rz(π/2) ├┤ Rz(π/2) ├┤ Rz(-1.0*d0_q40_z0) ├┤ Rz(π/2) ├┤ Rz(π/2) ├┤ √X ├┤ Rz(π/2) ├┤ Rz(π/2) ├┤ Rz(-1.0*d0_q30_z0) ├─░─┤1     ├─░─┤ Rz(-1.0*d0_q20_z0) ├┤ Rz(π/2) ├┤ Rz(π/2) ├┤ √X ├┤ Rz(π/2) ├┤ Rz(π/2) ├┤ Rz(-1.0*d0_q10_z0) ├┤ Rz(π/2) ├┤ Rz(π/2) ├┤ √X ├┤ Rz(π/2) ├┤ Rz(π/2) ├┤ Rz(-1.0*d0_q0_z0) ├─░──░─┤M├───────────────────────────\n",
              "             ░ ├──────────────┤├────┤├───────────────┤├────┤├───────────────┤ ░ │  Ecr │ ░ ├───────────────┤├────┤├───────────────┤├────┤├───────────────┤ ░ │  Ecr │ ░ ├───────────────┤├────┤├───────────────┤├────┤├───────────────┤ ░  ░ ├────────────────────┤├─────────┤├─────────┤├────┤├─────────┤├─────────┤├────────────────────┤├─────────┤├─────────┤├────┤├─────────┤├─────────┤├────────────────────┤ ░ │  Ecr │ ░ ├────────────────────┤├─────────┤├─────────┤├────┤├─────────┤├─────────┤├────────────────────┤├─────────┤├─────────┤├────┤├─────────┤├─────────┤├────────────────────┤ ░ │  Ecr │ ░ ├────────────────────┤├─────────┤├─────────┤├────┤├─────────┤├─────────┤├────────────────────┤├─────────┤├─────────┤├────┤├─────────┤├─────────┤├───────────────────┤ ░  ░ └╥┘┌─┐                        \n",
              "       q_1: ─░─┤ Rz(d0_q1_z0) ├┤ √X ├┤ Rz(d0_q11_z0) ├┤ √X ├┤ Rz(d0_q21_z0) ├─░─┤0     ├─░─┤ Rz(d0_q31_z0) ├┤ √X ├┤ Rz(d0_q41_z0) ├┤ √X ├┤ Rz(d0_q51_z0) ├─░─┤0     ├─░─┤ Rz(d0_q61_z0) ├┤ √X ├┤ Rz(d0_q71_z0) ├┤ √X ├┤ Rz(d0_q81_z0) ├─░──░─┤ Rz(-1.0*d0_q81_z0) ├┤ Rz(π/2) ├┤ Rz(π/2) ├┤ √X ├┤ Rz(π/2) ├┤ Rz(π/2) ├┤ Rz(-1.0*d0_q71_z0) ├┤ Rz(π/2) ├┤ Rz(π/2) ├┤ √X ├┤ Rz(π/2) ├┤ Rz(π/2) ├┤ Rz(-1.0*d0_q61_z0) ├─░─┤0     ├─░─┤ Rz(-1.0*d0_q51_z0) ├┤ Rz(π/2) ├┤ Rz(π/2) ├┤ √X ├┤ Rz(π/2) ├┤ Rz(π/2) ├┤ Rz(-1.0*d0_q41_z0) ├┤ Rz(π/2) ├┤ Rz(π/2) ├┤ √X ├┤ Rz(π/2) ├┤ Rz(π/2) ├┤ Rz(-1.0*d0_q31_z0) ├─░─┤0     ├─░─┤ Rz(-1.0*d0_q21_z0) ├┤ Rz(π/2) ├┤ Rz(π/2) ├┤ √X ├┤ Rz(π/2) ├┤ Rz(π/2) ├┤ Rz(-1.0*d0_q11_z0) ├┤ Rz(π/2) ├┤ Rz(π/2) ├┤ √X ├┤ Rz(π/2) ├┤ Rz(π/2) ├┤ Rz(-1.0*d0_q1_z0) ├─░──░──╫─┤M├────────────────────────\n",
              "             ░ ├──────────────┤├────┤├───────────────┤├────┤├───────────────┤ ░ ├──────┤ ░ ├───────────────┤├────┤├───────────────┤├────┤├───────────────┤ ░ ├──────┤ ░ ├───────────────┤├────┤├───────────────┤├────┤├───────────────┤ ░  ░ ├────────────────────┤├─────────┤├─────────┤├────┤├─────────┤├─────────┤├────────────────────┤├─────────┤├─────────┤├────┤├─────────┤├─────────┤├────────────────────┤ ░ ├──────┤ ░ ├────────────────────┤├─────────┤├─────────┤├────┤├─────────┤├─────────┤├────────────────────┤├─────────┤├─────────┤├────┤├─────────┤├─────────┤├────────────────────┤ ░ ├──────┤ ░ ├────────────────────┤├─────────┤├─────────┤├────┤├─────────┤├─────────┤├────────────────────┤├─────────┤├─────────┤├────┤├─────────┤├─────────┤├───────────────────┤ ░  ░  ║ └╥┘┌─┐                     \n",
              "       q_2: ─░─┤ Rz(d0_q2_z0) ├┤ √X ├┤ Rz(d0_q12_z0) ├┤ √X ├┤ Rz(d0_q22_z0) ├─░─┤1     ├─░─┤ Rz(d0_q32_z0) ├┤ √X ├┤ Rz(d0_q42_z0) ├┤ √X ├┤ Rz(d0_q52_z0) ├─░─┤1     ├─░─┤ Rz(d0_q62_z0) ├┤ √X ├┤ Rz(d0_q72_z0) ├┤ √X ├┤ Rz(d0_q82_z0) ├─░──░─┤ Rz(-1.0*d0_q82_z0) ├┤ Rz(π/2) ├┤ Rz(π/2) ├┤ √X ├┤ Rz(π/2) ├┤ Rz(π/2) ├┤ Rz(-1.0*d0_q72_z0) ├┤ Rz(π/2) ├┤ Rz(π/2) ├┤ √X ├┤ Rz(π/2) ├┤ Rz(π/2) ├┤ Rz(-1.0*d0_q62_z0) ├─░─┤1     ├─░─┤ Rz(-1.0*d0_q52_z0) ├┤ Rz(π/2) ├┤ Rz(π/2) ├┤ √X ├┤ Rz(π/2) ├┤ Rz(π/2) ├┤ Rz(-1.0*d0_q42_z0) ├┤ Rz(π/2) ├┤ Rz(π/2) ├┤ √X ├┤ Rz(π/2) ├┤ Rz(π/2) ├┤ Rz(-1.0*d0_q32_z0) ├─░─┤1     ├─░─┤ Rz(-1.0*d0_q22_z0) ├┤ Rz(π/2) ├┤ Rz(π/2) ├┤ √X ├┤ Rz(π/2) ├┤ Rz(π/2) ├┤ Rz(-1.0*d0_q12_z0) ├┤ Rz(π/2) ├┤ Rz(π/2) ├┤ √X ├┤ Rz(π/2) ├┤ Rz(π/2) ├┤ Rz(-1.0*d0_q2_z0) ├─░──░──╫──╫─┤M├─────────────────────\n",
              "             ░ ├──────────────┤├────┤├───────────────┤├────┤├───────────────┤ ░ │  Ecr │ ░ ├───────────────┤├────┤├───────────────┤├────┤├───────────────┤ ░ │  Ecr │ ░ ├───────────────┤├────┤├───────────────┤├────┤├───────────────┤ ░  ░ ├────────────────────┤├─────────┤├─────────┤├────┤├─────────┤├─────────┤├────────────────────┤├─────────┤├─────────┤├────┤├─────────┤├─────────┤├────────────────────┤ ░ │  Ecr │ ░ ├────────────────────┤├─────────┤├─────────┤├────┤├─────────┤├─────────┤├────────────────────┤├─────────┤├─────────┤├────┤├─────────┤├─────────┤├────────────────────┤ ░ │  Ecr │ ░ ├────────────────────┤├─────────┤├─────────┤├────┤├─────────┤├─────────┤├────────────────────┤├─────────┤├─────────┤├────┤├─────────┤├─────────┤├───────────────────┤ ░  ░  ║  ║ └╥┘┌─┐                  \n",
              "       q_3: ─░─┤ Rz(d0_q3_z0) ├┤ √X ├┤ Rz(d0_q13_z0) ├┤ √X ├┤ Rz(d0_q23_z0) ├─░─┤0     ├─░─┤ Rz(d0_q33_z0) ├┤ √X ├┤ Rz(d0_q43_z0) ├┤ √X ├┤ Rz(d0_q53_z0) ├─░─┤0     ├─░─┤ Rz(d0_q63_z0) ├┤ √X ├┤ Rz(d0_q73_z0) ├┤ √X ├┤ Rz(d0_q83_z0) ├─░──░─┤ Rz(-1.0*d0_q83_z0) ├┤ Rz(π/2) ├┤ Rz(π/2) ├┤ √X ├┤ Rz(π/2) ├┤ Rz(π/2) ├┤ Rz(-1.0*d0_q73_z0) ├┤ Rz(π/2) ├┤ Rz(π/2) ├┤ √X ├┤ Rz(π/2) ├┤ Rz(π/2) ├┤ Rz(-1.0*d0_q63_z0) ├─░─┤0     ├─░─┤ Rz(-1.0*d0_q53_z0) ├┤ Rz(π/2) ├┤ Rz(π/2) ├┤ √X ├┤ Rz(π/2) ├┤ Rz(π/2) ├┤ Rz(-1.0*d0_q43_z0) ├┤ Rz(π/2) ├┤ Rz(π/2) ├┤ √X ├┤ Rz(π/2) ├┤ Rz(π/2) ├┤ Rz(-1.0*d0_q33_z0) ├─░─┤0     ├─░─┤ Rz(-1.0*d0_q23_z0) ├┤ Rz(π/2) ├┤ Rz(π/2) ├┤ √X ├┤ Rz(π/2) ├┤ Rz(π/2) ├┤ Rz(-1.0*d0_q13_z0) ├┤ Rz(π/2) ├┤ Rz(π/2) ├┤ √X ├┤ Rz(π/2) ├┤ Rz(π/2) ├┤ Rz(-1.0*d0_q3_z0) ├─░──░──╫──╫──╫─┤M├──────────────────\n",
              "             ░ ├──────────────┤├────┤├───────────────┤├────┤├───────────────┤ ░ ├──────┤ ░ ├───────────────┤├────┤├───────────────┤├────┤├───────────────┤ ░ ├──────┤ ░ ├───────────────┤├────┤├───────────────┤├────┤├───────────────┤ ░  ░ ├────────────────────┤├─────────┤├─────────┤├────┤├─────────┤├─────────┤├────────────────────┤├─────────┤├─────────┤├────┤├─────────┤├─────────┤├────────────────────┤ ░ ├──────┤ ░ ├────────────────────┤├─────────┤├─────────┤├────┤├─────────┤├─────────┤├────────────────────┤├─────────┤├─────────┤├────┤├─────────┤├─────────┤├────────────────────┤ ░ ├──────┤ ░ ├────────────────────┤├─────────┤├─────────┤├────┤├─────────┤├─────────┤├────────────────────┤├─────────┤├─────────┤├────┤├─────────┤├─────────┤├───────────────────┤ ░  ░  ║  ║  ║ └╥┘┌─┐               \n",
              "       q_4: ─░─┤ Rz(d0_q4_z0) ├┤ √X ├┤ Rz(d0_q14_z0) ├┤ √X ├┤ Rz(d0_q24_z0) ├─░─┤0     ├─░─┤ Rz(d0_q34_z0) ├┤ √X ├┤ Rz(d0_q44_z0) ├┤ √X ├┤ Rz(d0_q54_z0) ├─░─┤0     ├─░─┤ Rz(d0_q64_z0) ├┤ √X ├┤ Rz(d0_q74_z0) ├┤ √X ├┤ Rz(d0_q84_z0) ├─░──░─┤ Rz(-1.0*d0_q84_z0) ├┤ Rz(π/2) ├┤ Rz(π/2) ├┤ √X ├┤ Rz(π/2) ├┤ Rz(π/2) ├┤ Rz(-1.0*d0_q74_z0) ├┤ Rz(π/2) ├┤ Rz(π/2) ├┤ √X ├┤ Rz(π/2) ├┤ Rz(π/2) ├┤ Rz(-1.0*d0_q64_z0) ├─░─┤0     ├─░─┤ Rz(-1.0*d0_q54_z0) ├┤ Rz(π/2) ├┤ Rz(π/2) ├┤ √X ├┤ Rz(π/2) ├┤ Rz(π/2) ├┤ Rz(-1.0*d0_q44_z0) ├┤ Rz(π/2) ├┤ Rz(π/2) ├┤ √X ├┤ Rz(π/2) ├┤ Rz(π/2) ├┤ Rz(-1.0*d0_q34_z0) ├─░─┤0     ├─░─┤ Rz(-1.0*d0_q24_z0) ├┤ Rz(π/2) ├┤ Rz(π/2) ├┤ √X ├┤ Rz(π/2) ├┤ Rz(π/2) ├┤ Rz(-1.0*d0_q14_z0) ├┤ Rz(π/2) ├┤ Rz(π/2) ├┤ √X ├┤ Rz(π/2) ├┤ Rz(π/2) ├┤ Rz(-1.0*d0_q4_z0) ├─░──░──╫──╫──╫──╫─┤M├───────────────\n",
              "             ░ ├──────────────┤├────┤├───────────────┤├────┤├───────────────┤ ░ │  Ecr │ ░ ├───────────────┤├────┤├───────────────┤├────┤├───────────────┤ ░ │  Ecr │ ░ ├───────────────┤├────┤├───────────────┤├────┤├───────────────┤ ░  ░ ├────────────────────┤├─────────┤├─────────┤├────┤├─────────┤├─────────┤├────────────────────┤├─────────┤├─────────┤├────┤├─────────┤├─────────┤├────────────────────┤ ░ │  Ecr │ ░ ├────────────────────┤├─────────┤├─────────┤├────┤├─────────┤├─────────┤├────────────────────┤├─────────┤├─────────┤├────┤├─────────┤├─────────┤├────────────────────┤ ░ │  Ecr │ ░ ├────────────────────┤├─────────┤├─────────┤├────┤├─────────┤├─────────┤├────────────────────┤├─────────┤├─────────┤├────┤├─────────┤├─────────┤├───────────────────┤ ░  ░  ║  ║  ║  ║ └╥┘┌─┐            \n",
              "       q_5: ─░─┤ Rz(d0_q5_z0) ├┤ √X ├┤ Rz(d0_q15_z0) ├┤ √X ├┤ Rz(d0_q25_z0) ├─░─┤1     ├─░─┤ Rz(d0_q35_z0) ├┤ √X ├┤ Rz(d0_q45_z0) ├┤ √X ├┤ Rz(d0_q55_z0) ├─░─┤1     ├─░─┤ Rz(d0_q65_z0) ├┤ √X ├┤ Rz(d0_q75_z0) ├┤ √X ├┤ Rz(d0_q85_z0) ├─░──░─┤ Rz(-1.0*d0_q85_z0) ├┤ Rz(π/2) ├┤ Rz(π/2) ├┤ √X ├┤ Rz(π/2) ├┤ Rz(π/2) ├┤ Rz(-1.0*d0_q75_z0) ├┤ Rz(π/2) ├┤ Rz(π/2) ├┤ √X ├┤ Rz(π/2) ├┤ Rz(π/2) ├┤ Rz(-1.0*d0_q65_z0) ├─░─┤1     ├─░─┤ Rz(-1.0*d0_q55_z0) ├┤ Rz(π/2) ├┤ Rz(π/2) ├┤ √X ├┤ Rz(π/2) ├┤ Rz(π/2) ├┤ Rz(-1.0*d0_q45_z0) ├┤ Rz(π/2) ├┤ Rz(π/2) ├┤ √X ├┤ Rz(π/2) ├┤ Rz(π/2) ├┤ Rz(-1.0*d0_q35_z0) ├─░─┤1     ├─░─┤ Rz(-1.0*d0_q25_z0) ├┤ Rz(π/2) ├┤ Rz(π/2) ├┤ √X ├┤ Rz(π/2) ├┤ Rz(π/2) ├┤ Rz(-1.0*d0_q15_z0) ├┤ Rz(π/2) ├┤ Rz(π/2) ├┤ √X ├┤ Rz(π/2) ├┤ Rz(π/2) ├┤ Rz(-1.0*d0_q5_z0) ├─░──░──╫──╫──╫──╫──╫─┤M├────────────\n",
              "             ░ ├──────────────┤├────┤├───────────────┤├────┤├───────────────┤ ░ ├──────┤ ░ ├───────────────┤├────┤├───────────────┤├────┤├───────────────┤ ░ ├──────┤ ░ ├───────────────┤├────┤├───────────────┤├────┤├───────────────┤ ░  ░ ├────────────────────┤├─────────┤├─────────┤├────┤├─────────┤├─────────┤├────────────────────┤├─────────┤├─────────┤├────┤├─────────┤├─────────┤├────────────────────┤ ░ ├──────┤ ░ ├────────────────────┤├─────────┤├─────────┤├────┤├─────────┤├─────────┤├────────────────────┤├─────────┤├─────────┤├────┤├─────────┤├─────────┤├────────────────────┤ ░ ├──────┤ ░ ├────────────────────┤├─────────┤├─────────┤├────┤├─────────┤├─────────┤├────────────────────┤├─────────┤├─────────┤├────┤├─────────┤├─────────┤├───────────────────┤ ░  ░  ║  ║  ║  ║  ║ └╥┘┌─┐         \n",
              "       q_6: ─░─┤ Rz(d0_q6_z0) ├┤ √X ├┤ Rz(d0_q16_z0) ├┤ √X ├┤ Rz(d0_q26_z0) ├─░─┤1     ├─░─┤ Rz(d0_q36_z0) ├┤ √X ├┤ Rz(d0_q46_z0) ├┤ √X ├┤ Rz(d0_q56_z0) ├─░─┤1     ├─░─┤ Rz(d0_q66_z0) ├┤ √X ├┤ Rz(d0_q76_z0) ├┤ √X ├┤ Rz(d0_q86_z0) ├─░──░─┤ Rz(-1.0*d0_q86_z0) ├┤ Rz(π/2) ├┤ Rz(π/2) ├┤ √X ├┤ Rz(π/2) ├┤ Rz(π/2) ├┤ Rz(-1.0*d0_q76_z0) ├┤ Rz(π/2) ├┤ Rz(π/2) ├┤ √X ├┤ Rz(π/2) ├┤ Rz(π/2) ├┤ Rz(-1.0*d0_q66_z0) ├─░─┤1     ├─░─┤ Rz(-1.0*d0_q56_z0) ├┤ Rz(π/2) ├┤ Rz(π/2) ├┤ √X ├┤ Rz(π/2) ├┤ Rz(π/2) ├┤ Rz(-1.0*d0_q46_z0) ├┤ Rz(π/2) ├┤ Rz(π/2) ├┤ √X ├┤ Rz(π/2) ├┤ Rz(π/2) ├┤ Rz(-1.0*d0_q36_z0) ├─░─┤1     ├─░─┤ Rz(-1.0*d0_q26_z0) ├┤ Rz(π/2) ├┤ Rz(π/2) ├┤ √X ├┤ Rz(π/2) ├┤ Rz(π/2) ├┤ Rz(-1.0*d0_q16_z0) ├┤ Rz(π/2) ├┤ Rz(π/2) ├┤ √X ├┤ Rz(π/2) ├┤ Rz(π/2) ├┤ Rz(-1.0*d0_q6_z0) ├─░──░──╫──╫──╫──╫──╫──╫─┤M├─────────\n",
              "             ░ ├──────────────┤├────┤├───────────────┤├────┤├───────────────┤ ░ │  Ecr │ ░ ├───────────────┤├────┤├───────────────┤├────┤├───────────────┤ ░ │  Ecr │ ░ ├───────────────┤├────┤├───────────────┤├────┤├───────────────┤ ░  ░ ├────────────────────┤├─────────┤├─────────┤├────┤├─────────┤├─────────┤├────────────────────┤├─────────┤├─────────┤├────┤├─────────┤├─────────┤├────────────────────┤ ░ │  Ecr │ ░ ├────────────────────┤├─────────┤├─────────┤├────┤├─────────┤├─────────┤├────────────────────┤├─────────┤├─────────┤├────┤├─────────┤├─────────┤├────────────────────┤ ░ │  Ecr │ ░ ├────────────────────┤├─────────┤├─────────┤├────┤├─────────┤├─────────┤├────────────────────┤├─────────┤├─────────┤├────┤├─────────┤├─────────┤├───────────────────┤ ░  ░  ║  ║  ║  ║  ║  ║ └╥┘┌─┐      \n",
              "       q_7: ─░─┤ Rz(d0_q7_z0) ├┤ √X ├┤ Rz(d0_q17_z0) ├┤ √X ├┤ Rz(d0_q27_z0) ├─░─┤0     ├─░─┤ Rz(d0_q37_z0) ├┤ √X ├┤ Rz(d0_q47_z0) ├┤ √X ├┤ Rz(d0_q57_z0) ├─░─┤0     ├─░─┤ Rz(d0_q67_z0) ├┤ √X ├┤ Rz(d0_q77_z0) ├┤ √X ├┤ Rz(d0_q87_z0) ├─░──░─┤ Rz(-1.0*d0_q87_z0) ├┤ Rz(π/2) ├┤ Rz(π/2) ├┤ √X ├┤ Rz(π/2) ├┤ Rz(π/2) ├┤ Rz(-1.0*d0_q77_z0) ├┤ Rz(π/2) ├┤ Rz(π/2) ├┤ √X ├┤ Rz(π/2) ├┤ Rz(π/2) ├┤ Rz(-1.0*d0_q67_z0) ├─░─┤0     ├─░─┤ Rz(-1.0*d0_q57_z0) ├┤ Rz(π/2) ├┤ Rz(π/2) ├┤ √X ├┤ Rz(π/2) ├┤ Rz(π/2) ├┤ Rz(-1.0*d0_q47_z0) ├┤ Rz(π/2) ├┤ Rz(π/2) ├┤ √X ├┤ Rz(π/2) ├┤ Rz(π/2) ├┤ Rz(-1.0*d0_q37_z0) ├─░─┤0     ├─░─┤ Rz(-1.0*d0_q27_z0) ├┤ Rz(π/2) ├┤ Rz(π/2) ├┤ √X ├┤ Rz(π/2) ├┤ Rz(π/2) ├┤ Rz(-1.0*d0_q17_z0) ├┤ Rz(π/2) ├┤ Rz(π/2) ├┤ √X ├┤ Rz(π/2) ├┤ Rz(π/2) ├┤ Rz(-1.0*d0_q7_z0) ├─░──░──╫──╫──╫──╫──╫──╫──╫─┤M├──────\n",
              "             ░ ├──────────────┤├────┤├───────────────┤├────┤├───────────────┤ ░ ├──────┤ ░ ├───────────────┤├────┤├───────────────┤├────┤├───────────────┤ ░ ├──────┤ ░ ├───────────────┤├────┤├───────────────┤├────┤├───────────────┤ ░  ░ ├────────────────────┤├─────────┤├─────────┤├────┤├─────────┤├─────────┤├────────────────────┤├─────────┤├─────────┤├────┤├─────────┤├─────────┤├────────────────────┤ ░ ├──────┤ ░ ├────────────────────┤├─────────┤├─────────┤├────┤├─────────┤├─────────┤├────────────────────┤├─────────┤├─────────┤├────┤├─────────┤├─────────┤├────────────────────┤ ░ ├──────┤ ░ ├────────────────────┤├─────────┤├─────────┤├────┤├─────────┤├─────────┤├────────────────────┤├─────────┤├─────────┤├────┤├─────────┤├─────────┤├───────────────────┤ ░  ░  ║  ║  ║  ║  ║  ║  ║ └╥┘┌─┐   \n",
              "       q_8: ─░─┤ Rz(d0_q8_z0) ├┤ √X ├┤ Rz(d0_q18_z0) ├┤ √X ├┤ Rz(d0_q28_z0) ├─░─┤0     ├─░─┤ Rz(d0_q38_z0) ├┤ √X ├┤ Rz(d0_q48_z0) ├┤ √X ├┤ Rz(d0_q58_z0) ├─░─┤0     ├─░─┤ Rz(d0_q68_z0) ├┤ √X ├┤ Rz(d0_q78_z0) ├┤ √X ├┤ Rz(d0_q88_z0) ├─░──░─┤ Rz(-1.0*d0_q88_z0) ├┤ Rz(π/2) ├┤ Rz(π/2) ├┤ √X ├┤ Rz(π/2) ├┤ Rz(π/2) ├┤ Rz(-1.0*d0_q78_z0) ├┤ Rz(π/2) ├┤ Rz(π/2) ├┤ √X ├┤ Rz(π/2) ├┤ Rz(π/2) ├┤ Rz(-1.0*d0_q68_z0) ├─░─┤0     ├─░─┤ Rz(-1.0*d0_q58_z0) ├┤ Rz(π/2) ├┤ Rz(π/2) ├┤ √X ├┤ Rz(π/2) ├┤ Rz(π/2) ├┤ Rz(-1.0*d0_q48_z0) ├┤ Rz(π/2) ├┤ Rz(π/2) ├┤ √X ├┤ Rz(π/2) ├┤ Rz(π/2) ├┤ Rz(-1.0*d0_q38_z0) ├─░─┤0     ├─░─┤ Rz(-1.0*d0_q28_z0) ├┤ Rz(π/2) ├┤ Rz(π/2) ├┤ √X ├┤ Rz(π/2) ├┤ Rz(π/2) ├┤ Rz(-1.0*d0_q18_z0) ├┤ Rz(π/2) ├┤ Rz(π/2) ├┤ √X ├┤ Rz(π/2) ├┤ Rz(π/2) ├┤ Rz(-1.0*d0_q8_z0) ├─░──░──╫──╫──╫──╫──╫──╫──╫──╫─┤M├───\n",
              "             ░ ├──────────────┤├────┤├───────────────┤├────┤├───────────────┤ ░ │  Ecr │ ░ ├───────────────┤├────┤├───────────────┤├────┤├───────────────┤ ░ │  Ecr │ ░ ├───────────────┤├────┤├───────────────┤├────┤├───────────────┤ ░  ░ ├────────────────────┤├─────────┤├─────────┤├────┤├─────────┤├─────────┤├────────────────────┤├─────────┤├─────────┤├────┤├─────────┤├─────────┤├────────────────────┤ ░ │  Ecr │ ░ ├────────────────────┤├─────────┤├─────────┤├────┤├─────────┤├─────────┤├────────────────────┤├─────────┤├─────────┤├────┤├─────────┤├─────────┤├────────────────────┤ ░ │  Ecr │ ░ ├────────────────────┤├─────────┤├─────────┤├────┤├─────────┤├─────────┤├────────────────────┤├─────────┤├─────────┤├────┤├─────────┤├─────────┤├───────────────────┤ ░  ░  ║  ║  ║  ║  ║  ║  ║  ║ └╥┘┌─┐\n",
              "       q_9: ─░─┤ Rz(d0_q9_z0) ├┤ √X ├┤ Rz(d0_q19_z0) ├┤ √X ├┤ Rz(d0_q29_z0) ├─░─┤1     ├─░─┤ Rz(d0_q39_z0) ├┤ √X ├┤ Rz(d0_q49_z0) ├┤ √X ├┤ Rz(d0_q59_z0) ├─░─┤1     ├─░─┤ Rz(d0_q69_z0) ├┤ √X ├┤ Rz(d0_q79_z0) ├┤ √X ├┤ Rz(d0_q89_z0) ├─░──░─┤ Rz(-1.0*d0_q89_z0) ├┤ Rz(π/2) ├┤ Rz(π/2) ├┤ √X ├┤ Rz(π/2) ├┤ Rz(π/2) ├┤ Rz(-1.0*d0_q79_z0) ├┤ Rz(π/2) ├┤ Rz(π/2) ├┤ √X ├┤ Rz(π/2) ├┤ Rz(π/2) ├┤ Rz(-1.0*d0_q69_z0) ├─░─┤1     ├─░─┤ Rz(-1.0*d0_q59_z0) ├┤ Rz(π/2) ├┤ Rz(π/2) ├┤ √X ├┤ Rz(π/2) ├┤ Rz(π/2) ├┤ Rz(-1.0*d0_q49_z0) ├┤ Rz(π/2) ├┤ Rz(π/2) ├┤ √X ├┤ Rz(π/2) ├┤ Rz(π/2) ├┤ Rz(-1.0*d0_q39_z0) ├─░─┤1     ├─░─┤ Rz(-1.0*d0_q29_z0) ├┤ Rz(π/2) ├┤ Rz(π/2) ├┤ √X ├┤ Rz(π/2) ├┤ Rz(π/2) ├┤ Rz(-1.0*d0_q19_z0) ├┤ Rz(π/2) ├┤ Rz(π/2) ├┤ √X ├┤ Rz(π/2) ├┤ Rz(π/2) ├┤ Rz(-1.0*d0_q9_z0) ├─░──░──╫──╫──╫──╫──╫──╫──╫──╫──╫─┤M├\n",
              "             ░ └──────────────┘└────┘└───────────────┘└────┘└───────────────┘ ░ └──────┘ ░ └───────────────┘└────┘└───────────────┘└────┘└───────────────┘ ░ └──────┘ ░ └───────────────┘└────┘└───────────────┘└────┘└───────────────┘ ░  ░ └────────────────────┘└─────────┘└─────────┘└────┘└─────────┘└─────────┘└────────────────────┘└─────────┘└─────────┘└────┘└─────────┘└─────────┘└────────────────────┘ ░ └──────┘ ░ └────────────────────┘└─────────┘└─────────┘└────┘└─────────┘└─────────┘└────────────────────┘└─────────┘└─────────┘└────┘└─────────┘└─────────┘└────────────────────┘ ░ └──────┘ ░ └────────────────────┘└─────────┘└─────────┘└────┘└─────────┘└─────────┘└────────────────────┘└─────────┘└─────────┘└────┘└─────────┘└─────────┘└───────────────────┘ ░  ░  ║  ║  ║  ║  ║  ║  ║  ║  ║ └╥┘\n",
              "measure: 10/═════════════════════════════════════════════════════════════════════════════════════════════════════════════════════════════════════════════════════════════════════════════════════════════════════════════════════════════════════════════════════════════════════════════════════════════════════════════════════════════════════════════════════════════════════════════════════════════════════════════════════════════════════════════════════════════════════════════════════════════════════════════════════════════════════════════════════════════════════════════════════════════════════════════════════════════════════════════════════════════════════════════════════════════════════════════════════════════════════════════════════════════════════════════════════╩══╩══╩══╩══╩══╩══╩══╩══╩══╩═\n",
              "                                                                                                                                                                                                                                                                                                                                                                                                                                                                                                                                                                                                                                                                                                                                                                                                 0  1  2  3  4  5  6  7  8  9 "
            ],
            "text/html": [
              "<pre style=\"word-wrap: normal;white-space: pre;background: #fff0;line-height: 1.1;font-family: &quot;Courier New&quot;,Courier,monospace\">             ░ ┌──────────────┐┌────┐┌───────────────┐┌────┐┌───────────────┐ ░ ┌──────┐ ░ ┌───────────────┐┌────┐┌───────────────┐┌────┐┌───────────────┐ ░ ┌──────┐ ░ ┌───────────────┐┌────┐┌───────────────┐┌────┐┌───────────────┐ ░  ░ ┌────────────────────┐┌─────────┐┌─────────┐┌────┐┌─────────┐┌─────────┐┌────────────────────┐┌─────────┐┌─────────┐┌────┐┌─────────┐┌─────────┐┌────────────────────┐ ░ ┌──────┐ ░ ┌────────────────────┐┌─────────┐┌─────────┐┌────┐┌─────────┐┌─────────┐┌────────────────────┐┌─────────┐┌─────────┐┌────┐┌─────────┐┌─────────┐┌────────────────────┐ ░ ┌──────┐ ░ ┌────────────────────┐┌─────────┐┌─────────┐┌────┐┌─────────┐┌─────────┐┌────────────────────┐┌─────────┐┌─────────┐┌────┐┌─────────┐┌─────────┐┌───────────────────┐ ░  ░ ┌─┐                           \n",
              "       q_0: ─░─┤ Rz(d0_q0_z0) ├┤ √X ├┤ Rz(d0_q10_z0) ├┤ √X ├┤ Rz(d0_q20_z0) ├─░─┤1     ├─░─┤ Rz(d0_q30_z0) ├┤ √X ├┤ Rz(d0_q40_z0) ├┤ √X ├┤ Rz(d0_q50_z0) ├─░─┤1     ├─░─┤ Rz(d0_q60_z0) ├┤ √X ├┤ Rz(d0_q70_z0) ├┤ √X ├┤ Rz(d0_q80_z0) ├─░──░─┤ Rz(-1.0*d0_q80_z0) ├┤ Rz(π/2) ├┤ Rz(π/2) ├┤ √X ├┤ Rz(π/2) ├┤ Rz(π/2) ├┤ Rz(-1.0*d0_q70_z0) ├┤ Rz(π/2) ├┤ Rz(π/2) ├┤ √X ├┤ Rz(π/2) ├┤ Rz(π/2) ├┤ Rz(-1.0*d0_q60_z0) ├─░─┤1     ├─░─┤ Rz(-1.0*d0_q50_z0) ├┤ Rz(π/2) ├┤ Rz(π/2) ├┤ √X ├┤ Rz(π/2) ├┤ Rz(π/2) ├┤ Rz(-1.0*d0_q40_z0) ├┤ Rz(π/2) ├┤ Rz(π/2) ├┤ √X ├┤ Rz(π/2) ├┤ Rz(π/2) ├┤ Rz(-1.0*d0_q30_z0) ├─░─┤1     ├─░─┤ Rz(-1.0*d0_q20_z0) ├┤ Rz(π/2) ├┤ Rz(π/2) ├┤ √X ├┤ Rz(π/2) ├┤ Rz(π/2) ├┤ Rz(-1.0*d0_q10_z0) ├┤ Rz(π/2) ├┤ Rz(π/2) ├┤ √X ├┤ Rz(π/2) ├┤ Rz(π/2) ├┤ Rz(-1.0*d0_q0_z0) ├─░──░─┤M├───────────────────────────\n",
              "             ░ ├──────────────┤├────┤├───────────────┤├────┤├───────────────┤ ░ │  Ecr │ ░ ├───────────────┤├────┤├───────────────┤├────┤├───────────────┤ ░ │  Ecr │ ░ ├───────────────┤├────┤├───────────────┤├────┤├───────────────┤ ░  ░ ├────────────────────┤├─────────┤├─────────┤├────┤├─────────┤├─────────┤├────────────────────┤├─────────┤├─────────┤├────┤├─────────┤├─────────┤├────────────────────┤ ░ │  Ecr │ ░ ├────────────────────┤├─────────┤├─────────┤├────┤├─────────┤├─────────┤├────────────────────┤├─────────┤├─────────┤├────┤├─────────┤├─────────┤├────────────────────┤ ░ │  Ecr │ ░ ├────────────────────┤├─────────┤├─────────┤├────┤├─────────┤├─────────┤├────────────────────┤├─────────┤├─────────┤├────┤├─────────┤├─────────┤├───────────────────┤ ░  ░ └╥┘┌─┐                        \n",
              "       q_1: ─░─┤ Rz(d0_q1_z0) ├┤ √X ├┤ Rz(d0_q11_z0) ├┤ √X ├┤ Rz(d0_q21_z0) ├─░─┤0     ├─░─┤ Rz(d0_q31_z0) ├┤ √X ├┤ Rz(d0_q41_z0) ├┤ √X ├┤ Rz(d0_q51_z0) ├─░─┤0     ├─░─┤ Rz(d0_q61_z0) ├┤ √X ├┤ Rz(d0_q71_z0) ├┤ √X ├┤ Rz(d0_q81_z0) ├─░──░─┤ Rz(-1.0*d0_q81_z0) ├┤ Rz(π/2) ├┤ Rz(π/2) ├┤ √X ├┤ Rz(π/2) ├┤ Rz(π/2) ├┤ Rz(-1.0*d0_q71_z0) ├┤ Rz(π/2) ├┤ Rz(π/2) ├┤ √X ├┤ Rz(π/2) ├┤ Rz(π/2) ├┤ Rz(-1.0*d0_q61_z0) ├─░─┤0     ├─░─┤ Rz(-1.0*d0_q51_z0) ├┤ Rz(π/2) ├┤ Rz(π/2) ├┤ √X ├┤ Rz(π/2) ├┤ Rz(π/2) ├┤ Rz(-1.0*d0_q41_z0) ├┤ Rz(π/2) ├┤ Rz(π/2) ├┤ √X ├┤ Rz(π/2) ├┤ Rz(π/2) ├┤ Rz(-1.0*d0_q31_z0) ├─░─┤0     ├─░─┤ Rz(-1.0*d0_q21_z0) ├┤ Rz(π/2) ├┤ Rz(π/2) ├┤ √X ├┤ Rz(π/2) ├┤ Rz(π/2) ├┤ Rz(-1.0*d0_q11_z0) ├┤ Rz(π/2) ├┤ Rz(π/2) ├┤ √X ├┤ Rz(π/2) ├┤ Rz(π/2) ├┤ Rz(-1.0*d0_q1_z0) ├─░──░──╫─┤M├────────────────────────\n",
              "             ░ ├──────────────┤├────┤├───────────────┤├────┤├───────────────┤ ░ ├──────┤ ░ ├───────────────┤├────┤├───────────────┤├────┤├───────────────┤ ░ ├──────┤ ░ ├───────────────┤├────┤├───────────────┤├────┤├───────────────┤ ░  ░ ├────────────────────┤├─────────┤├─────────┤├────┤├─────────┤├─────────┤├────────────────────┤├─────────┤├─────────┤├────┤├─────────┤├─────────┤├────────────────────┤ ░ ├──────┤ ░ ├────────────────────┤├─────────┤├─────────┤├────┤├─────────┤├─────────┤├────────────────────┤├─────────┤├─────────┤├────┤├─────────┤├─────────┤├────────────────────┤ ░ ├──────┤ ░ ├────────────────────┤├─────────┤├─────────┤├────┤├─────────┤├─────────┤├────────────────────┤├─────────┤├─────────┤├────┤├─────────┤├─────────┤├───────────────────┤ ░  ░  ║ └╥┘┌─┐                     \n",
              "       q_2: ─░─┤ Rz(d0_q2_z0) ├┤ √X ├┤ Rz(d0_q12_z0) ├┤ √X ├┤ Rz(d0_q22_z0) ├─░─┤1     ├─░─┤ Rz(d0_q32_z0) ├┤ √X ├┤ Rz(d0_q42_z0) ├┤ √X ├┤ Rz(d0_q52_z0) ├─░─┤1     ├─░─┤ Rz(d0_q62_z0) ├┤ √X ├┤ Rz(d0_q72_z0) ├┤ √X ├┤ Rz(d0_q82_z0) ├─░──░─┤ Rz(-1.0*d0_q82_z0) ├┤ Rz(π/2) ├┤ Rz(π/2) ├┤ √X ├┤ Rz(π/2) ├┤ Rz(π/2) ├┤ Rz(-1.0*d0_q72_z0) ├┤ Rz(π/2) ├┤ Rz(π/2) ├┤ √X ├┤ Rz(π/2) ├┤ Rz(π/2) ├┤ Rz(-1.0*d0_q62_z0) ├─░─┤1     ├─░─┤ Rz(-1.0*d0_q52_z0) ├┤ Rz(π/2) ├┤ Rz(π/2) ├┤ √X ├┤ Rz(π/2) ├┤ Rz(π/2) ├┤ Rz(-1.0*d0_q42_z0) ├┤ Rz(π/2) ├┤ Rz(π/2) ├┤ √X ├┤ Rz(π/2) ├┤ Rz(π/2) ├┤ Rz(-1.0*d0_q32_z0) ├─░─┤1     ├─░─┤ Rz(-1.0*d0_q22_z0) ├┤ Rz(π/2) ├┤ Rz(π/2) ├┤ √X ├┤ Rz(π/2) ├┤ Rz(π/2) ├┤ Rz(-1.0*d0_q12_z0) ├┤ Rz(π/2) ├┤ Rz(π/2) ├┤ √X ├┤ Rz(π/2) ├┤ Rz(π/2) ├┤ Rz(-1.0*d0_q2_z0) ├─░──░──╫──╫─┤M├─────────────────────\n",
              "             ░ ├──────────────┤├────┤├───────────────┤├────┤├───────────────┤ ░ │  Ecr │ ░ ├───────────────┤├────┤├───────────────┤├────┤├───────────────┤ ░ │  Ecr │ ░ ├───────────────┤├────┤├───────────────┤├────┤├───────────────┤ ░  ░ ├────────────────────┤├─────────┤├─────────┤├────┤├─────────┤├─────────┤├────────────────────┤├─────────┤├─────────┤├────┤├─────────┤├─────────┤├────────────────────┤ ░ │  Ecr │ ░ ├────────────────────┤├─────────┤├─────────┤├────┤├─────────┤├─────────┤├────────────────────┤├─────────┤├─────────┤├────┤├─────────┤├─────────┤├────────────────────┤ ░ │  Ecr │ ░ ├────────────────────┤├─────────┤├─────────┤├────┤├─────────┤├─────────┤├────────────────────┤├─────────┤├─────────┤├────┤├─────────┤├─────────┤├───────────────────┤ ░  ░  ║  ║ └╥┘┌─┐                  \n",
              "       q_3: ─░─┤ Rz(d0_q3_z0) ├┤ √X ├┤ Rz(d0_q13_z0) ├┤ √X ├┤ Rz(d0_q23_z0) ├─░─┤0     ├─░─┤ Rz(d0_q33_z0) ├┤ √X ├┤ Rz(d0_q43_z0) ├┤ √X ├┤ Rz(d0_q53_z0) ├─░─┤0     ├─░─┤ Rz(d0_q63_z0) ├┤ √X ├┤ Rz(d0_q73_z0) ├┤ √X ├┤ Rz(d0_q83_z0) ├─░──░─┤ Rz(-1.0*d0_q83_z0) ├┤ Rz(π/2) ├┤ Rz(π/2) ├┤ √X ├┤ Rz(π/2) ├┤ Rz(π/2) ├┤ Rz(-1.0*d0_q73_z0) ├┤ Rz(π/2) ├┤ Rz(π/2) ├┤ √X ├┤ Rz(π/2) ├┤ Rz(π/2) ├┤ Rz(-1.0*d0_q63_z0) ├─░─┤0     ├─░─┤ Rz(-1.0*d0_q53_z0) ├┤ Rz(π/2) ├┤ Rz(π/2) ├┤ √X ├┤ Rz(π/2) ├┤ Rz(π/2) ├┤ Rz(-1.0*d0_q43_z0) ├┤ Rz(π/2) ├┤ Rz(π/2) ├┤ √X ├┤ Rz(π/2) ├┤ Rz(π/2) ├┤ Rz(-1.0*d0_q33_z0) ├─░─┤0     ├─░─┤ Rz(-1.0*d0_q23_z0) ├┤ Rz(π/2) ├┤ Rz(π/2) ├┤ √X ├┤ Rz(π/2) ├┤ Rz(π/2) ├┤ Rz(-1.0*d0_q13_z0) ├┤ Rz(π/2) ├┤ Rz(π/2) ├┤ √X ├┤ Rz(π/2) ├┤ Rz(π/2) ├┤ Rz(-1.0*d0_q3_z0) ├─░──░──╫──╫──╫─┤M├──────────────────\n",
              "             ░ ├──────────────┤├────┤├───────────────┤├────┤├───────────────┤ ░ ├──────┤ ░ ├───────────────┤├────┤├───────────────┤├────┤├───────────────┤ ░ ├──────┤ ░ ├───────────────┤├────┤├───────────────┤├────┤├───────────────┤ ░  ░ ├────────────────────┤├─────────┤├─────────┤├────┤├─────────┤├─────────┤├────────────────────┤├─────────┤├─────────┤├────┤├─────────┤├─────────┤├────────────────────┤ ░ ├──────┤ ░ ├────────────────────┤├─────────┤├─────────┤├────┤├─────────┤├─────────┤├────────────────────┤├─────────┤├─────────┤├────┤├─────────┤├─────────┤├────────────────────┤ ░ ├──────┤ ░ ├────────────────────┤├─────────┤├─────────┤├────┤├─────────┤├─────────┤├────────────────────┤├─────────┤├─────────┤├────┤├─────────┤├─────────┤├───────────────────┤ ░  ░  ║  ║  ║ └╥┘┌─┐               \n",
              "       q_4: ─░─┤ Rz(d0_q4_z0) ├┤ √X ├┤ Rz(d0_q14_z0) ├┤ √X ├┤ Rz(d0_q24_z0) ├─░─┤0     ├─░─┤ Rz(d0_q34_z0) ├┤ √X ├┤ Rz(d0_q44_z0) ├┤ √X ├┤ Rz(d0_q54_z0) ├─░─┤0     ├─░─┤ Rz(d0_q64_z0) ├┤ √X ├┤ Rz(d0_q74_z0) ├┤ √X ├┤ Rz(d0_q84_z0) ├─░──░─┤ Rz(-1.0*d0_q84_z0) ├┤ Rz(π/2) ├┤ Rz(π/2) ├┤ √X ├┤ Rz(π/2) ├┤ Rz(π/2) ├┤ Rz(-1.0*d0_q74_z0) ├┤ Rz(π/2) ├┤ Rz(π/2) ├┤ √X ├┤ Rz(π/2) ├┤ Rz(π/2) ├┤ Rz(-1.0*d0_q64_z0) ├─░─┤0     ├─░─┤ Rz(-1.0*d0_q54_z0) ├┤ Rz(π/2) ├┤ Rz(π/2) ├┤ √X ├┤ Rz(π/2) ├┤ Rz(π/2) ├┤ Rz(-1.0*d0_q44_z0) ├┤ Rz(π/2) ├┤ Rz(π/2) ├┤ √X ├┤ Rz(π/2) ├┤ Rz(π/2) ├┤ Rz(-1.0*d0_q34_z0) ├─░─┤0     ├─░─┤ Rz(-1.0*d0_q24_z0) ├┤ Rz(π/2) ├┤ Rz(π/2) ├┤ √X ├┤ Rz(π/2) ├┤ Rz(π/2) ├┤ Rz(-1.0*d0_q14_z0) ├┤ Rz(π/2) ├┤ Rz(π/2) ├┤ √X ├┤ Rz(π/2) ├┤ Rz(π/2) ├┤ Rz(-1.0*d0_q4_z0) ├─░──░──╫──╫──╫──╫─┤M├───────────────\n",
              "             ░ ├──────────────┤├────┤├───────────────┤├────┤├───────────────┤ ░ │  Ecr │ ░ ├───────────────┤├────┤├───────────────┤├────┤├───────────────┤ ░ │  Ecr │ ░ ├───────────────┤├────┤├───────────────┤├────┤├───────────────┤ ░  ░ ├────────────────────┤├─────────┤├─────────┤├────┤├─────────┤├─────────┤├────────────────────┤├─────────┤├─────────┤├────┤├─────────┤├─────────┤├────────────────────┤ ░ │  Ecr │ ░ ├────────────────────┤├─────────┤├─────────┤├────┤├─────────┤├─────────┤├────────────────────┤├─────────┤├─────────┤├────┤├─────────┤├─────────┤├────────────────────┤ ░ │  Ecr │ ░ ├────────────────────┤├─────────┤├─────────┤├────┤├─────────┤├─────────┤├────────────────────┤├─────────┤├─────────┤├────┤├─────────┤├─────────┤├───────────────────┤ ░  ░  ║  ║  ║  ║ └╥┘┌─┐            \n",
              "       q_5: ─░─┤ Rz(d0_q5_z0) ├┤ √X ├┤ Rz(d0_q15_z0) ├┤ √X ├┤ Rz(d0_q25_z0) ├─░─┤1     ├─░─┤ Rz(d0_q35_z0) ├┤ √X ├┤ Rz(d0_q45_z0) ├┤ √X ├┤ Rz(d0_q55_z0) ├─░─┤1     ├─░─┤ Rz(d0_q65_z0) ├┤ √X ├┤ Rz(d0_q75_z0) ├┤ √X ├┤ Rz(d0_q85_z0) ├─░──░─┤ Rz(-1.0*d0_q85_z0) ├┤ Rz(π/2) ├┤ Rz(π/2) ├┤ √X ├┤ Rz(π/2) ├┤ Rz(π/2) ├┤ Rz(-1.0*d0_q75_z0) ├┤ Rz(π/2) ├┤ Rz(π/2) ├┤ √X ├┤ Rz(π/2) ├┤ Rz(π/2) ├┤ Rz(-1.0*d0_q65_z0) ├─░─┤1     ├─░─┤ Rz(-1.0*d0_q55_z0) ├┤ Rz(π/2) ├┤ Rz(π/2) ├┤ √X ├┤ Rz(π/2) ├┤ Rz(π/2) ├┤ Rz(-1.0*d0_q45_z0) ├┤ Rz(π/2) ├┤ Rz(π/2) ├┤ √X ├┤ Rz(π/2) ├┤ Rz(π/2) ├┤ Rz(-1.0*d0_q35_z0) ├─░─┤1     ├─░─┤ Rz(-1.0*d0_q25_z0) ├┤ Rz(π/2) ├┤ Rz(π/2) ├┤ √X ├┤ Rz(π/2) ├┤ Rz(π/2) ├┤ Rz(-1.0*d0_q15_z0) ├┤ Rz(π/2) ├┤ Rz(π/2) ├┤ √X ├┤ Rz(π/2) ├┤ Rz(π/2) ├┤ Rz(-1.0*d0_q5_z0) ├─░──░──╫──╫──╫──╫──╫─┤M├────────────\n",
              "             ░ ├──────────────┤├────┤├───────────────┤├────┤├───────────────┤ ░ ├──────┤ ░ ├───────────────┤├────┤├───────────────┤├────┤├───────────────┤ ░ ├──────┤ ░ ├───────────────┤├────┤├───────────────┤├────┤├───────────────┤ ░  ░ ├────────────────────┤├─────────┤├─────────┤├────┤├─────────┤├─────────┤├────────────────────┤├─────────┤├─────────┤├────┤├─────────┤├─────────┤├────────────────────┤ ░ ├──────┤ ░ ├────────────────────┤├─────────┤├─────────┤├────┤├─────────┤├─────────┤├────────────────────┤├─────────┤├─────────┤├────┤├─────────┤├─────────┤├────────────────────┤ ░ ├──────┤ ░ ├────────────────────┤├─────────┤├─────────┤├────┤├─────────┤├─────────┤├────────────────────┤├─────────┤├─────────┤├────┤├─────────┤├─────────┤├───────────────────┤ ░  ░  ║  ║  ║  ║  ║ └╥┘┌─┐         \n",
              "       q_6: ─░─┤ Rz(d0_q6_z0) ├┤ √X ├┤ Rz(d0_q16_z0) ├┤ √X ├┤ Rz(d0_q26_z0) ├─░─┤1     ├─░─┤ Rz(d0_q36_z0) ├┤ √X ├┤ Rz(d0_q46_z0) ├┤ √X ├┤ Rz(d0_q56_z0) ├─░─┤1     ├─░─┤ Rz(d0_q66_z0) ├┤ √X ├┤ Rz(d0_q76_z0) ├┤ √X ├┤ Rz(d0_q86_z0) ├─░──░─┤ Rz(-1.0*d0_q86_z0) ├┤ Rz(π/2) ├┤ Rz(π/2) ├┤ √X ├┤ Rz(π/2) ├┤ Rz(π/2) ├┤ Rz(-1.0*d0_q76_z0) ├┤ Rz(π/2) ├┤ Rz(π/2) ├┤ √X ├┤ Rz(π/2) ├┤ Rz(π/2) ├┤ Rz(-1.0*d0_q66_z0) ├─░─┤1     ├─░─┤ Rz(-1.0*d0_q56_z0) ├┤ Rz(π/2) ├┤ Rz(π/2) ├┤ √X ├┤ Rz(π/2) ├┤ Rz(π/2) ├┤ Rz(-1.0*d0_q46_z0) ├┤ Rz(π/2) ├┤ Rz(π/2) ├┤ √X ├┤ Rz(π/2) ├┤ Rz(π/2) ├┤ Rz(-1.0*d0_q36_z0) ├─░─┤1     ├─░─┤ Rz(-1.0*d0_q26_z0) ├┤ Rz(π/2) ├┤ Rz(π/2) ├┤ √X ├┤ Rz(π/2) ├┤ Rz(π/2) ├┤ Rz(-1.0*d0_q16_z0) ├┤ Rz(π/2) ├┤ Rz(π/2) ├┤ √X ├┤ Rz(π/2) ├┤ Rz(π/2) ├┤ Rz(-1.0*d0_q6_z0) ├─░──░──╫──╫──╫──╫──╫──╫─┤M├─────────\n",
              "             ░ ├──────────────┤├────┤├───────────────┤├────┤├───────────────┤ ░ │  Ecr │ ░ ├───────────────┤├────┤├───────────────┤├────┤├───────────────┤ ░ │  Ecr │ ░ ├───────────────┤├────┤├───────────────┤├────┤├───────────────┤ ░  ░ ├────────────────────┤├─────────┤├─────────┤├────┤├─────────┤├─────────┤├────────────────────┤├─────────┤├─────────┤├────┤├─────────┤├─────────┤├────────────────────┤ ░ │  Ecr │ ░ ├────────────────────┤├─────────┤├─────────┤├────┤├─────────┤├─────────┤├────────────────────┤├─────────┤├─────────┤├────┤├─────────┤├─────────┤├────────────────────┤ ░ │  Ecr │ ░ ├────────────────────┤├─────────┤├─────────┤├────┤├─────────┤├─────────┤├────────────────────┤├─────────┤├─────────┤├────┤├─────────┤├─────────┤├───────────────────┤ ░  ░  ║  ║  ║  ║  ║  ║ └╥┘┌─┐      \n",
              "       q_7: ─░─┤ Rz(d0_q7_z0) ├┤ √X ├┤ Rz(d0_q17_z0) ├┤ √X ├┤ Rz(d0_q27_z0) ├─░─┤0     ├─░─┤ Rz(d0_q37_z0) ├┤ √X ├┤ Rz(d0_q47_z0) ├┤ √X ├┤ Rz(d0_q57_z0) ├─░─┤0     ├─░─┤ Rz(d0_q67_z0) ├┤ √X ├┤ Rz(d0_q77_z0) ├┤ √X ├┤ Rz(d0_q87_z0) ├─░──░─┤ Rz(-1.0*d0_q87_z0) ├┤ Rz(π/2) ├┤ Rz(π/2) ├┤ √X ├┤ Rz(π/2) ├┤ Rz(π/2) ├┤ Rz(-1.0*d0_q77_z0) ├┤ Rz(π/2) ├┤ Rz(π/2) ├┤ √X ├┤ Rz(π/2) ├┤ Rz(π/2) ├┤ Rz(-1.0*d0_q67_z0) ├─░─┤0     ├─░─┤ Rz(-1.0*d0_q57_z0) ├┤ Rz(π/2) ├┤ Rz(π/2) ├┤ √X ├┤ Rz(π/2) ├┤ Rz(π/2) ├┤ Rz(-1.0*d0_q47_z0) ├┤ Rz(π/2) ├┤ Rz(π/2) ├┤ √X ├┤ Rz(π/2) ├┤ Rz(π/2) ├┤ Rz(-1.0*d0_q37_z0) ├─░─┤0     ├─░─┤ Rz(-1.0*d0_q27_z0) ├┤ Rz(π/2) ├┤ Rz(π/2) ├┤ √X ├┤ Rz(π/2) ├┤ Rz(π/2) ├┤ Rz(-1.0*d0_q17_z0) ├┤ Rz(π/2) ├┤ Rz(π/2) ├┤ √X ├┤ Rz(π/2) ├┤ Rz(π/2) ├┤ Rz(-1.0*d0_q7_z0) ├─░──░──╫──╫──╫──╫──╫──╫──╫─┤M├──────\n",
              "             ░ ├──────────────┤├────┤├───────────────┤├────┤├───────────────┤ ░ ├──────┤ ░ ├───────────────┤├────┤├───────────────┤├────┤├───────────────┤ ░ ├──────┤ ░ ├───────────────┤├────┤├───────────────┤├────┤├───────────────┤ ░  ░ ├────────────────────┤├─────────┤├─────────┤├────┤├─────────┤├─────────┤├────────────────────┤├─────────┤├─────────┤├────┤├─────────┤├─────────┤├────────────────────┤ ░ ├──────┤ ░ ├────────────────────┤├─────────┤├─────────┤├────┤├─────────┤├─────────┤├────────────────────┤├─────────┤├─────────┤├────┤├─────────┤├─────────┤├────────────────────┤ ░ ├──────┤ ░ ├────────────────────┤├─────────┤├─────────┤├────┤├─────────┤├─────────┤├────────────────────┤├─────────┤├─────────┤├────┤├─────────┤├─────────┤├───────────────────┤ ░  ░  ║  ║  ║  ║  ║  ║  ║ └╥┘┌─┐   \n",
              "       q_8: ─░─┤ Rz(d0_q8_z0) ├┤ √X ├┤ Rz(d0_q18_z0) ├┤ √X ├┤ Rz(d0_q28_z0) ├─░─┤0     ├─░─┤ Rz(d0_q38_z0) ├┤ √X ├┤ Rz(d0_q48_z0) ├┤ √X ├┤ Rz(d0_q58_z0) ├─░─┤0     ├─░─┤ Rz(d0_q68_z0) ├┤ √X ├┤ Rz(d0_q78_z0) ├┤ √X ├┤ Rz(d0_q88_z0) ├─░──░─┤ Rz(-1.0*d0_q88_z0) ├┤ Rz(π/2) ├┤ Rz(π/2) ├┤ √X ├┤ Rz(π/2) ├┤ Rz(π/2) ├┤ Rz(-1.0*d0_q78_z0) ├┤ Rz(π/2) ├┤ Rz(π/2) ├┤ √X ├┤ Rz(π/2) ├┤ Rz(π/2) ├┤ Rz(-1.0*d0_q68_z0) ├─░─┤0     ├─░─┤ Rz(-1.0*d0_q58_z0) ├┤ Rz(π/2) ├┤ Rz(π/2) ├┤ √X ├┤ Rz(π/2) ├┤ Rz(π/2) ├┤ Rz(-1.0*d0_q48_z0) ├┤ Rz(π/2) ├┤ Rz(π/2) ├┤ √X ├┤ Rz(π/2) ├┤ Rz(π/2) ├┤ Rz(-1.0*d0_q38_z0) ├─░─┤0     ├─░─┤ Rz(-1.0*d0_q28_z0) ├┤ Rz(π/2) ├┤ Rz(π/2) ├┤ √X ├┤ Rz(π/2) ├┤ Rz(π/2) ├┤ Rz(-1.0*d0_q18_z0) ├┤ Rz(π/2) ├┤ Rz(π/2) ├┤ √X ├┤ Rz(π/2) ├┤ Rz(π/2) ├┤ Rz(-1.0*d0_q8_z0) ├─░──░──╫──╫──╫──╫──╫──╫──╫──╫─┤M├───\n",
              "             ░ ├──────────────┤├────┤├───────────────┤├────┤├───────────────┤ ░ │  Ecr │ ░ ├───────────────┤├────┤├───────────────┤├────┤├───────────────┤ ░ │  Ecr │ ░ ├───────────────┤├────┤├───────────────┤├────┤├───────────────┤ ░  ░ ├────────────────────┤├─────────┤├─────────┤├────┤├─────────┤├─────────┤├────────────────────┤├─────────┤├─────────┤├────┤├─────────┤├─────────┤├────────────────────┤ ░ │  Ecr │ ░ ├────────────────────┤├─────────┤├─────────┤├────┤├─────────┤├─────────┤├────────────────────┤├─────────┤├─────────┤├────┤├─────────┤├─────────┤├────────────────────┤ ░ │  Ecr │ ░ ├────────────────────┤├─────────┤├─────────┤├────┤├─────────┤├─────────┤├────────────────────┤├─────────┤├─────────┤├────┤├─────────┤├─────────┤├───────────────────┤ ░  ░  ║  ║  ║  ║  ║  ║  ║  ║ └╥┘┌─┐\n",
              "       q_9: ─░─┤ Rz(d0_q9_z0) ├┤ √X ├┤ Rz(d0_q19_z0) ├┤ √X ├┤ Rz(d0_q29_z0) ├─░─┤1     ├─░─┤ Rz(d0_q39_z0) ├┤ √X ├┤ Rz(d0_q49_z0) ├┤ √X ├┤ Rz(d0_q59_z0) ├─░─┤1     ├─░─┤ Rz(d0_q69_z0) ├┤ √X ├┤ Rz(d0_q79_z0) ├┤ √X ├┤ Rz(d0_q89_z0) ├─░──░─┤ Rz(-1.0*d0_q89_z0) ├┤ Rz(π/2) ├┤ Rz(π/2) ├┤ √X ├┤ Rz(π/2) ├┤ Rz(π/2) ├┤ Rz(-1.0*d0_q79_z0) ├┤ Rz(π/2) ├┤ Rz(π/2) ├┤ √X ├┤ Rz(π/2) ├┤ Rz(π/2) ├┤ Rz(-1.0*d0_q69_z0) ├─░─┤1     ├─░─┤ Rz(-1.0*d0_q59_z0) ├┤ Rz(π/2) ├┤ Rz(π/2) ├┤ √X ├┤ Rz(π/2) ├┤ Rz(π/2) ├┤ Rz(-1.0*d0_q49_z0) ├┤ Rz(π/2) ├┤ Rz(π/2) ├┤ √X ├┤ Rz(π/2) ├┤ Rz(π/2) ├┤ Rz(-1.0*d0_q39_z0) ├─░─┤1     ├─░─┤ Rz(-1.0*d0_q29_z0) ├┤ Rz(π/2) ├┤ Rz(π/2) ├┤ √X ├┤ Rz(π/2) ├┤ Rz(π/2) ├┤ Rz(-1.0*d0_q19_z0) ├┤ Rz(π/2) ├┤ Rz(π/2) ├┤ √X ├┤ Rz(π/2) ├┤ Rz(π/2) ├┤ Rz(-1.0*d0_q9_z0) ├─░──░──╫──╫──╫──╫──╫──╫──╫──╫──╫─┤M├\n",
              "             ░ └──────────────┘└────┘└───────────────┘└────┘└───────────────┘ ░ └──────┘ ░ └───────────────┘└────┘└───────────────┘└────┘└───────────────┘ ░ └──────┘ ░ └───────────────┘└────┘└───────────────┘└────┘└───────────────┘ ░  ░ └────────────────────┘└─────────┘└─────────┘└────┘└─────────┘└─────────┘└────────────────────┘└─────────┘└─────────┘└────┘└─────────┘└─────────┘└────────────────────┘ ░ └──────┘ ░ └────────────────────┘└─────────┘└─────────┘└────┘└─────────┘└─────────┘└────────────────────┘└─────────┘└─────────┘└────┘└─────────┘└─────────┘└────────────────────┘ ░ └──────┘ ░ └────────────────────┘└─────────┘└─────────┘└────┘└─────────┘└─────────┘└────────────────────┘└─────────┘└─────────┘└────┘└─────────┘└─────────┘└───────────────────┘ ░  ░  ║  ║  ║  ║  ║  ║  ║  ║  ║ └╥┘\n",
              "measure: 10/═════════════════════════════════════════════════════════════════════════════════════════════════════════════════════════════════════════════════════════════════════════════════════════════════════════════════════════════════════════════════════════════════════════════════════════════════════════════════════════════════════════════════════════════════════════════════════════════════════════════════════════════════════════════════════════════════════════════════════════════════════════════════════════════════════════════════════════════════════════════════════════════════════════════════════════════════════════════════════════════════════════════════════════════════════════════════════════════════════════════════════════════════════════════════════╩══╩══╩══╩══╩══╩══╩══╩══╩══╩═\n",
              "                                                                                                                                                                                                                                                                                                                                                                                                                                                                                                                                                                                                                                                                                                                                                                                                 0  1  2  3  4  5  6  7  8  9 </pre>"
            ]
          },
          "metadata": {},
          "execution_count": 30
        }
      ]
    },
    {
      "cell_type": "code",
      "source": [
        "example_circuit_2 = eplg_circuit(\n",
        "    num_qubits=BACKEND.num_qubits,\n",
        "    depth=4,\n",
        "    layer=CIRC_2_ANSWER,\n",
        "    qubits=PATH_ANSWER,\n",
        ")"
      ],
      "metadata": {
        "id": "tLZfVP9mH6a9"
      },
      "execution_count": null,
      "outputs": []
    },
    {
      "cell_type": "code",
      "source": [
        "example_circuit_2.draw(fold=-1, idle_wires=False)"
      ],
      "metadata": {
        "colab": {
          "base_uri": "https://localhost:8080/",
          "height": 391
        },
        "id": "7pH_L55JH-nf",
        "outputId": "f1776745-dfd4-4ba3-e414-85ee7fb5c81d"
      },
      "execution_count": null,
      "outputs": [
        {
          "output_type": "execute_result",
          "data": {
            "text/plain": [
              "             ░ ┌──────────────┐┌────┐┌───────────────┐┌────┐┌───────────────┐ ░          ░ ┌───────────────┐┌────┐┌───────────────┐┌────┐┌───────────────┐ ░          ░ ┌───────────────┐┌────┐┌───────────────┐┌────┐┌───────────────┐ ░  ░ ┌────────────────────┐┌─────────┐┌─────────┐┌────┐┌─────────┐┌─────────┐┌────────────────────┐┌─────────┐┌─────────┐┌────┐┌─────────┐┌─────────┐┌────────────────────┐ ░          ░ ┌────────────────────┐┌─────────┐┌─────────┐┌────┐┌─────────┐┌─────────┐┌────────────────────┐┌─────────┐┌─────────┐┌────┐┌─────────┐┌─────────┐┌────────────────────┐ ░          ░ ┌────────────────────┐┌─────────┐┌─────────┐┌────┐┌─────────┐┌─────────┐┌────────────────────┐┌─────────┐┌─────────┐┌────┐┌─────────┐┌─────────┐┌───────────────────┐ ░  ░ ┌─┐                           \n",
              "       q_0: ─░─┤ Rz(d0_q0_z0) ├┤ √X ├┤ Rz(d0_q10_z0) ├┤ √X ├┤ Rz(d0_q20_z0) ├─░──────────░─┤ Rz(d0_q30_z0) ├┤ √X ├┤ Rz(d0_q40_z0) ├┤ √X ├┤ Rz(d0_q50_z0) ├─░──────────░─┤ Rz(d0_q60_z0) ├┤ √X ├┤ Rz(d0_q70_z0) ├┤ √X ├┤ Rz(d0_q80_z0) ├─░──░─┤ Rz(-1.0*d0_q80_z0) ├┤ Rz(π/2) ├┤ Rz(π/2) ├┤ √X ├┤ Rz(π/2) ├┤ Rz(π/2) ├┤ Rz(-1.0*d0_q70_z0) ├┤ Rz(π/2) ├┤ Rz(π/2) ├┤ √X ├┤ Rz(π/2) ├┤ Rz(π/2) ├┤ Rz(-1.0*d0_q60_z0) ├─░──────────░─┤ Rz(-1.0*d0_q50_z0) ├┤ Rz(π/2) ├┤ Rz(π/2) ├┤ √X ├┤ Rz(π/2) ├┤ Rz(π/2) ├┤ Rz(-1.0*d0_q40_z0) ├┤ Rz(π/2) ├┤ Rz(π/2) ├┤ √X ├┤ Rz(π/2) ├┤ Rz(π/2) ├┤ Rz(-1.0*d0_q30_z0) ├─░──────────░─┤ Rz(-1.0*d0_q20_z0) ├┤ Rz(π/2) ├┤ Rz(π/2) ├┤ √X ├┤ Rz(π/2) ├┤ Rz(π/2) ├┤ Rz(-1.0*d0_q10_z0) ├┤ Rz(π/2) ├┤ Rz(π/2) ├┤ √X ├┤ Rz(π/2) ├┤ Rz(π/2) ├┤ Rz(-1.0*d0_q0_z0) ├─░──░─┤M├───────────────────────────\n",
              "             ░ ├──────────────┤├────┤├───────────────┤├────┤├───────────────┤ ░ ┌──────┐ ░ ├───────────────┤├────┤├───────────────┤├────┤├───────────────┤ ░ ┌──────┐ ░ ├───────────────┤├────┤├───────────────┤├────┤├───────────────┤ ░  ░ ├────────────────────┤├─────────┤├─────────┤├────┤├─────────┤├─────────┤├────────────────────┤├─────────┤├─────────┤├────┤├─────────┤├─────────┤├────────────────────┤ ░ ┌──────┐ ░ ├────────────────────┤├─────────┤├─────────┤├────┤├─────────┤├─────────┤├────────────────────┤├─────────┤├─────────┤├────┤├─────────┤├─────────┤├────────────────────┤ ░ ┌──────┐ ░ ├────────────────────┤├─────────┤├─────────┤├────┤├─────────┤├─────────┤├────────────────────┤├─────────┤├─────────┤├────┤├─────────┤├─────────┤├───────────────────┤ ░  ░ └╥┘┌─┐                        \n",
              "       q_1: ─░─┤ Rz(d0_q1_z0) ├┤ √X ├┤ Rz(d0_q11_z0) ├┤ √X ├┤ Rz(d0_q21_z0) ├─░─┤0     ├─░─┤ Rz(d0_q31_z0) ├┤ √X ├┤ Rz(d0_q41_z0) ├┤ √X ├┤ Rz(d0_q51_z0) ├─░─┤0     ├─░─┤ Rz(d0_q61_z0) ├┤ √X ├┤ Rz(d0_q71_z0) ├┤ √X ├┤ Rz(d0_q81_z0) ├─░──░─┤ Rz(-1.0*d0_q81_z0) ├┤ Rz(π/2) ├┤ Rz(π/2) ├┤ √X ├┤ Rz(π/2) ├┤ Rz(π/2) ├┤ Rz(-1.0*d0_q71_z0) ├┤ Rz(π/2) ├┤ Rz(π/2) ├┤ √X ├┤ Rz(π/2) ├┤ Rz(π/2) ├┤ Rz(-1.0*d0_q61_z0) ├─░─┤0     ├─░─┤ Rz(-1.0*d0_q51_z0) ├┤ Rz(π/2) ├┤ Rz(π/2) ├┤ √X ├┤ Rz(π/2) ├┤ Rz(π/2) ├┤ Rz(-1.0*d0_q41_z0) ├┤ Rz(π/2) ├┤ Rz(π/2) ├┤ √X ├┤ Rz(π/2) ├┤ Rz(π/2) ├┤ Rz(-1.0*d0_q31_z0) ├─░─┤0     ├─░─┤ Rz(-1.0*d0_q21_z0) ├┤ Rz(π/2) ├┤ Rz(π/2) ├┤ √X ├┤ Rz(π/2) ├┤ Rz(π/2) ├┤ Rz(-1.0*d0_q11_z0) ├┤ Rz(π/2) ├┤ Rz(π/2) ├┤ √X ├┤ Rz(π/2) ├┤ Rz(π/2) ├┤ Rz(-1.0*d0_q1_z0) ├─░──░──╫─┤M├────────────────────────\n",
              "             ░ ├──────────────┤├────┤├───────────────┤├────┤├───────────────┤ ░ │  Ecr │ ░ ├───────────────┤├────┤├───────────────┤├────┤├───────────────┤ ░ │  Ecr │ ░ ├───────────────┤├────┤├───────────────┤├────┤├───────────────┤ ░  ░ ├────────────────────┤├─────────┤├─────────┤├────┤├─────────┤├─────────┤├────────────────────┤├─────────┤├─────────┤├────┤├─────────┤├─────────┤├────────────────────┤ ░ │  Ecr │ ░ ├────────────────────┤├─────────┤├─────────┤├────┤├─────────┤├─────────┤├────────────────────┤├─────────┤├─────────┤├────┤├─────────┤├─────────┤├────────────────────┤ ░ │  Ecr │ ░ ├────────────────────┤├─────────┤├─────────┤├────┤├─────────┤├─────────┤├────────────────────┤├─────────┤├─────────┤├────┤├─────────┤├─────────┤├───────────────────┤ ░  ░  ║ └╥┘┌─┐                     \n",
              "       q_2: ─░─┤ Rz(d0_q2_z0) ├┤ √X ├┤ Rz(d0_q12_z0) ├┤ √X ├┤ Rz(d0_q22_z0) ├─░─┤1     ├─░─┤ Rz(d0_q32_z0) ├┤ √X ├┤ Rz(d0_q42_z0) ├┤ √X ├┤ Rz(d0_q52_z0) ├─░─┤1     ├─░─┤ Rz(d0_q62_z0) ├┤ √X ├┤ Rz(d0_q72_z0) ├┤ √X ├┤ Rz(d0_q82_z0) ├─░──░─┤ Rz(-1.0*d0_q82_z0) ├┤ Rz(π/2) ├┤ Rz(π/2) ├┤ √X ├┤ Rz(π/2) ├┤ Rz(π/2) ├┤ Rz(-1.0*d0_q72_z0) ├┤ Rz(π/2) ├┤ Rz(π/2) ├┤ √X ├┤ Rz(π/2) ├┤ Rz(π/2) ├┤ Rz(-1.0*d0_q62_z0) ├─░─┤1     ├─░─┤ Rz(-1.0*d0_q52_z0) ├┤ Rz(π/2) ├┤ Rz(π/2) ├┤ √X ├┤ Rz(π/2) ├┤ Rz(π/2) ├┤ Rz(-1.0*d0_q42_z0) ├┤ Rz(π/2) ├┤ Rz(π/2) ├┤ √X ├┤ Rz(π/2) ├┤ Rz(π/2) ├┤ Rz(-1.0*d0_q32_z0) ├─░─┤1     ├─░─┤ Rz(-1.0*d0_q22_z0) ├┤ Rz(π/2) ├┤ Rz(π/2) ├┤ √X ├┤ Rz(π/2) ├┤ Rz(π/2) ├┤ Rz(-1.0*d0_q12_z0) ├┤ Rz(π/2) ├┤ Rz(π/2) ├┤ √X ├┤ Rz(π/2) ├┤ Rz(π/2) ├┤ Rz(-1.0*d0_q2_z0) ├─░──░──╫──╫─┤M├─────────────────────\n",
              "             ░ ├──────────────┤├────┤├───────────────┤├────┤├───────────────┤ ░ ├──────┤ ░ ├───────────────┤├────┤├───────────────┤├────┤├───────────────┤ ░ ├──────┤ ░ ├───────────────┤├────┤├───────────────┤├────┤├───────────────┤ ░  ░ ├────────────────────┤├─────────┤├─────────┤├────┤├─────────┤├─────────┤├────────────────────┤├─────────┤├─────────┤├────┤├─────────┤├─────────┤├────────────────────┤ ░ ├──────┤ ░ ├────────────────────┤├─────────┤├─────────┤├────┤├─────────┤├─────────┤├────────────────────┤├─────────┤├─────────┤├────┤├─────────┤├─────────┤├────────────────────┤ ░ ├──────┤ ░ ├────────────────────┤├─────────┤├─────────┤├────┤├─────────┤├─────────┤├────────────────────┤├─────────┤├─────────┤├────┤├─────────┤├─────────┤├───────────────────┤ ░  ░  ║  ║ └╥┘┌─┐                  \n",
              "       q_3: ─░─┤ Rz(d0_q3_z0) ├┤ √X ├┤ Rz(d0_q13_z0) ├┤ √X ├┤ Rz(d0_q23_z0) ├─░─┤1     ├─░─┤ Rz(d0_q33_z0) ├┤ √X ├┤ Rz(d0_q43_z0) ├┤ √X ├┤ Rz(d0_q53_z0) ├─░─┤1     ├─░─┤ Rz(d0_q63_z0) ├┤ √X ├┤ Rz(d0_q73_z0) ├┤ √X ├┤ Rz(d0_q83_z0) ├─░──░─┤ Rz(-1.0*d0_q83_z0) ├┤ Rz(π/2) ├┤ Rz(π/2) ├┤ √X ├┤ Rz(π/2) ├┤ Rz(π/2) ├┤ Rz(-1.0*d0_q73_z0) ├┤ Rz(π/2) ├┤ Rz(π/2) ├┤ √X ├┤ Rz(π/2) ├┤ Rz(π/2) ├┤ Rz(-1.0*d0_q63_z0) ├─░─┤1     ├─░─┤ Rz(-1.0*d0_q53_z0) ├┤ Rz(π/2) ├┤ Rz(π/2) ├┤ √X ├┤ Rz(π/2) ├┤ Rz(π/2) ├┤ Rz(-1.0*d0_q43_z0) ├┤ Rz(π/2) ├┤ Rz(π/2) ├┤ √X ├┤ Rz(π/2) ├┤ Rz(π/2) ├┤ Rz(-1.0*d0_q33_z0) ├─░─┤1     ├─░─┤ Rz(-1.0*d0_q23_z0) ├┤ Rz(π/2) ├┤ Rz(π/2) ├┤ √X ├┤ Rz(π/2) ├┤ Rz(π/2) ├┤ Rz(-1.0*d0_q13_z0) ├┤ Rz(π/2) ├┤ Rz(π/2) ├┤ √X ├┤ Rz(π/2) ├┤ Rz(π/2) ├┤ Rz(-1.0*d0_q3_z0) ├─░──░──╫──╫──╫─┤M├──────────────────\n",
              "             ░ ├──────────────┤├────┤├───────────────┤├────┤├───────────────┤ ░ │  Ecr │ ░ ├───────────────┤├────┤├───────────────┤├────┤├───────────────┤ ░ │  Ecr │ ░ ├───────────────┤├────┤├───────────────┤├────┤├───────────────┤ ░  ░ ├────────────────────┤├─────────┤├─────────┤├────┤├─────────┤├─────────┤├────────────────────┤├─────────┤├─────────┤├────┤├─────────┤├─────────┤├────────────────────┤ ░ │  Ecr │ ░ ├────────────────────┤├─────────┤├─────────┤├────┤├─────────┤├─────────┤├────────────────────┤├─────────┤├─────────┤├────┤├─────────┤├─────────┤├────────────────────┤ ░ │  Ecr │ ░ ├────────────────────┤├─────────┤├─────────┤├────┤├─────────┤├─────────┤├────────────────────┤├─────────┤├─────────┤├────┤├─────────┤├─────────┤├───────────────────┤ ░  ░  ║  ║  ║ └╥┘┌─┐               \n",
              "       q_4: ─░─┤ Rz(d0_q4_z0) ├┤ √X ├┤ Rz(d0_q14_z0) ├┤ √X ├┤ Rz(d0_q24_z0) ├─░─┤0     ├─░─┤ Rz(d0_q34_z0) ├┤ √X ├┤ Rz(d0_q44_z0) ├┤ √X ├┤ Rz(d0_q54_z0) ├─░─┤0     ├─░─┤ Rz(d0_q64_z0) ├┤ √X ├┤ Rz(d0_q74_z0) ├┤ √X ├┤ Rz(d0_q84_z0) ├─░──░─┤ Rz(-1.0*d0_q84_z0) ├┤ Rz(π/2) ├┤ Rz(π/2) ├┤ √X ├┤ Rz(π/2) ├┤ Rz(π/2) ├┤ Rz(-1.0*d0_q74_z0) ├┤ Rz(π/2) ├┤ Rz(π/2) ├┤ √X ├┤ Rz(π/2) ├┤ Rz(π/2) ├┤ Rz(-1.0*d0_q64_z0) ├─░─┤0     ├─░─┤ Rz(-1.0*d0_q54_z0) ├┤ Rz(π/2) ├┤ Rz(π/2) ├┤ √X ├┤ Rz(π/2) ├┤ Rz(π/2) ├┤ Rz(-1.0*d0_q44_z0) ├┤ Rz(π/2) ├┤ Rz(π/2) ├┤ √X ├┤ Rz(π/2) ├┤ Rz(π/2) ├┤ Rz(-1.0*d0_q34_z0) ├─░─┤0     ├─░─┤ Rz(-1.0*d0_q24_z0) ├┤ Rz(π/2) ├┤ Rz(π/2) ├┤ √X ├┤ Rz(π/2) ├┤ Rz(π/2) ├┤ Rz(-1.0*d0_q14_z0) ├┤ Rz(π/2) ├┤ Rz(π/2) ├┤ √X ├┤ Rz(π/2) ├┤ Rz(π/2) ├┤ Rz(-1.0*d0_q4_z0) ├─░──░──╫──╫──╫──╫─┤M├───────────────\n",
              "             ░ ├──────────────┤├────┤├───────────────┤├────┤├───────────────┤ ░ ├──────┤ ░ ├───────────────┤├────┤├───────────────┤├────┤├───────────────┤ ░ ├──────┤ ░ ├───────────────┤├────┤├───────────────┤├────┤├───────────────┤ ░  ░ ├────────────────────┤├─────────┤├─────────┤├────┤├─────────┤├─────────┤├────────────────────┤├─────────┤├─────────┤├────┤├─────────┤├─────────┤├────────────────────┤ ░ ├──────┤ ░ ├────────────────────┤├─────────┤├─────────┤├────┤├─────────┤├─────────┤├────────────────────┤├─────────┤├─────────┤├────┤├─────────┤├─────────┤├────────────────────┤ ░ ├──────┤ ░ ├────────────────────┤├─────────┤├─────────┤├────┤├─────────┤├─────────┤├────────────────────┤├─────────┤├─────────┤├────┤├─────────┤├─────────┤├───────────────────┤ ░  ░  ║  ║  ║  ║ └╥┘┌─┐            \n",
              "       q_5: ─░─┤ Rz(d0_q5_z0) ├┤ √X ├┤ Rz(d0_q15_z0) ├┤ √X ├┤ Rz(d0_q25_z0) ├─░─┤1     ├─░─┤ Rz(d0_q35_z0) ├┤ √X ├┤ Rz(d0_q45_z0) ├┤ √X ├┤ Rz(d0_q55_z0) ├─░─┤1     ├─░─┤ Rz(d0_q65_z0) ├┤ √X ├┤ Rz(d0_q75_z0) ├┤ √X ├┤ Rz(d0_q85_z0) ├─░──░─┤ Rz(-1.0*d0_q85_z0) ├┤ Rz(π/2) ├┤ Rz(π/2) ├┤ √X ├┤ Rz(π/2) ├┤ Rz(π/2) ├┤ Rz(-1.0*d0_q75_z0) ├┤ Rz(π/2) ├┤ Rz(π/2) ├┤ √X ├┤ Rz(π/2) ├┤ Rz(π/2) ├┤ Rz(-1.0*d0_q65_z0) ├─░─┤1     ├─░─┤ Rz(-1.0*d0_q55_z0) ├┤ Rz(π/2) ├┤ Rz(π/2) ├┤ √X ├┤ Rz(π/2) ├┤ Rz(π/2) ├┤ Rz(-1.0*d0_q45_z0) ├┤ Rz(π/2) ├┤ Rz(π/2) ├┤ √X ├┤ Rz(π/2) ├┤ Rz(π/2) ├┤ Rz(-1.0*d0_q35_z0) ├─░─┤1     ├─░─┤ Rz(-1.0*d0_q25_z0) ├┤ Rz(π/2) ├┤ Rz(π/2) ├┤ √X ├┤ Rz(π/2) ├┤ Rz(π/2) ├┤ Rz(-1.0*d0_q15_z0) ├┤ Rz(π/2) ├┤ Rz(π/2) ├┤ √X ├┤ Rz(π/2) ├┤ Rz(π/2) ├┤ Rz(-1.0*d0_q5_z0) ├─░──░──╫──╫──╫──╫──╫─┤M├────────────\n",
              "             ░ ├──────────────┤├────┤├───────────────┤├────┤├───────────────┤ ░ │  Ecr │ ░ ├───────────────┤├────┤├───────────────┤├────┤├───────────────┤ ░ │  Ecr │ ░ ├───────────────┤├────┤├───────────────┤├────┤├───────────────┤ ░  ░ ├────────────────────┤├─────────┤├─────────┤├────┤├─────────┤├─────────┤├────────────────────┤├─────────┤├─────────┤├────┤├─────────┤├─────────┤├────────────────────┤ ░ │  Ecr │ ░ ├────────────────────┤├─────────┤├─────────┤├────┤├─────────┤├─────────┤├────────────────────┤├─────────┤├─────────┤├────┤├─────────┤├─────────┤├────────────────────┤ ░ │  Ecr │ ░ ├────────────────────┤├─────────┤├─────────┤├────┤├─────────┤├─────────┤├────────────────────┤├─────────┤├─────────┤├────┤├─────────┤├─────────┤├───────────────────┤ ░  ░  ║  ║  ║  ║  ║ └╥┘┌─┐         \n",
              "       q_6: ─░─┤ Rz(d0_q6_z0) ├┤ √X ├┤ Rz(d0_q16_z0) ├┤ √X ├┤ Rz(d0_q26_z0) ├─░─┤0     ├─░─┤ Rz(d0_q36_z0) ├┤ √X ├┤ Rz(d0_q46_z0) ├┤ √X ├┤ Rz(d0_q56_z0) ├─░─┤0     ├─░─┤ Rz(d0_q66_z0) ├┤ √X ├┤ Rz(d0_q76_z0) ├┤ √X ├┤ Rz(d0_q86_z0) ├─░──░─┤ Rz(-1.0*d0_q86_z0) ├┤ Rz(π/2) ├┤ Rz(π/2) ├┤ √X ├┤ Rz(π/2) ├┤ Rz(π/2) ├┤ Rz(-1.0*d0_q76_z0) ├┤ Rz(π/2) ├┤ Rz(π/2) ├┤ √X ├┤ Rz(π/2) ├┤ Rz(π/2) ├┤ Rz(-1.0*d0_q66_z0) ├─░─┤0     ├─░─┤ Rz(-1.0*d0_q56_z0) ├┤ Rz(π/2) ├┤ Rz(π/2) ├┤ √X ├┤ Rz(π/2) ├┤ Rz(π/2) ├┤ Rz(-1.0*d0_q46_z0) ├┤ Rz(π/2) ├┤ Rz(π/2) ├┤ √X ├┤ Rz(π/2) ├┤ Rz(π/2) ├┤ Rz(-1.0*d0_q36_z0) ├─░─┤0     ├─░─┤ Rz(-1.0*d0_q26_z0) ├┤ Rz(π/2) ├┤ Rz(π/2) ├┤ √X ├┤ Rz(π/2) ├┤ Rz(π/2) ├┤ Rz(-1.0*d0_q16_z0) ├┤ Rz(π/2) ├┤ Rz(π/2) ├┤ √X ├┤ Rz(π/2) ├┤ Rz(π/2) ├┤ Rz(-1.0*d0_q6_z0) ├─░──░──╫──╫──╫──╫──╫──╫─┤M├─────────\n",
              "             ░ ├──────────────┤├────┤├───────────────┤├────┤├───────────────┤ ░ ├──────┤ ░ ├───────────────┤├────┤├───────────────┤├────┤├───────────────┤ ░ ├──────┤ ░ ├───────────────┤├────┤├───────────────┤├────┤├───────────────┤ ░  ░ ├────────────────────┤├─────────┤├─────────┤├────┤├─────────┤├─────────┤├────────────────────┤├─────────┤├─────────┤├────┤├─────────┤├─────────┤├────────────────────┤ ░ ├──────┤ ░ ├────────────────────┤├─────────┤├─────────┤├────┤├─────────┤├─────────┤├────────────────────┤├─────────┤├─────────┤├────┤├─────────┤├─────────┤├────────────────────┤ ░ ├──────┤ ░ ├────────────────────┤├─────────┤├─────────┤├────┤├─────────┤├─────────┤├────────────────────┤├─────────┤├─────────┤├────┤├─────────┤├─────────┤├───────────────────┤ ░  ░  ║  ║  ║  ║  ║  ║ └╥┘┌─┐      \n",
              "       q_7: ─░─┤ Rz(d0_q7_z0) ├┤ √X ├┤ Rz(d0_q17_z0) ├┤ √X ├┤ Rz(d0_q27_z0) ├─░─┤1     ├─░─┤ Rz(d0_q37_z0) ├┤ √X ├┤ Rz(d0_q47_z0) ├┤ √X ├┤ Rz(d0_q57_z0) ├─░─┤1     ├─░─┤ Rz(d0_q67_z0) ├┤ √X ├┤ Rz(d0_q77_z0) ├┤ √X ├┤ Rz(d0_q87_z0) ├─░──░─┤ Rz(-1.0*d0_q87_z0) ├┤ Rz(π/2) ├┤ Rz(π/2) ├┤ √X ├┤ Rz(π/2) ├┤ Rz(π/2) ├┤ Rz(-1.0*d0_q77_z0) ├┤ Rz(π/2) ├┤ Rz(π/2) ├┤ √X ├┤ Rz(π/2) ├┤ Rz(π/2) ├┤ Rz(-1.0*d0_q67_z0) ├─░─┤1     ├─░─┤ Rz(-1.0*d0_q57_z0) ├┤ Rz(π/2) ├┤ Rz(π/2) ├┤ √X ├┤ Rz(π/2) ├┤ Rz(π/2) ├┤ Rz(-1.0*d0_q47_z0) ├┤ Rz(π/2) ├┤ Rz(π/2) ├┤ √X ├┤ Rz(π/2) ├┤ Rz(π/2) ├┤ Rz(-1.0*d0_q37_z0) ├─░─┤1     ├─░─┤ Rz(-1.0*d0_q27_z0) ├┤ Rz(π/2) ├┤ Rz(π/2) ├┤ √X ├┤ Rz(π/2) ├┤ Rz(π/2) ├┤ Rz(-1.0*d0_q17_z0) ├┤ Rz(π/2) ├┤ Rz(π/2) ├┤ √X ├┤ Rz(π/2) ├┤ Rz(π/2) ├┤ Rz(-1.0*d0_q7_z0) ├─░──░──╫──╫──╫──╫──╫──╫──╫─┤M├──────\n",
              "             ░ ├──────────────┤├────┤├───────────────┤├────┤├───────────────┤ ░ │  Ecr │ ░ ├───────────────┤├────┤├───────────────┤├────┤├───────────────┤ ░ │  Ecr │ ░ ├───────────────┤├────┤├───────────────┤├────┤├───────────────┤ ░  ░ ├────────────────────┤├─────────┤├─────────┤├────┤├─────────┤├─────────┤├────────────────────┤├─────────┤├─────────┤├────┤├─────────┤├─────────┤├────────────────────┤ ░ │  Ecr │ ░ ├────────────────────┤├─────────┤├─────────┤├────┤├─────────┤├─────────┤├────────────────────┤├─────────┤├─────────┤├────┤├─────────┤├─────────┤├────────────────────┤ ░ │  Ecr │ ░ ├────────────────────┤├─────────┤├─────────┤├────┤├─────────┤├─────────┤├────────────────────┤├─────────┤├─────────┤├────┤├─────────┤├─────────┤├───────────────────┤ ░  ░  ║  ║  ║  ║  ║  ║  ║ └╥┘┌─┐   \n",
              "       q_8: ─░─┤ Rz(d0_q8_z0) ├┤ √X ├┤ Rz(d0_q18_z0) ├┤ √X ├┤ Rz(d0_q28_z0) ├─░─┤0     ├─░─┤ Rz(d0_q38_z0) ├┤ √X ├┤ Rz(d0_q48_z0) ├┤ √X ├┤ Rz(d0_q58_z0) ├─░─┤0     ├─░─┤ Rz(d0_q68_z0) ├┤ √X ├┤ Rz(d0_q78_z0) ├┤ √X ├┤ Rz(d0_q88_z0) ├─░──░─┤ Rz(-1.0*d0_q88_z0) ├┤ Rz(π/2) ├┤ Rz(π/2) ├┤ √X ├┤ Rz(π/2) ├┤ Rz(π/2) ├┤ Rz(-1.0*d0_q78_z0) ├┤ Rz(π/2) ├┤ Rz(π/2) ├┤ √X ├┤ Rz(π/2) ├┤ Rz(π/2) ├┤ Rz(-1.0*d0_q68_z0) ├─░─┤0     ├─░─┤ Rz(-1.0*d0_q58_z0) ├┤ Rz(π/2) ├┤ Rz(π/2) ├┤ √X ├┤ Rz(π/2) ├┤ Rz(π/2) ├┤ Rz(-1.0*d0_q48_z0) ├┤ Rz(π/2) ├┤ Rz(π/2) ├┤ √X ├┤ Rz(π/2) ├┤ Rz(π/2) ├┤ Rz(-1.0*d0_q38_z0) ├─░─┤0     ├─░─┤ Rz(-1.0*d0_q28_z0) ├┤ Rz(π/2) ├┤ Rz(π/2) ├┤ √X ├┤ Rz(π/2) ├┤ Rz(π/2) ├┤ Rz(-1.0*d0_q18_z0) ├┤ Rz(π/2) ├┤ Rz(π/2) ├┤ √X ├┤ Rz(π/2) ├┤ Rz(π/2) ├┤ Rz(-1.0*d0_q8_z0) ├─░──░──╫──╫──╫──╫──╫──╫──╫──╫─┤M├───\n",
              "             ░ ├──────────────┤├────┤├───────────────┤├────┤├───────────────┤ ░ └──────┘ ░ ├───────────────┤├────┤├───────────────┤├────┤├───────────────┤ ░ └──────┘ ░ ├───────────────┤├────┤├───────────────┤├────┤├───────────────┤ ░  ░ ├────────────────────┤├─────────┤├─────────┤├────┤├─────────┤├─────────┤├────────────────────┤├─────────┤├─────────┤├────┤├─────────┤├─────────┤├────────────────────┤ ░ └──────┘ ░ ├────────────────────┤├─────────┤├─────────┤├────┤├─────────┤├─────────┤├────────────────────┤├─────────┤├─────────┤├────┤├─────────┤├─────────┤├────────────────────┤ ░ └──────┘ ░ ├────────────────────┤├─────────┤├─────────┤├────┤├─────────┤├─────────┤├────────────────────┤├─────────┤├─────────┤├────┤├─────────┤├─────────┤├───────────────────┤ ░  ░  ║  ║  ║  ║  ║  ║  ║  ║ └╥┘┌─┐\n",
              "       q_9: ─░─┤ Rz(d0_q9_z0) ├┤ √X ├┤ Rz(d0_q19_z0) ├┤ √X ├┤ Rz(d0_q29_z0) ├─░──────────░─┤ Rz(d0_q39_z0) ├┤ √X ├┤ Rz(d0_q49_z0) ├┤ √X ├┤ Rz(d0_q59_z0) ├─░──────────░─┤ Rz(d0_q69_z0) ├┤ √X ├┤ Rz(d0_q79_z0) ├┤ √X ├┤ Rz(d0_q89_z0) ├─░──░─┤ Rz(-1.0*d0_q89_z0) ├┤ Rz(π/2) ├┤ Rz(π/2) ├┤ √X ├┤ Rz(π/2) ├┤ Rz(π/2) ├┤ Rz(-1.0*d0_q79_z0) ├┤ Rz(π/2) ├┤ Rz(π/2) ├┤ √X ├┤ Rz(π/2) ├┤ Rz(π/2) ├┤ Rz(-1.0*d0_q69_z0) ├─░──────────░─┤ Rz(-1.0*d0_q59_z0) ├┤ Rz(π/2) ├┤ Rz(π/2) ├┤ √X ├┤ Rz(π/2) ├┤ Rz(π/2) ├┤ Rz(-1.0*d0_q49_z0) ├┤ Rz(π/2) ├┤ Rz(π/2) ├┤ √X ├┤ Rz(π/2) ├┤ Rz(π/2) ├┤ Rz(-1.0*d0_q39_z0) ├─░──────────░─┤ Rz(-1.0*d0_q29_z0) ├┤ Rz(π/2) ├┤ Rz(π/2) ├┤ √X ├┤ Rz(π/2) ├┤ Rz(π/2) ├┤ Rz(-1.0*d0_q19_z0) ├┤ Rz(π/2) ├┤ Rz(π/2) ├┤ √X ├┤ Rz(π/2) ├┤ Rz(π/2) ├┤ Rz(-1.0*d0_q9_z0) ├─░──░──╫──╫──╫──╫──╫──╫──╫──╫──╫─┤M├\n",
              "             ░ └──────────────┘└────┘└───────────────┘└────┘└───────────────┘ ░          ░ └───────────────┘└────┘└───────────────┘└────┘└───────────────┘ ░          ░ └───────────────┘└────┘└───────────────┘└────┘└───────────────┘ ░  ░ └────────────────────┘└─────────┘└─────────┘└────┘└─────────┘└─────────┘└────────────────────┘└─────────┘└─────────┘└────┘└─────────┘└─────────┘└────────────────────┘ ░          ░ └────────────────────┘└─────────┘└─────────┘└────┘└─────────┘└─────────┘└────────────────────┘└─────────┘└─────────┘└────┘└─────────┘└─────────┘└────────────────────┘ ░          ░ └────────────────────┘└─────────┘└─────────┘└────┘└─────────┘└─────────┘└────────────────────┘└─────────┘└─────────┘└────┘└─────────┘└─────────┘└───────────────────┘ ░  ░  ║  ║  ║  ║  ║  ║  ║  ║  ║ └╥┘\n",
              "measure: 10/═════════════════════════════════════════════════════════════════════════════════════════════════════════════════════════════════════════════════════════════════════════════════════════════════════════════════════════════════════════════════════════════════════════════════════════════════════════════════════════════════════════════════════════════════════════════════════════════════════════════════════════════════════════════════════════════════════════════════════════════════════════════════════════════════════════════════════════════════════════════════════════════════════════════════════════════════════════════════════════════════════════════════════════════════════════════════════════════════════════════════════════════════════════════════════╩══╩══╩══╩══╩══╩══╩══╩══╩══╩═\n",
              "                                                                                                                                                                                                                                                                                                                                                                                                                                                                                                                                                                                                                                                                                                                                                                                                 0  1  2  3  4  5  6  7  8  9 "
            ],
            "text/html": [
              "<pre style=\"word-wrap: normal;white-space: pre;background: #fff0;line-height: 1.1;font-family: &quot;Courier New&quot;,Courier,monospace\">             ░ ┌──────────────┐┌────┐┌───────────────┐┌────┐┌───────────────┐ ░          ░ ┌───────────────┐┌────┐┌───────────────┐┌────┐┌───────────────┐ ░          ░ ┌───────────────┐┌────┐┌───────────────┐┌────┐┌───────────────┐ ░  ░ ┌────────────────────┐┌─────────┐┌─────────┐┌────┐┌─────────┐┌─────────┐┌────────────────────┐┌─────────┐┌─────────┐┌────┐┌─────────┐┌─────────┐┌────────────────────┐ ░          ░ ┌────────────────────┐┌─────────┐┌─────────┐┌────┐┌─────────┐┌─────────┐┌────────────────────┐┌─────────┐┌─────────┐┌────┐┌─────────┐┌─────────┐┌────────────────────┐ ░          ░ ┌────────────────────┐┌─────────┐┌─────────┐┌────┐┌─────────┐┌─────────┐┌────────────────────┐┌─────────┐┌─────────┐┌────┐┌─────────┐┌─────────┐┌───────────────────┐ ░  ░ ┌─┐                           \n",
              "       q_0: ─░─┤ Rz(d0_q0_z0) ├┤ √X ├┤ Rz(d0_q10_z0) ├┤ √X ├┤ Rz(d0_q20_z0) ├─░──────────░─┤ Rz(d0_q30_z0) ├┤ √X ├┤ Rz(d0_q40_z0) ├┤ √X ├┤ Rz(d0_q50_z0) ├─░──────────░─┤ Rz(d0_q60_z0) ├┤ √X ├┤ Rz(d0_q70_z0) ├┤ √X ├┤ Rz(d0_q80_z0) ├─░──░─┤ Rz(-1.0*d0_q80_z0) ├┤ Rz(π/2) ├┤ Rz(π/2) ├┤ √X ├┤ Rz(π/2) ├┤ Rz(π/2) ├┤ Rz(-1.0*d0_q70_z0) ├┤ Rz(π/2) ├┤ Rz(π/2) ├┤ √X ├┤ Rz(π/2) ├┤ Rz(π/2) ├┤ Rz(-1.0*d0_q60_z0) ├─░──────────░─┤ Rz(-1.0*d0_q50_z0) ├┤ Rz(π/2) ├┤ Rz(π/2) ├┤ √X ├┤ Rz(π/2) ├┤ Rz(π/2) ├┤ Rz(-1.0*d0_q40_z0) ├┤ Rz(π/2) ├┤ Rz(π/2) ├┤ √X ├┤ Rz(π/2) ├┤ Rz(π/2) ├┤ Rz(-1.0*d0_q30_z0) ├─░──────────░─┤ Rz(-1.0*d0_q20_z0) ├┤ Rz(π/2) ├┤ Rz(π/2) ├┤ √X ├┤ Rz(π/2) ├┤ Rz(π/2) ├┤ Rz(-1.0*d0_q10_z0) ├┤ Rz(π/2) ├┤ Rz(π/2) ├┤ √X ├┤ Rz(π/2) ├┤ Rz(π/2) ├┤ Rz(-1.0*d0_q0_z0) ├─░──░─┤M├───────────────────────────\n",
              "             ░ ├──────────────┤├────┤├───────────────┤├────┤├───────────────┤ ░ ┌──────┐ ░ ├───────────────┤├────┤├───────────────┤├────┤├───────────────┤ ░ ┌──────┐ ░ ├───────────────┤├────┤├───────────────┤├────┤├───────────────┤ ░  ░ ├────────────────────┤├─────────┤├─────────┤├────┤├─────────┤├─────────┤├────────────────────┤├─────────┤├─────────┤├────┤├─────────┤├─────────┤├────────────────────┤ ░ ┌──────┐ ░ ├────────────────────┤├─────────┤├─────────┤├────┤├─────────┤├─────────┤├────────────────────┤├─────────┤├─────────┤├────┤├─────────┤├─────────┤├────────────────────┤ ░ ┌──────┐ ░ ├────────────────────┤├─────────┤├─────────┤├────┤├─────────┤├─────────┤├────────────────────┤├─────────┤├─────────┤├────┤├─────────┤├─────────┤├───────────────────┤ ░  ░ └╥┘┌─┐                        \n",
              "       q_1: ─░─┤ Rz(d0_q1_z0) ├┤ √X ├┤ Rz(d0_q11_z0) ├┤ √X ├┤ Rz(d0_q21_z0) ├─░─┤0     ├─░─┤ Rz(d0_q31_z0) ├┤ √X ├┤ Rz(d0_q41_z0) ├┤ √X ├┤ Rz(d0_q51_z0) ├─░─┤0     ├─░─┤ Rz(d0_q61_z0) ├┤ √X ├┤ Rz(d0_q71_z0) ├┤ √X ├┤ Rz(d0_q81_z0) ├─░──░─┤ Rz(-1.0*d0_q81_z0) ├┤ Rz(π/2) ├┤ Rz(π/2) ├┤ √X ├┤ Rz(π/2) ├┤ Rz(π/2) ├┤ Rz(-1.0*d0_q71_z0) ├┤ Rz(π/2) ├┤ Rz(π/2) ├┤ √X ├┤ Rz(π/2) ├┤ Rz(π/2) ├┤ Rz(-1.0*d0_q61_z0) ├─░─┤0     ├─░─┤ Rz(-1.0*d0_q51_z0) ├┤ Rz(π/2) ├┤ Rz(π/2) ├┤ √X ├┤ Rz(π/2) ├┤ Rz(π/2) ├┤ Rz(-1.0*d0_q41_z0) ├┤ Rz(π/2) ├┤ Rz(π/2) ├┤ √X ├┤ Rz(π/2) ├┤ Rz(π/2) ├┤ Rz(-1.0*d0_q31_z0) ├─░─┤0     ├─░─┤ Rz(-1.0*d0_q21_z0) ├┤ Rz(π/2) ├┤ Rz(π/2) ├┤ √X ├┤ Rz(π/2) ├┤ Rz(π/2) ├┤ Rz(-1.0*d0_q11_z0) ├┤ Rz(π/2) ├┤ Rz(π/2) ├┤ √X ├┤ Rz(π/2) ├┤ Rz(π/2) ├┤ Rz(-1.0*d0_q1_z0) ├─░──░──╫─┤M├────────────────────────\n",
              "             ░ ├──────────────┤├────┤├───────────────┤├────┤├───────────────┤ ░ │  Ecr │ ░ ├───────────────┤├────┤├───────────────┤├────┤├───────────────┤ ░ │  Ecr │ ░ ├───────────────┤├────┤├───────────────┤├────┤├───────────────┤ ░  ░ ├────────────────────┤├─────────┤├─────────┤├────┤├─────────┤├─────────┤├────────────────────┤├─────────┤├─────────┤├────┤├─────────┤├─────────┤├────────────────────┤ ░ │  Ecr │ ░ ├────────────────────┤├─────────┤├─────────┤├────┤├─────────┤├─────────┤├────────────────────┤├─────────┤├─────────┤├────┤├─────────┤├─────────┤├────────────────────┤ ░ │  Ecr │ ░ ├────────────────────┤├─────────┤├─────────┤├────┤├─────────┤├─────────┤├────────────────────┤├─────────┤├─────────┤├────┤├─────────┤├─────────┤├───────────────────┤ ░  ░  ║ └╥┘┌─┐                     \n",
              "       q_2: ─░─┤ Rz(d0_q2_z0) ├┤ √X ├┤ Rz(d0_q12_z0) ├┤ √X ├┤ Rz(d0_q22_z0) ├─░─┤1     ├─░─┤ Rz(d0_q32_z0) ├┤ √X ├┤ Rz(d0_q42_z0) ├┤ √X ├┤ Rz(d0_q52_z0) ├─░─┤1     ├─░─┤ Rz(d0_q62_z0) ├┤ √X ├┤ Rz(d0_q72_z0) ├┤ √X ├┤ Rz(d0_q82_z0) ├─░──░─┤ Rz(-1.0*d0_q82_z0) ├┤ Rz(π/2) ├┤ Rz(π/2) ├┤ √X ├┤ Rz(π/2) ├┤ Rz(π/2) ├┤ Rz(-1.0*d0_q72_z0) ├┤ Rz(π/2) ├┤ Rz(π/2) ├┤ √X ├┤ Rz(π/2) ├┤ Rz(π/2) ├┤ Rz(-1.0*d0_q62_z0) ├─░─┤1     ├─░─┤ Rz(-1.0*d0_q52_z0) ├┤ Rz(π/2) ├┤ Rz(π/2) ├┤ √X ├┤ Rz(π/2) ├┤ Rz(π/2) ├┤ Rz(-1.0*d0_q42_z0) ├┤ Rz(π/2) ├┤ Rz(π/2) ├┤ √X ├┤ Rz(π/2) ├┤ Rz(π/2) ├┤ Rz(-1.0*d0_q32_z0) ├─░─┤1     ├─░─┤ Rz(-1.0*d0_q22_z0) ├┤ Rz(π/2) ├┤ Rz(π/2) ├┤ √X ├┤ Rz(π/2) ├┤ Rz(π/2) ├┤ Rz(-1.0*d0_q12_z0) ├┤ Rz(π/2) ├┤ Rz(π/2) ├┤ √X ├┤ Rz(π/2) ├┤ Rz(π/2) ├┤ Rz(-1.0*d0_q2_z0) ├─░──░──╫──╫─┤M├─────────────────────\n",
              "             ░ ├──────────────┤├────┤├───────────────┤├────┤├───────────────┤ ░ ├──────┤ ░ ├───────────────┤├────┤├───────────────┤├────┤├───────────────┤ ░ ├──────┤ ░ ├───────────────┤├────┤├───────────────┤├────┤├───────────────┤ ░  ░ ├────────────────────┤├─────────┤├─────────┤├────┤├─────────┤├─────────┤├────────────────────┤├─────────┤├─────────┤├────┤├─────────┤├─────────┤├────────────────────┤ ░ ├──────┤ ░ ├────────────────────┤├─────────┤├─────────┤├────┤├─────────┤├─────────┤├────────────────────┤├─────────┤├─────────┤├────┤├─────────┤├─────────┤├────────────────────┤ ░ ├──────┤ ░ ├────────────────────┤├─────────┤├─────────┤├────┤├─────────┤├─────────┤├────────────────────┤├─────────┤├─────────┤├────┤├─────────┤├─────────┤├───────────────────┤ ░  ░  ║  ║ └╥┘┌─┐                  \n",
              "       q_3: ─░─┤ Rz(d0_q3_z0) ├┤ √X ├┤ Rz(d0_q13_z0) ├┤ √X ├┤ Rz(d0_q23_z0) ├─░─┤1     ├─░─┤ Rz(d0_q33_z0) ├┤ √X ├┤ Rz(d0_q43_z0) ├┤ √X ├┤ Rz(d0_q53_z0) ├─░─┤1     ├─░─┤ Rz(d0_q63_z0) ├┤ √X ├┤ Rz(d0_q73_z0) ├┤ √X ├┤ Rz(d0_q83_z0) ├─░──░─┤ Rz(-1.0*d0_q83_z0) ├┤ Rz(π/2) ├┤ Rz(π/2) ├┤ √X ├┤ Rz(π/2) ├┤ Rz(π/2) ├┤ Rz(-1.0*d0_q73_z0) ├┤ Rz(π/2) ├┤ Rz(π/2) ├┤ √X ├┤ Rz(π/2) ├┤ Rz(π/2) ├┤ Rz(-1.0*d0_q63_z0) ├─░─┤1     ├─░─┤ Rz(-1.0*d0_q53_z0) ├┤ Rz(π/2) ├┤ Rz(π/2) ├┤ √X ├┤ Rz(π/2) ├┤ Rz(π/2) ├┤ Rz(-1.0*d0_q43_z0) ├┤ Rz(π/2) ├┤ Rz(π/2) ├┤ √X ├┤ Rz(π/2) ├┤ Rz(π/2) ├┤ Rz(-1.0*d0_q33_z0) ├─░─┤1     ├─░─┤ Rz(-1.0*d0_q23_z0) ├┤ Rz(π/2) ├┤ Rz(π/2) ├┤ √X ├┤ Rz(π/2) ├┤ Rz(π/2) ├┤ Rz(-1.0*d0_q13_z0) ├┤ Rz(π/2) ├┤ Rz(π/2) ├┤ √X ├┤ Rz(π/2) ├┤ Rz(π/2) ├┤ Rz(-1.0*d0_q3_z0) ├─░──░──╫──╫──╫─┤M├──────────────────\n",
              "             ░ ├──────────────┤├────┤├───────────────┤├────┤├───────────────┤ ░ │  Ecr │ ░ ├───────────────┤├────┤├───────────────┤├────┤├───────────────┤ ░ │  Ecr │ ░ ├───────────────┤├────┤├───────────────┤├────┤├───────────────┤ ░  ░ ├────────────────────┤├─────────┤├─────────┤├────┤├─────────┤├─────────┤├────────────────────┤├─────────┤├─────────┤├────┤├─────────┤├─────────┤├────────────────────┤ ░ │  Ecr │ ░ ├────────────────────┤├─────────┤├─────────┤├────┤├─────────┤├─────────┤├────────────────────┤├─────────┤├─────────┤├────┤├─────────┤├─────────┤├────────────────────┤ ░ │  Ecr │ ░ ├────────────────────┤├─────────┤├─────────┤├────┤├─────────┤├─────────┤├────────────────────┤├─────────┤├─────────┤├────┤├─────────┤├─────────┤├───────────────────┤ ░  ░  ║  ║  ║ └╥┘┌─┐               \n",
              "       q_4: ─░─┤ Rz(d0_q4_z0) ├┤ √X ├┤ Rz(d0_q14_z0) ├┤ √X ├┤ Rz(d0_q24_z0) ├─░─┤0     ├─░─┤ Rz(d0_q34_z0) ├┤ √X ├┤ Rz(d0_q44_z0) ├┤ √X ├┤ Rz(d0_q54_z0) ├─░─┤0     ├─░─┤ Rz(d0_q64_z0) ├┤ √X ├┤ Rz(d0_q74_z0) ├┤ √X ├┤ Rz(d0_q84_z0) ├─░──░─┤ Rz(-1.0*d0_q84_z0) ├┤ Rz(π/2) ├┤ Rz(π/2) ├┤ √X ├┤ Rz(π/2) ├┤ Rz(π/2) ├┤ Rz(-1.0*d0_q74_z0) ├┤ Rz(π/2) ├┤ Rz(π/2) ├┤ √X ├┤ Rz(π/2) ├┤ Rz(π/2) ├┤ Rz(-1.0*d0_q64_z0) ├─░─┤0     ├─░─┤ Rz(-1.0*d0_q54_z0) ├┤ Rz(π/2) ├┤ Rz(π/2) ├┤ √X ├┤ Rz(π/2) ├┤ Rz(π/2) ├┤ Rz(-1.0*d0_q44_z0) ├┤ Rz(π/2) ├┤ Rz(π/2) ├┤ √X ├┤ Rz(π/2) ├┤ Rz(π/2) ├┤ Rz(-1.0*d0_q34_z0) ├─░─┤0     ├─░─┤ Rz(-1.0*d0_q24_z0) ├┤ Rz(π/2) ├┤ Rz(π/2) ├┤ √X ├┤ Rz(π/2) ├┤ Rz(π/2) ├┤ Rz(-1.0*d0_q14_z0) ├┤ Rz(π/2) ├┤ Rz(π/2) ├┤ √X ├┤ Rz(π/2) ├┤ Rz(π/2) ├┤ Rz(-1.0*d0_q4_z0) ├─░──░──╫──╫──╫──╫─┤M├───────────────\n",
              "             ░ ├──────────────┤├────┤├───────────────┤├────┤├───────────────┤ ░ ├──────┤ ░ ├───────────────┤├────┤├───────────────┤├────┤├───────────────┤ ░ ├──────┤ ░ ├───────────────┤├────┤├───────────────┤├────┤├───────────────┤ ░  ░ ├────────────────────┤├─────────┤├─────────┤├────┤├─────────┤├─────────┤├────────────────────┤├─────────┤├─────────┤├────┤├─────────┤├─────────┤├────────────────────┤ ░ ├──────┤ ░ ├────────────────────┤├─────────┤├─────────┤├────┤├─────────┤├─────────┤├────────────────────┤├─────────┤├─────────┤├────┤├─────────┤├─────────┤├────────────────────┤ ░ ├──────┤ ░ ├────────────────────┤├─────────┤├─────────┤├────┤├─────────┤├─────────┤├────────────────────┤├─────────┤├─────────┤├────┤├─────────┤├─────────┤├───────────────────┤ ░  ░  ║  ║  ║  ║ └╥┘┌─┐            \n",
              "       q_5: ─░─┤ Rz(d0_q5_z0) ├┤ √X ├┤ Rz(d0_q15_z0) ├┤ √X ├┤ Rz(d0_q25_z0) ├─░─┤1     ├─░─┤ Rz(d0_q35_z0) ├┤ √X ├┤ Rz(d0_q45_z0) ├┤ √X ├┤ Rz(d0_q55_z0) ├─░─┤1     ├─░─┤ Rz(d0_q65_z0) ├┤ √X ├┤ Rz(d0_q75_z0) ├┤ √X ├┤ Rz(d0_q85_z0) ├─░──░─┤ Rz(-1.0*d0_q85_z0) ├┤ Rz(π/2) ├┤ Rz(π/2) ├┤ √X ├┤ Rz(π/2) ├┤ Rz(π/2) ├┤ Rz(-1.0*d0_q75_z0) ├┤ Rz(π/2) ├┤ Rz(π/2) ├┤ √X ├┤ Rz(π/2) ├┤ Rz(π/2) ├┤ Rz(-1.0*d0_q65_z0) ├─░─┤1     ├─░─┤ Rz(-1.0*d0_q55_z0) ├┤ Rz(π/2) ├┤ Rz(π/2) ├┤ √X ├┤ Rz(π/2) ├┤ Rz(π/2) ├┤ Rz(-1.0*d0_q45_z0) ├┤ Rz(π/2) ├┤ Rz(π/2) ├┤ √X ├┤ Rz(π/2) ├┤ Rz(π/2) ├┤ Rz(-1.0*d0_q35_z0) ├─░─┤1     ├─░─┤ Rz(-1.0*d0_q25_z0) ├┤ Rz(π/2) ├┤ Rz(π/2) ├┤ √X ├┤ Rz(π/2) ├┤ Rz(π/2) ├┤ Rz(-1.0*d0_q15_z0) ├┤ Rz(π/2) ├┤ Rz(π/2) ├┤ √X ├┤ Rz(π/2) ├┤ Rz(π/2) ├┤ Rz(-1.0*d0_q5_z0) ├─░──░──╫──╫──╫──╫──╫─┤M├────────────\n",
              "             ░ ├──────────────┤├────┤├───────────────┤├────┤├───────────────┤ ░ │  Ecr │ ░ ├───────────────┤├────┤├───────────────┤├────┤├───────────────┤ ░ │  Ecr │ ░ ├───────────────┤├────┤├───────────────┤├────┤├───────────────┤ ░  ░ ├────────────────────┤├─────────┤├─────────┤├────┤├─────────┤├─────────┤├────────────────────┤├─────────┤├─────────┤├────┤├─────────┤├─────────┤├────────────────────┤ ░ │  Ecr │ ░ ├────────────────────┤├─────────┤├─────────┤├────┤├─────────┤├─────────┤├────────────────────┤├─────────┤├─────────┤├────┤├─────────┤├─────────┤├────────────────────┤ ░ │  Ecr │ ░ ├────────────────────┤├─────────┤├─────────┤├────┤├─────────┤├─────────┤├────────────────────┤├─────────┤├─────────┤├────┤├─────────┤├─────────┤├───────────────────┤ ░  ░  ║  ║  ║  ║  ║ └╥┘┌─┐         \n",
              "       q_6: ─░─┤ Rz(d0_q6_z0) ├┤ √X ├┤ Rz(d0_q16_z0) ├┤ √X ├┤ Rz(d0_q26_z0) ├─░─┤0     ├─░─┤ Rz(d0_q36_z0) ├┤ √X ├┤ Rz(d0_q46_z0) ├┤ √X ├┤ Rz(d0_q56_z0) ├─░─┤0     ├─░─┤ Rz(d0_q66_z0) ├┤ √X ├┤ Rz(d0_q76_z0) ├┤ √X ├┤ Rz(d0_q86_z0) ├─░──░─┤ Rz(-1.0*d0_q86_z0) ├┤ Rz(π/2) ├┤ Rz(π/2) ├┤ √X ├┤ Rz(π/2) ├┤ Rz(π/2) ├┤ Rz(-1.0*d0_q76_z0) ├┤ Rz(π/2) ├┤ Rz(π/2) ├┤ √X ├┤ Rz(π/2) ├┤ Rz(π/2) ├┤ Rz(-1.0*d0_q66_z0) ├─░─┤0     ├─░─┤ Rz(-1.0*d0_q56_z0) ├┤ Rz(π/2) ├┤ Rz(π/2) ├┤ √X ├┤ Rz(π/2) ├┤ Rz(π/2) ├┤ Rz(-1.0*d0_q46_z0) ├┤ Rz(π/2) ├┤ Rz(π/2) ├┤ √X ├┤ Rz(π/2) ├┤ Rz(π/2) ├┤ Rz(-1.0*d0_q36_z0) ├─░─┤0     ├─░─┤ Rz(-1.0*d0_q26_z0) ├┤ Rz(π/2) ├┤ Rz(π/2) ├┤ √X ├┤ Rz(π/2) ├┤ Rz(π/2) ├┤ Rz(-1.0*d0_q16_z0) ├┤ Rz(π/2) ├┤ Rz(π/2) ├┤ √X ├┤ Rz(π/2) ├┤ Rz(π/2) ├┤ Rz(-1.0*d0_q6_z0) ├─░──░──╫──╫──╫──╫──╫──╫─┤M├─────────\n",
              "             ░ ├──────────────┤├────┤├───────────────┤├────┤├───────────────┤ ░ ├──────┤ ░ ├───────────────┤├────┤├───────────────┤├────┤├───────────────┤ ░ ├──────┤ ░ ├───────────────┤├────┤├───────────────┤├────┤├───────────────┤ ░  ░ ├────────────────────┤├─────────┤├─────────┤├────┤├─────────┤├─────────┤├────────────────────┤├─────────┤├─────────┤├────┤├─────────┤├─────────┤├────────────────────┤ ░ ├──────┤ ░ ├────────────────────┤├─────────┤├─────────┤├────┤├─────────┤├─────────┤├────────────────────┤├─────────┤├─────────┤├────┤├─────────┤├─────────┤├────────────────────┤ ░ ├──────┤ ░ ├────────────────────┤├─────────┤├─────────┤├────┤├─────────┤├─────────┤├────────────────────┤├─────────┤├─────────┤├────┤├─────────┤├─────────┤├───────────────────┤ ░  ░  ║  ║  ║  ║  ║  ║ └╥┘┌─┐      \n",
              "       q_7: ─░─┤ Rz(d0_q7_z0) ├┤ √X ├┤ Rz(d0_q17_z0) ├┤ √X ├┤ Rz(d0_q27_z0) ├─░─┤1     ├─░─┤ Rz(d0_q37_z0) ├┤ √X ├┤ Rz(d0_q47_z0) ├┤ √X ├┤ Rz(d0_q57_z0) ├─░─┤1     ├─░─┤ Rz(d0_q67_z0) ├┤ √X ├┤ Rz(d0_q77_z0) ├┤ √X ├┤ Rz(d0_q87_z0) ├─░──░─┤ Rz(-1.0*d0_q87_z0) ├┤ Rz(π/2) ├┤ Rz(π/2) ├┤ √X ├┤ Rz(π/2) ├┤ Rz(π/2) ├┤ Rz(-1.0*d0_q77_z0) ├┤ Rz(π/2) ├┤ Rz(π/2) ├┤ √X ├┤ Rz(π/2) ├┤ Rz(π/2) ├┤ Rz(-1.0*d0_q67_z0) ├─░─┤1     ├─░─┤ Rz(-1.0*d0_q57_z0) ├┤ Rz(π/2) ├┤ Rz(π/2) ├┤ √X ├┤ Rz(π/2) ├┤ Rz(π/2) ├┤ Rz(-1.0*d0_q47_z0) ├┤ Rz(π/2) ├┤ Rz(π/2) ├┤ √X ├┤ Rz(π/2) ├┤ Rz(π/2) ├┤ Rz(-1.0*d0_q37_z0) ├─░─┤1     ├─░─┤ Rz(-1.0*d0_q27_z0) ├┤ Rz(π/2) ├┤ Rz(π/2) ├┤ √X ├┤ Rz(π/2) ├┤ Rz(π/2) ├┤ Rz(-1.0*d0_q17_z0) ├┤ Rz(π/2) ├┤ Rz(π/2) ├┤ √X ├┤ Rz(π/2) ├┤ Rz(π/2) ├┤ Rz(-1.0*d0_q7_z0) ├─░──░──╫──╫──╫──╫──╫──╫──╫─┤M├──────\n",
              "             ░ ├──────────────┤├────┤├───────────────┤├────┤├───────────────┤ ░ │  Ecr │ ░ ├───────────────┤├────┤├───────────────┤├────┤├───────────────┤ ░ │  Ecr │ ░ ├───────────────┤├────┤├───────────────┤├────┤├───────────────┤ ░  ░ ├────────────────────┤├─────────┤├─────────┤├────┤├─────────┤├─────────┤├────────────────────┤├─────────┤├─────────┤├────┤├─────────┤├─────────┤├────────────────────┤ ░ │  Ecr │ ░ ├────────────────────┤├─────────┤├─────────┤├────┤├─────────┤├─────────┤├────────────────────┤├─────────┤├─────────┤├────┤├─────────┤├─────────┤├────────────────────┤ ░ │  Ecr │ ░ ├────────────────────┤├─────────┤├─────────┤├────┤├─────────┤├─────────┤├────────────────────┤├─────────┤├─────────┤├────┤├─────────┤├─────────┤├───────────────────┤ ░  ░  ║  ║  ║  ║  ║  ║  ║ └╥┘┌─┐   \n",
              "       q_8: ─░─┤ Rz(d0_q8_z0) ├┤ √X ├┤ Rz(d0_q18_z0) ├┤ √X ├┤ Rz(d0_q28_z0) ├─░─┤0     ├─░─┤ Rz(d0_q38_z0) ├┤ √X ├┤ Rz(d0_q48_z0) ├┤ √X ├┤ Rz(d0_q58_z0) ├─░─┤0     ├─░─┤ Rz(d0_q68_z0) ├┤ √X ├┤ Rz(d0_q78_z0) ├┤ √X ├┤ Rz(d0_q88_z0) ├─░──░─┤ Rz(-1.0*d0_q88_z0) ├┤ Rz(π/2) ├┤ Rz(π/2) ├┤ √X ├┤ Rz(π/2) ├┤ Rz(π/2) ├┤ Rz(-1.0*d0_q78_z0) ├┤ Rz(π/2) ├┤ Rz(π/2) ├┤ √X ├┤ Rz(π/2) ├┤ Rz(π/2) ├┤ Rz(-1.0*d0_q68_z0) ├─░─┤0     ├─░─┤ Rz(-1.0*d0_q58_z0) ├┤ Rz(π/2) ├┤ Rz(π/2) ├┤ √X ├┤ Rz(π/2) ├┤ Rz(π/2) ├┤ Rz(-1.0*d0_q48_z0) ├┤ Rz(π/2) ├┤ Rz(π/2) ├┤ √X ├┤ Rz(π/2) ├┤ Rz(π/2) ├┤ Rz(-1.0*d0_q38_z0) ├─░─┤0     ├─░─┤ Rz(-1.0*d0_q28_z0) ├┤ Rz(π/2) ├┤ Rz(π/2) ├┤ √X ├┤ Rz(π/2) ├┤ Rz(π/2) ├┤ Rz(-1.0*d0_q18_z0) ├┤ Rz(π/2) ├┤ Rz(π/2) ├┤ √X ├┤ Rz(π/2) ├┤ Rz(π/2) ├┤ Rz(-1.0*d0_q8_z0) ├─░──░──╫──╫──╫──╫──╫──╫──╫──╫─┤M├───\n",
              "             ░ ├──────────────┤├────┤├───────────────┤├────┤├───────────────┤ ░ └──────┘ ░ ├───────────────┤├────┤├───────────────┤├────┤├───────────────┤ ░ └──────┘ ░ ├───────────────┤├────┤├───────────────┤├────┤├───────────────┤ ░  ░ ├────────────────────┤├─────────┤├─────────┤├────┤├─────────┤├─────────┤├────────────────────┤├─────────┤├─────────┤├────┤├─────────┤├─────────┤├────────────────────┤ ░ └──────┘ ░ ├────────────────────┤├─────────┤├─────────┤├────┤├─────────┤├─────────┤├────────────────────┤├─────────┤├─────────┤├────┤├─────────┤├─────────┤├────────────────────┤ ░ └──────┘ ░ ├────────────────────┤├─────────┤├─────────┤├────┤├─────────┤├─────────┤├────────────────────┤├─────────┤├─────────┤├────┤├─────────┤├─────────┤├───────────────────┤ ░  ░  ║  ║  ║  ║  ║  ║  ║  ║ └╥┘┌─┐\n",
              "       q_9: ─░─┤ Rz(d0_q9_z0) ├┤ √X ├┤ Rz(d0_q19_z0) ├┤ √X ├┤ Rz(d0_q29_z0) ├─░──────────░─┤ Rz(d0_q39_z0) ├┤ √X ├┤ Rz(d0_q49_z0) ├┤ √X ├┤ Rz(d0_q59_z0) ├─░──────────░─┤ Rz(d0_q69_z0) ├┤ √X ├┤ Rz(d0_q79_z0) ├┤ √X ├┤ Rz(d0_q89_z0) ├─░──░─┤ Rz(-1.0*d0_q89_z0) ├┤ Rz(π/2) ├┤ Rz(π/2) ├┤ √X ├┤ Rz(π/2) ├┤ Rz(π/2) ├┤ Rz(-1.0*d0_q79_z0) ├┤ Rz(π/2) ├┤ Rz(π/2) ├┤ √X ├┤ Rz(π/2) ├┤ Rz(π/2) ├┤ Rz(-1.0*d0_q69_z0) ├─░──────────░─┤ Rz(-1.0*d0_q59_z0) ├┤ Rz(π/2) ├┤ Rz(π/2) ├┤ √X ├┤ Rz(π/2) ├┤ Rz(π/2) ├┤ Rz(-1.0*d0_q49_z0) ├┤ Rz(π/2) ├┤ Rz(π/2) ├┤ √X ├┤ Rz(π/2) ├┤ Rz(π/2) ├┤ Rz(-1.0*d0_q39_z0) ├─░──────────░─┤ Rz(-1.0*d0_q29_z0) ├┤ Rz(π/2) ├┤ Rz(π/2) ├┤ √X ├┤ Rz(π/2) ├┤ Rz(π/2) ├┤ Rz(-1.0*d0_q19_z0) ├┤ Rz(π/2) ├┤ Rz(π/2) ├┤ √X ├┤ Rz(π/2) ├┤ Rz(π/2) ├┤ Rz(-1.0*d0_q9_z0) ├─░──░──╫──╫──╫──╫──╫──╫──╫──╫──╫─┤M├\n",
              "             ░ └──────────────┘└────┘└───────────────┘└────┘└───────────────┘ ░          ░ └───────────────┘└────┘└───────────────┘└────┘└───────────────┘ ░          ░ └───────────────┘└────┘└───────────────┘└────┘└───────────────┘ ░  ░ └────────────────────┘└─────────┘└─────────┘└────┘└─────────┘└─────────┘└────────────────────┘└─────────┘└─────────┘└────┘└─────────┘└─────────┘└────────────────────┘ ░          ░ └────────────────────┘└─────────┘└─────────┘└────┘└─────────┘└─────────┘└────────────────────┘└─────────┘└─────────┘└────┘└─────────┘└─────────┘└────────────────────┘ ░          ░ └────────────────────┘└─────────┘└─────────┘└────┘└─────────┘└─────────┘└────────────────────┘└─────────┘└─────────┘└────┘└─────────┘└─────────┘└───────────────────┘ ░  ░  ║  ║  ║  ║  ║  ║  ║  ║  ║ └╥┘\n",
              "measure: 10/═════════════════════════════════════════════════════════════════════════════════════════════════════════════════════════════════════════════════════════════════════════════════════════════════════════════════════════════════════════════════════════════════════════════════════════════════════════════════════════════════════════════════════════════════════════════════════════════════════════════════════════════════════════════════════════════════════════════════════════════════════════════════════════════════════════════════════════════════════════════════════════════════════════════════════════════════════════════════════════════════════════════════════════════════════════════════════════════════════════════════════════════════════════════════════╩══╩══╩══╩══╩══╩══╩══╩══╩══╩═\n",
              "                                                                                                                                                                                                                                                                                                                                                                                                                                                                                                                                                                                                                                                                                                                                                                                                 0  1  2  3  4  5  6  7  8  9 </pre>"
            ]
          },
          "metadata": {},
          "execution_count": 31
        }
      ]
    },
    {
      "cell_type": "markdown",
      "source": [
        "# Part 5: Construct BindingsArrays"
      ],
      "metadata": {
        "id": "ffpV8lR0JFiM"
      }
    },
    {
      "cell_type": "code",
      "source": [
        "import numpy as np\n",
        "\n",
        "from qiskit.primitives.containers.bindings_array import BindingsArray\n",
        "\n",
        "def get_clifford_rz_samples(\n",
        "    circ: QuantumCircuit,\n",
        "    num_samples: int,\n",
        "    rng: np.random.Generator,\n",
        ") -> BindingsArray:\n",
        "    \"\"\"Uniformly sample the Rz parameters in a `QuantumCircuit`\n",
        "    from -pi, -pi/2, 0, +pi/2, +pi.\n",
        "    \"\"\"\n",
        "\n",
        "    _allowed_ops = {'rz', 'sx', 'sxdg', 'ecr', 'barrier', 'measure'}\n",
        "    if (_other := set(circ.count_ops().keys()) - _allowed_ops):\n",
        "        raise ValueError(f\"Circuit must only contain ops: {_allowed_ops}, got {_other}\")\n",
        "\n",
        "    sampled_pars = rng.integers(-2, 3, size=(num_samples, len(circ.parameters))) * (np.pi/2)\n",
        "\n",
        "    return BindingsArray({\n",
        "        tuple(circ.parameters): sampled_pars\n",
        "    })"
      ],
      "metadata": {
        "id": "HEBe656DIQ8b"
      },
      "execution_count": null,
      "outputs": []
    },
    {
      "cell_type": "code",
      "source": [
        "num_samples = 10\n",
        "ARRAY_1_ANSWER = get_clifford_rz_samples(\n",
        "    circ=example_circuit_1,\n",
        "    num_samples=num_samples,\n",
        "    rng=np.random.default_rng(42))"
      ],
      "metadata": {
        "id": "qaAHsJKwJZRD"
      },
      "execution_count": null,
      "outputs": []
    },
    {
      "cell_type": "code",
      "source": [
        "# grade part 4\n",
        "from qc_grader.challenges.qgss_2024 import grade_lab2_ex4\n",
        "grade_lab2_ex4(ARRAY_1_ANSWER, example_circuit_1, num_samples)"
      ],
      "metadata": {
        "colab": {
          "base_uri": "https://localhost:8080/"
        },
        "id": "KQ7Jf2_3JgPa",
        "outputId": "36646b65-003a-41d1-efc4-ac0c7fa1770a"
      },
      "execution_count": null,
      "outputs": [
        {
          "output_type": "stream",
          "name": "stdout",
          "text": [
            "Submitting your answer. Please wait...\n",
            "Nice work, all your answers look correct! \n",
            " Notice that the shape of the BindingsArray is [10], and there are {num_parameters} parameters.\n"
          ]
        }
      ]
    },
    {
      "cell_type": "markdown",
      "source": [
        "\n",
        "# Part 6: Make ObservablesArrays"
      ],
      "metadata": {
        "id": "59ja82ZlLH4S"
      }
    },
    {
      "cell_type": "code",
      "source": [
        "import numpy as np\n",
        "from itertools import product\n",
        "from qiskit.quantum_info import SparsePauliOp\n",
        "\n",
        "def process_fidelity_observable(num_qubits: int, qubits: tuple[int, ...]) -> SparsePauliOp:\n",
        "    \"\"\"Produces the all 0 projector on `qubits` tensored with the identity on all other qubits\"\"\"\n",
        "    pauli_strings = []\n",
        "\n",
        "    for p_sub_str in product([\"I\", \"Z\"], repeat=len(qubits)):\n",
        "        p_str = [\"I\"] * num_qubits\n",
        "        for qi, pi in zip(qubits, p_sub_str):\n",
        "            p_str[qi] = pi\n",
        "        pauli_strings.append(\"\".join(p_str[::-1]))\n",
        "\n",
        "    return SparsePauliOp(pauli_strings, np.ones(len(pauli_strings)) / 2**len(qubits))"
      ],
      "metadata": {
        "id": "9mQlO-TpJpjN"
      },
      "execution_count": null,
      "outputs": []
    },
    {
      "cell_type": "code",
      "source": [
        "from qiskit.primitives.containers.observables_array import ObservablesArray\n",
        "\n",
        "LAYER_1_SUBSYSTEMS = LAYER_1_ANSWER + [(q,) for q in set(PATH_ANSWER) - set(item for sublist in LAYER_1_ANSWER for item in sublist)]\n",
        "LAYER_2_SUBSYSTEMS = LAYER_2_ANSWER + [(q,) for q in set(PATH_ANSWER) - set(item for sublist in LAYER_2_ANSWER for item in sublist)]\n",
        "\n",
        "LAYER_1_OBSERVABLES = ObservablesArray([process_fidelity_observable(BACKEND.num_qubits, qubits) for qubits in LAYER_1_SUBSYSTEMS])\n",
        "LAYER_2_OBSERVABLES = ObservablesArray([process_fidelity_observable(BACKEND.num_qubits, qubits) for qubits in LAYER_2_SUBSYSTEMS])"
      ],
      "metadata": {
        "id": "37ZSUwW7LPug"
      },
      "execution_count": null,
      "outputs": []
    },
    {
      "cell_type": "code",
      "source": [
        "LAYER_1_OBSERVABLES.shape == (len(LAYER_1_SUBSYSTEMS),)\n",
        "LAYER_2_OBSERVABLES.shape == (len(LAYER_2_SUBSYSTEMS),)"
      ],
      "metadata": {
        "colab": {
          "base_uri": "https://localhost:8080/"
        },
        "id": "QkL5eY0nLVrD",
        "outputId": "3c0d3375-0155-4172-b9d1-f6d7c89dd371"
      },
      "execution_count": null,
      "outputs": [
        {
          "output_type": "execute_result",
          "data": {
            "text/plain": [
              "True"
            ]
          },
          "metadata": {},
          "execution_count": 37
        }
      ]
    },
    {
      "cell_type": "markdown",
      "source": [
        "## Part 7: Make Sequence of EstimatorPubs"
      ],
      "metadata": {
        "id": "huKu9OQlL1ZE"
      }
    },
    {
      "cell_type": "code",
      "source": [
        "rng = np.random.default_rng(42)\n",
        "num_samples = 10\n",
        "depths = [2, 4, 8, 16, 32, 64]"
      ],
      "metadata": {
        "id": "VFZBlEnuLu5Z"
      },
      "execution_count": null,
      "outputs": []
    },
    {
      "cell_type": "code",
      "source": [
        "from qiskit.primitives.containers.estimator_pub import EstimatorPub\n",
        "\n",
        "estimator_pubs = []\n",
        "for depth in depths:\n",
        "    for layer, name, observables in [(CIRC_1_ANSWER, \"circ_1\", LAYER_1_OBSERVABLES), (CIRC_2_ANSWER, \"circ_2\", LAYER_2_OBSERVABLES)]:\n",
        "        circ = eplg_circuit(\n",
        "            num_qubits=BACKEND.num_qubits,\n",
        "            depth=depth,\n",
        "            layer=layer,\n",
        "            qubits=PATH_ANSWER,\n",
        "        )\n",
        "        circ.metadata[\"layer_idx\"] = name\n",
        "        bindings_array = get_clifford_rz_samples(\n",
        "            circ=circ,\n",
        "            num_samples=num_samples,\n",
        "            rng=rng,\n",
        "        )\n",
        "\n",
        "        # We need to reshape the `ObservablesArray`s and `BindingsArray`s so they\n",
        "        # can be broadcasted.\n",
        "        # https://numpy.org/doc/stable/user/basics.broadcasting.html#basics-broadcasting\n",
        "        estimator_pubs.append(EstimatorPub(\n",
        "            circuit=circ,\n",
        "            observables=observables.reshape((*observables.shape, 1)),\n",
        "            parameter_values=bindings_array.reshape((1, *bindings_array.shape)),\n",
        "        ))"
      ],
      "metadata": {
        "id": "Ae4aqx6UMCy4"
      },
      "execution_count": null,
      "outputs": []
    },
    {
      "cell_type": "code",
      "source": [
        "num_evs_expected = 0\n",
        "for pub in estimator_pubs:\n",
        "    num_evs_expected += np.prod(estimator_pubs[0].shape)\n",
        "num_evs_expected"
      ],
      "metadata": {
        "colab": {
          "base_uri": "https://localhost:8080/"
        },
        "id": "8YOBcgsmMGsX",
        "outputId": "6b18d7f3-7a8b-4c69-bb5f-872d01062001"
      },
      "execution_count": null,
      "outputs": [
        {
          "output_type": "execute_result",
          "data": {
            "text/plain": [
              "600"
            ]
          },
          "metadata": {},
          "execution_count": 40
        }
      ]
    },
    {
      "cell_type": "markdown",
      "source": [
        "# Part 8: Submit to Runtime"
      ],
      "metadata": {
        "id": "tXweyRXANdTt"
      }
    },
    {
      "cell_type": "code",
      "source": [
        "from qiskit_ibm_runtime import EstimatorV2\n",
        "estimator = EstimatorV2(backend=BACKEND)\n",
        "estimator.options.resilience.measure_mitigation = False"
      ],
      "metadata": {
        "id": "jh3H30DHNcks"
      },
      "execution_count": null,
      "outputs": []
    },
    {
      "cell_type": "code",
      "source": [
        "\n",
        "estimator_job = estimator.run(estimator_pubs)"
      ],
      "metadata": {
        "id": "tluOgP0JNiLb"
      },
      "execution_count": null,
      "outputs": []
    },
    {
      "cell_type": "code",
      "source": [
        "primitive_result = estimator_job.result()\n",
        "\n",
        "primitive_result"
      ],
      "metadata": {
        "colab": {
          "base_uri": "https://localhost:8080/"
        },
        "id": "2iNXhcFNNlat",
        "outputId": "9a40fcaa-d694-49e5-aa2c-c8b5011c0c62"
      },
      "execution_count": null,
      "outputs": [
        {
          "output_type": "execute_result",
          "data": {
            "text/plain": [
              "PrimitiveResult([PubResult(data=DataBin(evs=np.ndarray(<shape=(5, 10), dtype=float64>), stds=np.ndarray(<shape=(5, 10), dtype=float64>), ensemble_standard_error=np.ndarray(<shape=(5, 10), dtype=float64>), shape=(5, 10)), metadata={'shots': 4096, 'target_precision': 0.015625, 'circuit_metadata': {'layer_depth': 2, 'qubits': [0, 1, 2, 3, 4, 5, 6, 7, 8, 9], 'num_qubits': 127, 'layer_idx': 'circ_1'}, 'num_randomizations': 32}), PubResult(data=DataBin(evs=np.ndarray(<shape=(6, 10), dtype=float64>), stds=np.ndarray(<shape=(6, 10), dtype=float64>), ensemble_standard_error=np.ndarray(<shape=(6, 10), dtype=float64>), shape=(6, 10)), metadata={'shots': 4096, 'target_precision': 0.015625, 'circuit_metadata': {'layer_depth': 2, 'qubits': [0, 1, 2, 3, 4, 5, 6, 7, 8, 9], 'num_qubits': 127, 'layer_idx': 'circ_2'}, 'num_randomizations': 32}), PubResult(data=DataBin(evs=np.ndarray(<shape=(5, 10), dtype=float64>), stds=np.ndarray(<shape=(5, 10), dtype=float64>), ensemble_standard_error=np.ndarray(<shape=(5, 10), dtype=float64>), shape=(5, 10)), metadata={'shots': 4096, 'target_precision': 0.015625, 'circuit_metadata': {'layer_depth': 4, 'qubits': [0, 1, 2, 3, 4, 5, 6, 7, 8, 9], 'num_qubits': 127, 'layer_idx': 'circ_1'}, 'num_randomizations': 32}), PubResult(data=DataBin(evs=np.ndarray(<shape=(6, 10), dtype=float64>), stds=np.ndarray(<shape=(6, 10), dtype=float64>), ensemble_standard_error=np.ndarray(<shape=(6, 10), dtype=float64>), shape=(6, 10)), metadata={'shots': 4096, 'target_precision': 0.015625, 'circuit_metadata': {'layer_depth': 4, 'qubits': [0, 1, 2, 3, 4, 5, 6, 7, 8, 9], 'num_qubits': 127, 'layer_idx': 'circ_2'}, 'num_randomizations': 32}), PubResult(data=DataBin(evs=np.ndarray(<shape=(5, 10), dtype=float64>), stds=np.ndarray(<shape=(5, 10), dtype=float64>), ensemble_standard_error=np.ndarray(<shape=(5, 10), dtype=float64>), shape=(5, 10)), metadata={'shots': 4096, 'target_precision': 0.015625, 'circuit_metadata': {'layer_depth': 8, 'qubits': [0, 1, 2, 3, 4, 5, 6, 7, 8, 9], 'num_qubits': 127, 'layer_idx': 'circ_1'}, 'num_randomizations': 32}), PubResult(data=DataBin(evs=np.ndarray(<shape=(6, 10), dtype=float64>), stds=np.ndarray(<shape=(6, 10), dtype=float64>), ensemble_standard_error=np.ndarray(<shape=(6, 10), dtype=float64>), shape=(6, 10)), metadata={'shots': 4096, 'target_precision': 0.015625, 'circuit_metadata': {'layer_depth': 8, 'qubits': [0, 1, 2, 3, 4, 5, 6, 7, 8, 9], 'num_qubits': 127, 'layer_idx': 'circ_2'}, 'num_randomizations': 32}), PubResult(data=DataBin(evs=np.ndarray(<shape=(5, 10), dtype=float64>), stds=np.ndarray(<shape=(5, 10), dtype=float64>), ensemble_standard_error=np.ndarray(<shape=(5, 10), dtype=float64>), shape=(5, 10)), metadata={'shots': 4096, 'target_precision': 0.015625, 'circuit_metadata': {'layer_depth': 16, 'qubits': [0, 1, 2, 3, 4, 5, 6, 7, 8, 9], 'num_qubits': 127, 'layer_idx': 'circ_1'}, 'num_randomizations': 32}), PubResult(data=DataBin(evs=np.ndarray(<shape=(6, 10), dtype=float64>), stds=np.ndarray(<shape=(6, 10), dtype=float64>), ensemble_standard_error=np.ndarray(<shape=(6, 10), dtype=float64>), shape=(6, 10)), metadata={'shots': 4096, 'target_precision': 0.015625, 'circuit_metadata': {'layer_depth': 16, 'qubits': [0, 1, 2, 3, 4, 5, 6, 7, 8, 9], 'num_qubits': 127, 'layer_idx': 'circ_2'}, 'num_randomizations': 32}), PubResult(data=DataBin(evs=np.ndarray(<shape=(5, 10), dtype=float64>), stds=np.ndarray(<shape=(5, 10), dtype=float64>), ensemble_standard_error=np.ndarray(<shape=(5, 10), dtype=float64>), shape=(5, 10)), metadata={'shots': 4096, 'target_precision': 0.015625, 'circuit_metadata': {'layer_depth': 32, 'qubits': [0, 1, 2, 3, 4, 5, 6, 7, 8, 9], 'num_qubits': 127, 'layer_idx': 'circ_1'}, 'num_randomizations': 32}), PubResult(data=DataBin(evs=np.ndarray(<shape=(6, 10), dtype=float64>), stds=np.ndarray(<shape=(6, 10), dtype=float64>), ensemble_standard_error=np.ndarray(<shape=(6, 10), dtype=float64>), shape=(6, 10)), metadata={'shots': 4096, 'target_precision': 0.015625, 'circuit_metadata': {'layer_depth': 32, 'qubits': [0, 1, 2, 3, 4, 5, 6, 7, 8, 9], 'num_qubits': 127, 'layer_idx': 'circ_2'}, 'num_randomizations': 32}), PubResult(data=DataBin(evs=np.ndarray(<shape=(5, 10), dtype=float64>), stds=np.ndarray(<shape=(5, 10), dtype=float64>), ensemble_standard_error=np.ndarray(<shape=(5, 10), dtype=float64>), shape=(5, 10)), metadata={'shots': 4096, 'target_precision': 0.015625, 'circuit_metadata': {'layer_depth': 64, 'qubits': [0, 1, 2, 3, 4, 5, 6, 7, 8, 9], 'num_qubits': 127, 'layer_idx': 'circ_1'}, 'num_randomizations': 32}), PubResult(data=DataBin(evs=np.ndarray(<shape=(6, 10), dtype=float64>), stds=np.ndarray(<shape=(6, 10), dtype=float64>), ensemble_standard_error=np.ndarray(<shape=(6, 10), dtype=float64>), shape=(6, 10)), metadata={'shots': 4096, 'target_precision': 0.015625, 'circuit_metadata': {'layer_depth': 64, 'qubits': [0, 1, 2, 3, 4, 5, 6, 7, 8, 9], 'num_qubits': 127, 'layer_idx': 'circ_2'}, 'num_randomizations': 32})], metadata={'dynamical_decoupling': {'enable': False, 'sequence_type': 'XX', 'extra_slack_distribution': 'middle', 'scheduling_method': 'alap'}, 'twirling': {'enable_gates': False, 'enable_measure': True, 'num_randomizations': 'auto', 'shots_per_randomization': 'auto', 'interleave_randomizations': True, 'strategy': 'active-accum'}, 'resilience': {'measure_mitigation': False, 'zne_mitigation': False, 'pec_mitigation': False}, 'version': 2})"
            ]
          },
          "metadata": {},
          "execution_count": 43
        }
      ]
    },
    {
      "cell_type": "markdown",
      "source": [
        "# Part 9: Data Analysis"
      ],
      "metadata": {
        "id": "xwbSxSSmN0-0"
      }
    },
    {
      "cell_type": "code",
      "source": [
        "data_out = {\n",
        "    \"evs\": [pub_res.data.evs for pub_res in primitive_result],\n",
        "    \"stds\": [pub_res.data.stds for pub_res in primitive_result],\n",
        "    \"result_metadata\": primitive_result.metadata,\n",
        "    \"pub_metadata\": [pub_res.metadata for pub_res in primitive_result]\n",
        "}"
      ],
      "metadata": {
        "id": "XDlpf00ZN3Z9"
      },
      "execution_count": null,
      "outputs": []
    },
    {
      "cell_type": "code",
      "source": [
        "# evs_at_depth is a\n",
        "evs_at_depth = np.zeros((len(depths), data_out['evs'][0].shape[0]*2))\n",
        "for i in range(len(depths)):\n",
        "    layer1_evs = np.average(data_out['evs'][2*i], axis=-1)\n",
        "    layer2_evs = np.average(data_out['evs'][2*i+1], axis=-1)\n",
        "    evs_at_depth[i,:] = np.array([item for pair in zip(layer1_evs, layer2_evs) for item in pair])"
      ],
      "metadata": {
        "id": "Oclcqt5oN6ZO"
      },
      "execution_count": null,
      "outputs": []
    },
    {
      "cell_type": "code",
      "source": [
        "evs_at_depth.shape"
      ],
      "metadata": {
        "colab": {
          "base_uri": "https://localhost:8080/"
        },
        "id": "PbbZVxrnN8eo",
        "outputId": "57b9ebf4-85ef-4cb6-bde6-46d16962147d"
      },
      "execution_count": null,
      "outputs": [
        {
          "output_type": "execute_result",
          "data": {
            "text/plain": [
              "(6, 10)"
            ]
          },
          "metadata": {},
          "execution_count": 46
        }
      ]
    },
    {
      "cell_type": "code",
      "source": [
        "import matplotlib.pyplot as plt\n",
        "ax = plt.gca()\n",
        "for i in range(evs_at_depth.shape[1]):\n",
        "    ax.plot(depths, evs_at_depth[:,i])\n",
        "\n",
        "ax.set_ylabel(\"Ground State Population\")\n",
        "ax.set_xlabel(\"Depth\")\n",
        "ax.grid()"
      ],
      "metadata": {
        "colab": {
          "base_uri": "https://localhost:8080/",
          "height": 449
        },
        "id": "X1N1jW9ROBJl",
        "outputId": "525da913-1828-498a-f27a-64195c9bedee"
      },
      "execution_count": null,
      "outputs": [
        {
          "output_type": "display_data",
          "data": {
            "text/plain": [
              "<Figure size 640x480 with 1 Axes>"
            ],
            "image/png": "[encoded data removed]"
          },
          "metadata": {}
        }
      ]
    },
    {
      "cell_type": "code",
      "source": [
        "!pip install lmfit"
      ],
      "metadata": {
        "colab": {
          "base_uri": "https://localhost:8080/"
        },
        "id": "ODjQG8CZRmVs",
        "outputId": "fcecc732-6436-425b-c610-bad01aa2ac5e"
      },
      "execution_count": null,
      "outputs": [
        {
          "output_type": "stream",
          "name": "stdout",
          "text": [
            "Collecting lmfit\n",
            "  Downloading lmfit-1.3.2-py3-none-any.whl.metadata (13 kB)\n",
            "Collecting asteval>=1.0 (from lmfit)\n",
            "  Downloading asteval-1.0.1-py3-none-any.whl.metadata (6.2 kB)\n",
            "Requirement already satisfied: numpy>=1.19 in /usr/local/lib/python3.10/dist-packages (from lmfit) (1.26.4)\n",
            "Requirement already satisfied: scipy>=1.6 in /usr/local/lib/python3.10/dist-packages (from lmfit) (1.13.1)\n",
            "Collecting uncertainties>=3.2.2 (from lmfit)\n",
            "  Downloading uncertainties-3.2.2-py3-none-any.whl.metadata (6.9 kB)\n",
            "Requirement already satisfied: dill>=0.3.4 in /usr/local/lib/python3.10/dist-packages (from lmfit) (0.3.8)\n",
            "Downloading lmfit-1.3.2-py3-none-any.whl (98 kB)\n",
            "\u001b[2K   \u001b[90m━━━━━━━━━━━━━━━━━━━━━━━━━━━━━━━━━━━━━━━━\u001b[0m \u001b[32m98.9/98.9 kB\u001b[0m \u001b[31m5.8 MB/s\u001b[0m eta \u001b[36m0:00:00\u001b[0m\n",
            "\u001b[?25hDownloading asteval-1.0.1-py3-none-any.whl (21 kB)\n",
            "Downloading uncertainties-3.2.2-py3-none-any.whl (58 kB)\n",
            "\u001b[2K   \u001b[90m━━━━━━━━━━━━━━━━━━━━━━━━━━━━━━━━━━━━━━━━\u001b[0m \u001b[32m58.3/58.3 kB\u001b[0m \u001b[31m3.4 MB/s\u001b[0m eta \u001b[36m0:00:00\u001b[0m\n",
            "\u001b[?25hInstalling collected packages: uncertainties, asteval, lmfit\n",
            "Successfully installed asteval-1.0.1 lmfit-1.3.2 uncertainties-3.2.2\n"
          ]
        }
      ]
    },
    {
      "cell_type": "code",
      "source": [
        "import lmfit\n",
        "model= lmfit.models.ExpressionModel(\n",
        "            expr=\"a * alpha ** x + b\",\n",
        "            name=\"rb_decay\")\n",
        "\n",
        "params_dict = {\n",
        "    'a': {'value': 1.0,\n",
        "            'min': -1.0,\n",
        "            'max': 1.0,\n",
        "            },\n",
        "    'b': {'value': 0.0,\n",
        "            'min': -1.0,\n",
        "            'max': 1.0,\n",
        "            },\n",
        "    'alpha': {'value': 0.9,\n",
        "              'min': 0.0,\n",
        "              'max': 1.0\n",
        "              },\n",
        "}\n",
        "p = model.make_params(**params_dict)\n",
        "alphas = []\n",
        "for i in range(evs_at_depth.shape[-1]):\n",
        "    result = model.fit(evs_at_depth[:,i], p, x=depths)\n",
        "    alphas.append(result.params['alpha'].value)"
      ],
      "metadata": {
        "id": "KQgB3V5LOFOO"
      },
      "execution_count": null,
      "outputs": []
    },
    {
      "cell_type": "code",
      "source": [
        "def cal_process_fid(alpha, D=4):\n",
        "    epsilon = (D-1) * (1 - alpha)/D\n",
        "    Fg = 1 - epsilon\n",
        "    Fp = ((D+1) * Fg -1)/D\n",
        "    return Fp"
      ],
      "metadata": {
        "id": "ratVsLmUPISm"
      },
      "execution_count": null,
      "outputs": []
    },
    {
      "cell_type": "code",
      "source": [
        "import pandas as pd\n",
        "\n",
        "qubit_pairs = [item for pair in zip(LAYER_1_ANSWER, LAYER_2_ANSWER) for item in pair]\n",
        "pfs = [cal_process_fid(alpha) for alpha in alphas]\n",
        "df = pd.DataFrame(zip(qubit_pairs, alphas, pfs), columns=['qubit pair', 'alpha', 'process fidelity'])\n",
        "df"
      ],
      "metadata": {
        "colab": {
          "base_uri": "https://localhost:8080/",
          "height": 300
        },
        "id": "tDIXt-J8PkS9",
        "outputId": "bcc8cd14-2ea2-4cba-f1a4-5309010734fb"
      },
      "execution_count": null,
      "outputs": [
        {
          "output_type": "execute_result",
          "data": {
            "text/plain": [
              "  qubit pair     alpha  process fidelity\n",
              "0     (1, 0)  0.896313          0.902793\n",
              "1     [1, 2]  0.919203          0.924252\n",
              "2     (3, 2)  0.975843          0.977353\n",
              "3     (4, 3)  0.900000          0.906250\n",
              "4     [4, 5]  0.982311          0.983416\n",
              "5     (6, 5)  0.989800          0.990437\n",
              "6     (7, 6)  0.927245          0.931792\n",
              "7     (8, 7)  0.974948          0.976513"
            ],
            "text/html": [
              "\n",
              "  <div id=\"df-31b83299-bc04-4a2b-ba9b-8e24d15a2896\" class=\"colab-df-container\">\n",
              "    <div>\n",
              "<style scoped>\n",
              "    .dataframe tbody tr th:only-of-type {\n",
              "        vertical-align: middle;\n",
              "    }\n",
              "\n",
              "    .dataframe tbody tr th {\n",
              "        vertical-align: top;\n",
              "    }\n",
              "\n",
              "    .dataframe thead th {\n",
              "        text-align: right;\n",
              "    }\n",
              "</style>\n",
              "<table border=\"1\" class=\"dataframe\">\n",
              "  <thead>\n",
              "    <tr style=\"text-align: right;\">\n",
              "      <th></th>\n",
              "      <th>qubit pair</th>\n",
              "      <th>alpha</th>\n",
              "      <th>process fidelity</th>\n",
              "    </tr>\n",
              "  </thead>\n",
              "  <tbody>\n",
              "    <tr>\n",
              "      <th>0</th>\n",
              "      <td>(1, 0)</td>\n",
              "      <td>0.896313</td>\n",
              "      <td>0.902793</td>\n",
              "    </tr>\n",
              "    <tr>\n",
              "      <th>1</th>\n",
              "      <td>[1, 2]</td>\n",
              "      <td>0.919203</td>\n",
              "      <td>0.924252</td>\n",
              "    </tr>\n",
              "    <tr>\n",
              "      <th>2</th>\n",
              "      <td>(3, 2)</td>\n",
              "      <td>0.975843</td>\n",
              "      <td>0.977353</td>\n",
              "    </tr>\n",
              "    <tr>\n",
              "      <th>3</th>\n",
              "      <td>(4, 3)</td>\n",
              "      <td>0.900000</td>\n",
              "      <td>0.906250</td>\n",
              "    </tr>\n",
              "    <tr>\n",
              "      <th>4</th>\n",
              "      <td>[4, 5]</td>\n",
              "      <td>0.982311</td>\n",
              "      <td>0.983416</td>\n",
              "    </tr>\n",
              "    <tr>\n",
              "      <th>5</th>\n",
              "      <td>(6, 5)</td>\n",
              "      <td>0.989800</td>\n",
              "      <td>0.990437</td>\n",
              "    </tr>\n",
              "    <tr>\n",
              "      <th>6</th>\n",
              "      <td>(7, 6)</td>\n",
              "      <td>0.927245</td>\n",
              "      <td>0.931792</td>\n",
              "    </tr>\n",
              "    <tr>\n",
              "      <th>7</th>\n",
              "      <td>(8, 7)</td>\n",
              "      <td>0.974948</td>\n",
              "      <td>0.976513</td>\n",
              "    </tr>\n",
              "  </tbody>\n",
              "</table>\n",
              "</div>\n",
              "    <div class=\"colab-df-buttons\">\n",
              "\n",
              "  <div class=\"colab-df-container\">\n",
              "    <button class=\"colab-df-convert\" onclick=\"convertToInteractive('df-31b83299-bc04-4a2b-ba9b-8e24d15a2896')\"\n",
              "            title=\"Convert this dataframe to an interactive table.\"\n",
              "            style=\"display:none;\">\n",
              "\n",
              "  <svg xmlns=\"http://www.w3.org/2000/svg\" height=\"24px\" viewBox=\"0 -960 960 960\">\n",
              "    <path d=\"M120-120v-720h720v720H120Zm60-500h600v-160H180v160Zm220 220h160v-160H400v160Zm0 220h160v-160H400v160ZM180-400h160v-160H180v160Zm440 0h160v-160H620v160ZM180-180h160v-160H180v160Zm440 0h160v-160H620v160Z\"/>\n",
              "  </svg>\n",
              "    </button>\n",
              "\n",
              "  <style>\n",
              "    .colab-df-container {\n",
              "      display:flex;\n",
              "      gap: 12px;\n",
              "    }\n",
              "\n",
              "    .colab-df-convert {\n",
              "      background-color: #E8F0FE;\n",
              "      border: none;\n",
              "      border-radius: 50%;\n",
              "      cursor: pointer;\n",
              "      display: none;\n",
              "      fill: #1967D2;\n",
              "      height: 32px;\n",
              "      padding: 0 0 0 0;\n",
              "      width: 32px;\n",
              "    }\n",
              "\n",
              "    .colab-df-convert:hover {\n",
              "      background-color: #E2EBFA;\n",
              "      box-shadow: 0px 1px 2px rgba(60, 64, 67, 0.3), 0px 1px 3px 1px rgba(60, 64, 67, 0.15);\n",
              "      fill: #174EA6;\n",
              "    }\n",
              "\n",
              "    .colab-df-buttons div {\n",
              "      margin-bottom: 4px;\n",
              "    }\n",
              "\n",
              "    [theme=dark] .colab-df-convert {\n",
              "      background-color: #3B4455;\n",
              "      fill: #D2E3FC;\n",
              "    }\n",
              "\n",
              "    [theme=dark] .colab-df-convert:hover {\n",
              "      background-color: #434B5C;\n",
              "      box-shadow: 0px 1px 3px 1px rgba(0, 0, 0, 0.15);\n",
              "      filter: drop-shadow(0px 1px 2px rgba(0, 0, 0, 0.3));\n",
              "      fill: #FFFFFF;\n",
              "    }\n",
              "  </style>\n",
              "\n",
              "    <script>\n",
              "      const buttonEl =\n",
              "        document.querySelector('#df-31b83299-bc04-4a2b-ba9b-8e24d15a2896 button.colab-df-convert');\n",
              "      buttonEl.style.display =\n",
              "        google.colab.kernel.accessAllowed ? 'block' : 'none';\n",
              "\n",
              "      async function convertToInteractive(key) {\n",
              "        const element = document.querySelector('#df-31b83299-bc04-4a2b-ba9b-8e24d15a2896');\n",
              "        const dataTable =\n",
              "          await google.colab.kernel.invokeFunction('convertToInteractive',\n",
              "                                                    [key], {});\n",
              "        if (!dataTable) return;\n",
              "\n",
              "        const docLinkHtml = 'Like what you see? Visit the ' +\n",
              "          '<a target=\"_blank\" href=https://colab.research.google.com/notebooks/data_table.ipynb>data table notebook</a>'\n",
              "          + ' to learn more about interactive tables.';\n",
              "        element.innerHTML = '';\n",
              "        dataTable['output_type'] = 'display_data';\n",
              "        await google.colab.output.renderOutput(dataTable, element);\n",
              "        const docLink = document.createElement('div');\n",
              "        docLink.innerHTML = docLinkHtml;\n",
              "        element.appendChild(docLink);\n",
              "      }\n",
              "    </script>\n",
              "  </div>\n",
              "\n",
              "\n",
              "<div id=\"df-d05f0c99-94fc-4ecd-a3ef-9b66ff20822d\">\n",
              "  <button class=\"colab-df-quickchart\" onclick=\"quickchart('df-d05f0c99-94fc-4ecd-a3ef-9b66ff20822d')\"\n",
              "            title=\"Suggest charts\"\n",
              "            style=\"display:none;\">\n",
              "\n",
              "<svg xmlns=\"http://www.w3.org/2000/svg\" height=\"24px\"viewBox=\"0 0 24 24\"\n",
              "     width=\"24px\">\n",
              "    <g>\n",
              "        <path d=\"M19 3H5c-1.1 0-2 .9-2 2v14c0 1.1.9 2 2 2h14c1.1 0 2-.9 2-2V5c0-1.1-.9-2-2-2zM9 17H7v-7h2v7zm4 0h-2V7h2v10zm4 0h-2v-4h2v4z\"/>\n",
              "    </g>\n",
              "</svg>\n",
              "  </button>\n",
              "\n",
              "<style>\n",
              "  .colab-df-quickchart {\n",
              "      --bg-color: #E8F0FE;\n",
              "      --fill-color: #1967D2;\n",
              "      --hover-bg-color: #E2EBFA;\n",
              "      --hover-fill-color: #174EA6;\n",
              "      --disabled-fill-color: #AAA;\n",
              "      --disabled-bg-color: #DDD;\n",
              "  }\n",
              "\n",
              "  [theme=dark] .colab-df-quickchart {\n",
              "      --bg-color: #3B4455;\n",
              "      --fill-color: #D2E3FC;\n",
              "      --hover-bg-color: #434B5C;\n",
              "      --hover-fill-color: #FFFFFF;\n",
              "      --disabled-bg-color: #3B4455;\n",
              "      --disabled-fill-color: #666;\n",
              "  }\n",
              "\n",
              "  .colab-df-quickchart {\n",
              "    background-color: var(--bg-color);\n",
              "    border: none;\n",
              "    border-radius: 50%;\n",
              "    cursor: pointer;\n",
              "    display: none;\n",
              "    fill: var(--fill-color);\n",
              "    height: 32px;\n",
              "    padding: 0;\n",
              "    width: 32px;\n",
              "  }\n",
              "\n",
              "  .colab-df-quickchart:hover {\n",
              "    background-color: var(--hover-bg-color);\n",
              "    box-shadow: 0 1px 2px rgba(60, 64, 67, 0.3), 0 1px 3px 1px rgba(60, 64, 67, 0.15);\n",
              "    fill: var(--button-hover-fill-color);\n",
              "  }\n",
              "\n",
              "  .colab-df-quickchart-complete:disabled,\n",
              "  .colab-df-quickchart-complete:disabled:hover {\n",
              "    background-color: var(--disabled-bg-color);\n",
              "    fill: var(--disabled-fill-color);\n",
              "    box-shadow: none;\n",
              "  }\n",
              "\n",
              "  .colab-df-spinner {\n",
              "    border: 2px solid var(--fill-color);\n",
              "    border-color: transparent;\n",
              "    border-bottom-color: var(--fill-color);\n",
              "    animation:\n",
              "      spin 1s steps(1) infinite;\n",
              "  }\n",
              "\n",
              "  @keyframes spin {\n",
              "    0% {\n",
              "      border-color: transparent;\n",
              "      border-bottom-color: var(--fill-color);\n",
              "      border-left-color: var(--fill-color);\n",
              "    }\n",
              "    20% {\n",
              "      border-color: transparent;\n",
              "      border-left-color: var(--fill-color);\n",
              "      border-top-color: var(--fill-color);\n",
              "    }\n",
              "    30% {\n",
              "      border-color: transparent;\n",
              "      border-left-color: var(--fill-color);\n",
              "      border-top-color: var(--fill-color);\n",
              "      border-right-color: var(--fill-color);\n",
              "    }\n",
              "    40% {\n",
              "      border-color: transparent;\n",
              "      border-right-color: var(--fill-color);\n",
              "      border-top-color: var(--fill-color);\n",
              "    }\n",
              "    60% {\n",
              "      border-color: transparent;\n",
              "      border-right-color: var(--fill-color);\n",
              "    }\n",
              "    80% {\n",
              "      border-color: transparent;\n",
              "      border-right-color: var(--fill-color);\n",
              "      border-bottom-color: var(--fill-color);\n",
              "    }\n",
              "    90% {\n",
              "      border-color: transparent;\n",
              "      border-bottom-color: var(--fill-color);\n",
              "    }\n",
              "  }\n",
              "</style>\n",
              "\n",
              "  <script>\n",
              "    async function quickchart(key) {\n",
              "      const quickchartButtonEl =\n",
              "        document.querySelector('#' + key + ' button');\n",
              "      quickchartButtonEl.disabled = true;  // To prevent multiple clicks.\n",
              "      quickchartButtonEl.classList.add('colab-df-spinner');\n",
              "      try {\n",
              "        const charts = await google.colab.kernel.invokeFunction(\n",
              "            'suggestCharts', [key], {});\n",
              "      } catch (error) {\n",
              "        console.error('Error during call to suggestCharts:', error);\n",
              "      }\n",
              "      quickchartButtonEl.classList.remove('colab-df-spinner');\n",
              "      quickchartButtonEl.classList.add('colab-df-quickchart-complete');\n",
              "    }\n",
              "    (() => {\n",
              "      let quickchartButtonEl =\n",
              "        document.querySelector('#df-d05f0c99-94fc-4ecd-a3ef-9b66ff20822d button');\n",
              "      quickchartButtonEl.style.display =\n",
              "        google.colab.kernel.accessAllowed ? 'block' : 'none';\n",
              "    })();\n",
              "  </script>\n",
              "</div>\n",
              "\n",
              "  <div id=\"id_339ef2fa-98f0-49ab-a491-8fbf2447aea2\">\n",
              "    <style>\n",
              "      .colab-df-generate {\n",
              "        background-color: #E8F0FE;\n",
              "        border: none;\n",
              "        border-radius: 50%;\n",
              "        cursor: pointer;\n",
              "        display: none;\n",
              "        fill: #1967D2;\n",
              "        height: 32px;\n",
              "        padding: 0 0 0 0;\n",
              "        width: 32px;\n",
              "      }\n",
              "\n",
              "      .colab-df-generate:hover {\n",
              "        background-color: #E2EBFA;\n",
              "        box-shadow: 0px 1px 2px rgba(60, 64, 67, 0.3), 0px 1px 3px 1px rgba(60, 64, 67, 0.15);\n",
              "        fill: #174EA6;\n",
              "      }\n",
              "\n",
              "      [theme=dark] .colab-df-generate {\n",
              "        background-color: #3B4455;\n",
              "        fill: #D2E3FC;\n",
              "      }\n",
              "\n",
              "      [theme=dark] .colab-df-generate:hover {\n",
              "        background-color: #434B5C;\n",
              "        box-shadow: 0px 1px 3px 1px rgba(0, 0, 0, 0.15);\n",
              "        filter: drop-shadow(0px 1px 2px rgba(0, 0, 0, 0.3));\n",
              "        fill: #FFFFFF;\n",
              "      }\n",
              "    </style>\n",
              "    <button class=\"colab-df-generate\" onclick=\"generateWithVariable('df')\"\n",
              "            title=\"Generate code using this dataframe.\"\n",
              "            style=\"display:none;\">\n",
              "\n",
              "  <svg xmlns=\"http://www.w3.org/2000/svg\" height=\"24px\"viewBox=\"0 0 24 24\"\n",
              "       width=\"24px\">\n",
              "    <path d=\"M7,19H8.4L18.45,9,17,7.55,7,17.6ZM5,21V16.75L18.45,3.32a2,2,0,0,1,2.83,0l1.4,1.43a1.91,1.91,0,0,1,.58,1.4,1.91,1.91,0,0,1-.58,1.4L9.25,21ZM18.45,9,17,7.55Zm-12,3A5.31,5.31,0,0,0,4.9,8.1,5.31,5.31,0,0,0,1,6.5,5.31,5.31,0,0,0,4.9,4.9,5.31,5.31,0,0,0,6.5,1,5.31,5.31,0,0,0,8.1,4.9,5.31,5.31,0,0,0,12,6.5,5.46,5.46,0,0,0,6.5,12Z\"/>\n",
              "  </svg>\n",
              "    </button>\n",
              "    <script>\n",
              "      (() => {\n",
              "      const buttonEl =\n",
              "        document.querySelector('#id_339ef2fa-98f0-49ab-a491-8fbf2447aea2 button.colab-df-generate');\n",
              "      buttonEl.style.display =\n",
              "        google.colab.kernel.accessAllowed ? 'block' : 'none';\n",
              "\n",
              "      buttonEl.onclick = () => {\n",
              "        google.colab.notebook.generateWithVariable('df');\n",
              "      }\n",
              "      })();\n",
              "    </script>\n",
              "  </div>\n",
              "\n",
              "    </div>\n",
              "  </div>\n"
            ],
            "application/vnd.google.colaboratory.intrinsic+json": {
              "type": "dataframe",
              "variable_name": "df",
              "summary": "{\n  \"name\": \"df\",\n  \"rows\": 8,\n  \"fields\": [\n    {\n      \"column\": \"qubit pair\",\n      \"properties\": {\n        \"dtype\": \"object\",\n        \"semantic_type\": \"\",\n        \"description\": \"\"\n      }\n    },\n    {\n      \"column\": \"alpha\",\n      \"properties\": {\n        \"dtype\": \"number\",\n        \"std\": 0.03894938212073367,\n        \"min\": 0.8963129505077614,\n        \"max\": 0.9897995039166436,\n        \"num_unique_values\": 8,\n        \"samples\": [\n          0.9192025658175343,\n          0.9897995039166436,\n          0.8963129505077614\n        ],\n        \"semantic_type\": \"\",\n        \"description\": \"\"\n      }\n    },\n    {\n      \"column\": \"process fidelity\",\n      \"properties\": {\n        \"dtype\": \"number\",\n        \"std\": 0.03651504573818782,\n        \"min\": 0.9027933911010262,\n        \"max\": 0.9904370349218534,\n        \"num_unique_values\": 8,\n        \"samples\": [\n          0.9242524054539385,\n          0.9904370349218534,\n          0.9027933911010262\n        ],\n        \"semantic_type\": \"\",\n        \"description\": \"\"\n      }\n    }\n  ]\n}"
            }
          },
          "metadata": {},
          "execution_count": 53
        }
      ]
    },
    {
      "cell_type": "code",
      "source": [
        "# Compute layer fidelity\n",
        "chain_lens = np.arange(2, len(pfs), 1)\n",
        "chain_fids = []\n",
        "for length in chain_lens:\n",
        "     w = length + 1  # window size\n",
        "     fid_w = max(\n",
        "          np.sqrt(pfs[s]) * np.prod(pfs[s + 1 : s + w - 1]) * np.sqrt(pfs[s + w - 1]) for s in range(len(pfs) - w + 1))\n",
        "     chain_fids.append(fid_w)"
      ],
      "metadata": {
        "id": "st9zf1ISPnfP"
      },
      "execution_count": null,
      "outputs": []
    },
    {
      "cell_type": "code",
      "source": [
        "# Plot LF by chain length\n",
        "plt.title(f\"Backend: {BACKEND.name}\")\n",
        "plt.plot(\n",
        "    chain_lens,\n",
        "    chain_fids,\n",
        "    marker=\"o\",\n",
        "    linestyle=\"-\",\n",
        ")\n",
        "plt.xlim(0, chain_lens[-1] * 1.05)\n",
        "plt.ylim(0.95 * min(chain_fids), 1)\n",
        "plt.ylabel(\"Layer Fidelity\")\n",
        "plt.xlabel(\"Chain Length\")\n",
        "plt.grid()\n",
        "plt.show()"
      ],
      "metadata": {
        "colab": {
          "base_uri": "https://localhost:8080/",
          "height": 472
        },
        "id": "XrmWHB_2Prpt",
        "outputId": "ec5281a9-02a5-4431-d668-6814e6a27b8b"
      },
      "execution_count": null,
      "outputs": [
        {
          "output_type": "display_data",
          "data": {
            "text/plain": [
              "<Figure size 640x480 with 1 Axes>"
            ],
            "image/png": "[encoded data removed]"
          },
          "metadata": {}
        }
      ]
    },
    {
      "cell_type": "code",
      "source": [
        "# Plot EPLG by chain length\n",
        "num_2q_gates = [length - 1 for length in chain_lens]\n",
        "chain_eplgs = [\n",
        "    1 - (fid ** (1 / num_2q)) for num_2q, fid in zip(num_2q_gates, chain_fids)\n",
        "]\n",
        "plt.title(f\"Backend: {BACKEND.name}\")\n",
        "plt.plot(\n",
        "    chain_lens,\n",
        "    chain_eplgs,\n",
        "    marker=\"o\",\n",
        "    linestyle=\"-\",\n",
        ")\n",
        "plt.xlim(0, chain_lens[-1] * 1.05)\n",
        "plt.ylabel(\"Error per Layered Gates\")\n",
        "plt.xlabel(\"Chain Length\")\n",
        "plt.grid()\n",
        "plt.show()"
      ],
      "metadata": {
        "colab": {
          "base_uri": "https://localhost:8080/",
          "height": 472
        },
        "id": "gSAMVHg-Pv-N",
        "outputId": "9b69c845-c590-4b6f-9244-766775f7d325"
      },
      "execution_count": null,
      "outputs": [
        {
          "output_type": "display_data",
          "data": {
            "text/plain": [
              "<Figure size 640x480 with 1 Axes>"
            ],
            "image/png": "[encoded data removed]"
          },
          "metadata": {}
        }
      ]
    },
    {
      "cell_type": "code",
      "source": [
        "import datetime\n",
        "from IPython.display import HTML, display\n",
        "\n",
        "\n",
        "def qiskit_copyright(line=\"\", cell=None):\n",
        "    \"\"\"IBM copyright\"\"\"\n",
        "    now = datetime.datetime.now()\n",
        "\n",
        "    html = \"<div style='width: 100%; background-color:#d5d9e0;\"\n",
        "    html += \"padding-left: 10px; padding-bottom: 10px; padding-right: 10px; padding-top: 5px'>\"\n",
        "    html += \"<p>&copy; Copyright IBM 2017, %s.</p>\" % now.year\n",
        "    html += \"<p>This code is licensed under the Apache License, Version 2.0. You may<br>\"\n",
        "    html += \"obtain a copy of this license in the LICENSE.txt file in the root directory<br> \"\n",
        "    html += \"of this source tree or at http://www.apache.org/licenses/LICENSE-2.0.\"\n",
        "\n",
        "    html += \"<p>Any modifications or derivative works of this code must retain this<br>\"\n",
        "    html += \"copyright notice, and modified files need to carry a notice indicating<br>\"\n",
        "    html += \"that they have been altered from the originals.</p>\"\n",
        "    html += \"</div>\"\n",
        "    return display(HTML(html))"
      ],
      "metadata": {
        "id": "AYYPBmBvPzSB"
      },
      "execution_count": null,
      "outputs": []
    },
    {
      "cell_type": "code",
      "source": [],
      "metadata": {
        "id": "cWRphvs1P7El"
      },
      "execution_count": null,
      "outputs": []
    }
  ]
}